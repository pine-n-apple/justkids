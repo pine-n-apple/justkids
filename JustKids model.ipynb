{
 "cells": [
  {
   "cell_type": "markdown",
   "metadata": {},
   "source": [
    "# Модель прогнозирования оттока пользователей JustKids"
   ]
  },
  {
   "cell_type": "code",
   "execution_count": 1,
   "metadata": {},
   "outputs": [
    {
     "data": {
      "text/html": [
       "<script>\n",
       "code_show=true; \n",
       "function code_toggle() {\n",
       " if (code_show){\n",
       " $('div.input').hide();\n",
       " } else {\n",
       " $('div.input').show();\n",
       " }\n",
       " code_show = !code_show\n",
       "} \n",
       "$( document ).ready(code_toggle);\n",
       "</script>\n",
       "<form action=\"javascript:code_toggle()\"><input type=\"submit\" value=\"Нажмите, чтобы показать/скрыть код\"></form>"
      ],
      "text/plain": [
       "<IPython.core.display.HTML object>"
      ]
     },
     "execution_count": 1,
     "metadata": {},
     "output_type": "execute_result"
    }
   ],
   "source": [
    "from IPython.display import HTML\n",
    "\n",
    "HTML('''<script>\n",
    "code_show=true; \n",
    "function code_toggle() {\n",
    " if (code_show){\n",
    " $('div.input').hide();\n",
    " } else {\n",
    " $('div.input').show();\n",
    " }\n",
    " code_show = !code_show\n",
    "} \n",
    "$( document ).ready(code_toggle);\n",
    "</script>\n",
    "<form action=\"javascript:code_toggle()\"><input type=\"submit\" value=\"Нажмите, чтобы показать/скрыть код\"></form>''')"
   ]
  },
  {
   "cell_type": "code",
   "execution_count": 2,
   "metadata": {},
   "outputs": [],
   "source": [
    "import pandas as pd\n",
    "import numpy as np\n",
    "\n",
    "#библиотеки для визулизации\n",
    "import matplotlib.pyplot as plt\n",
    "import seaborn as sns\n",
    "%matplotlib inline\n",
    "\n",
    "#библиотеки машинного обучения\n",
    "from sklearn.model_selection import train_test_split\n",
    "from sklearn.ensemble import RandomForestClassifier\n",
    "from sklearn.linear_model import LogisticRegression\n",
    "from sklearn.metrics import accuracy_score, precision_score, recall_score\n",
    "\n",
    "pd.set_option('display.max_columns', 30)\n",
    "\n",
    "# отключим предупреждения Anaconda\n",
    "import warnings\n",
    "warnings.simplefilter('ignore')"
   ]
  },
  {
   "cell_type": "code",
   "execution_count": 3,
   "metadata": {},
   "outputs": [],
   "source": [
    "df = pd.read_csv('Students_churn_matrix_2020_10_15.csv')"
   ]
  },
  {
   "cell_type": "markdown",
   "metadata": {},
   "source": [
    "Для построения модели были использованы данные по студентам с учетом следующих условий:\n",
    "1. Дата первой активности студента не должна быть позже, чем 8 недель назад от текущей даты. Это позволяет учесть только тех студентов, которые \"прожили\" 0-3 неделю, для которых мы рассчитывали показатели и после этого прошли еще 4 недели, по которым мы определяем отток  \n",
    "\n",
    "\n",
    "2. Дата первой активности равна дате первого урока студента при условии, что у этого урока указан id (pl.id is not null), урок не является пробным уроком (pl.type != 'trial'), урок имеет статус 2 или 4 (pl.status = 2 or pl.status = 4)  \n",
    "\n",
    "\n",
    "3. Дата последней активности определяется исходя из тех же условий, что и дата первой активности  \n",
    "\n",
    "\n",
    "4. Выборка исключает тех студентов, у которых на балансе -1 урок (lc.counter != -1)  "
   ]
  },
  {
   "cell_type": "markdown",
   "metadata": {},
   "source": [
    "**В данной модели под \"оттоком\" понимается отсутствие активности у пользователя (прохождение платных уроков) в течение 4х недель.**"
   ]
  },
  {
   "cell_type": "markdown",
   "metadata": {},
   "source": [
    "## 1. Изучение данных и предобработка"
   ]
  },
  {
   "cell_type": "markdown",
   "metadata": {},
   "source": [
    "Посмотрим на данные:"
   ]
  },
  {
   "cell_type": "code",
   "execution_count": 4,
   "metadata": {},
   "outputs": [
    {
     "data": {
      "text/html": [
       "<div>\n",
       "<style scoped>\n",
       "    .dataframe tbody tr th:only-of-type {\n",
       "        vertical-align: middle;\n",
       "    }\n",
       "\n",
       "    .dataframe tbody tr th {\n",
       "        vertical-align: top;\n",
       "    }\n",
       "\n",
       "    .dataframe thead th {\n",
       "        text-align: right;\n",
       "    }\n",
       "</style>\n",
       "<table border=\"1\" class=\"dataframe\">\n",
       "  <thead>\n",
       "    <tr style=\"text-align: right;\">\n",
       "      <th></th>\n",
       "      <th>id</th>\n",
       "      <th>first_activity</th>\n",
       "      <th>last_activity</th>\n",
       "      <th>age</th>\n",
       "      <th>gender</th>\n",
       "      <th>language_level</th>\n",
       "      <th>utm_source</th>\n",
       "      <th>utm_medium</th>\n",
       "      <th>is_trial</th>\n",
       "      <th>is_trial_completed</th>\n",
       "      <th>new</th>\n",
       "      <th>completed</th>\n",
       "      <th>declined</th>\n",
       "      <th>student_skipped</th>\n",
       "      <th>teacher_skipped</th>\n",
       "      <th>canceled</th>\n",
       "      <th>changes</th>\n",
       "      <th>is_lead_successful</th>\n",
       "      <th>amount_paid</th>\n",
       "      <th>payments</th>\n",
       "      <th>promocode</th>\n",
       "      <th>is_churn</th>\n",
       "    </tr>\n",
       "  </thead>\n",
       "  <tbody>\n",
       "    <tr>\n",
       "      <th>0</th>\n",
       "      <td>13577</td>\n",
       "      <td>2020-03-03</td>\n",
       "      <td>2020-06-18</td>\n",
       "      <td>13</td>\n",
       "      <td>1</td>\n",
       "      <td>4</td>\n",
       "      <td>fb</td>\n",
       "      <td>fb</td>\n",
       "      <td>0</td>\n",
       "      <td>0</td>\n",
       "      <td>0</td>\n",
       "      <td>10</td>\n",
       "      <td>0</td>\n",
       "      <td>0</td>\n",
       "      <td>0</td>\n",
       "      <td>0</td>\n",
       "      <td>1</td>\n",
       "      <td>1</td>\n",
       "      <td>0.0</td>\n",
       "      <td>0</td>\n",
       "      <td>none</td>\n",
       "      <td>1</td>\n",
       "    </tr>\n",
       "    <tr>\n",
       "      <th>1</th>\n",
       "      <td>13355</td>\n",
       "      <td>2020-02-29</td>\n",
       "      <td>2020-10-06</td>\n",
       "      <td>14</td>\n",
       "      <td>2</td>\n",
       "      <td>5</td>\n",
       "      <td>fb</td>\n",
       "      <td>none</td>\n",
       "      <td>0</td>\n",
       "      <td>0</td>\n",
       "      <td>0</td>\n",
       "      <td>9</td>\n",
       "      <td>0</td>\n",
       "      <td>1</td>\n",
       "      <td>0</td>\n",
       "      <td>0</td>\n",
       "      <td>2</td>\n",
       "      <td>1</td>\n",
       "      <td>1880.0</td>\n",
       "      <td>1</td>\n",
       "      <td>none</td>\n",
       "      <td>0</td>\n",
       "    </tr>\n",
       "    <tr>\n",
       "      <th>2</th>\n",
       "      <td>13120</td>\n",
       "      <td>2020-03-07</td>\n",
       "      <td>2020-09-30</td>\n",
       "      <td>15</td>\n",
       "      <td>1</td>\n",
       "      <td>6</td>\n",
       "      <td>fb</td>\n",
       "      <td>fb</td>\n",
       "      <td>0</td>\n",
       "      <td>0</td>\n",
       "      <td>0</td>\n",
       "      <td>10</td>\n",
       "      <td>0</td>\n",
       "      <td>0</td>\n",
       "      <td>0</td>\n",
       "      <td>0</td>\n",
       "      <td>0</td>\n",
       "      <td>1</td>\n",
       "      <td>2520.0</td>\n",
       "      <td>1</td>\n",
       "      <td>none</td>\n",
       "      <td>0</td>\n",
       "    </tr>\n",
       "    <tr>\n",
       "      <th>3</th>\n",
       "      <td>13215</td>\n",
       "      <td>2020-03-12</td>\n",
       "      <td>2020-04-29</td>\n",
       "      <td>8</td>\n",
       "      <td>2</td>\n",
       "      <td>3</td>\n",
       "      <td>fb</td>\n",
       "      <td>fb</td>\n",
       "      <td>0</td>\n",
       "      <td>0</td>\n",
       "      <td>0</td>\n",
       "      <td>6</td>\n",
       "      <td>0</td>\n",
       "      <td>0</td>\n",
       "      <td>0</td>\n",
       "      <td>0</td>\n",
       "      <td>0</td>\n",
       "      <td>1</td>\n",
       "      <td>1880.0</td>\n",
       "      <td>1</td>\n",
       "      <td>none</td>\n",
       "      <td>1</td>\n",
       "    </tr>\n",
       "    <tr>\n",
       "      <th>4</th>\n",
       "      <td>13212</td>\n",
       "      <td>2020-03-14</td>\n",
       "      <td>2020-05-02</td>\n",
       "      <td>15</td>\n",
       "      <td>2</td>\n",
       "      <td>4</td>\n",
       "      <td>fb</td>\n",
       "      <td>ig</td>\n",
       "      <td>0</td>\n",
       "      <td>0</td>\n",
       "      <td>0</td>\n",
       "      <td>6</td>\n",
       "      <td>0</td>\n",
       "      <td>0</td>\n",
       "      <td>1</td>\n",
       "      <td>0</td>\n",
       "      <td>0</td>\n",
       "      <td>1</td>\n",
       "      <td>1880.0</td>\n",
       "      <td>1</td>\n",
       "      <td>none</td>\n",
       "      <td>1</td>\n",
       "    </tr>\n",
       "  </tbody>\n",
       "</table>\n",
       "</div>"
      ],
      "text/plain": [
       "      id first_activity last_activity  age gender language_level utm_source  \\\n",
       "0  13577     2020-03-03    2020-06-18   13      1              4         fb   \n",
       "1  13355     2020-02-29    2020-10-06   14      2              5         fb   \n",
       "2  13120     2020-03-07    2020-09-30   15      1              6         fb   \n",
       "3  13215     2020-03-12    2020-04-29    8      2              3         fb   \n",
       "4  13212     2020-03-14    2020-05-02   15      2              4         fb   \n",
       "\n",
       "  utm_medium  is_trial  is_trial_completed  new  completed  declined  \\\n",
       "0         fb         0                   0    0         10         0   \n",
       "1       none         0                   0    0          9         0   \n",
       "2         fb         0                   0    0         10         0   \n",
       "3         fb         0                   0    0          6         0   \n",
       "4         ig         0                   0    0          6         0   \n",
       "\n",
       "   student_skipped  teacher_skipped  canceled  changes  is_lead_successful  \\\n",
       "0                0                0         0        1                   1   \n",
       "1                1                0         0        2                   1   \n",
       "2                0                0         0        0                   1   \n",
       "3                0                0         0        0                   1   \n",
       "4                0                1         0        0                   1   \n",
       "\n",
       "   amount_paid  payments promocode  is_churn  \n",
       "0          0.0         0      none         1  \n",
       "1       1880.0         1      none         0  \n",
       "2       2520.0         1      none         0  \n",
       "3       1880.0         1      none         1  \n",
       "4       1880.0         1      none         1  "
      ]
     },
     "execution_count": 4,
     "metadata": {},
     "output_type": "execute_result"
    }
   ],
   "source": [
    "df.head()"
   ]
  },
  {
   "cell_type": "code",
   "execution_count": 5,
   "metadata": {},
   "outputs": [
    {
     "data": {
      "text/plain": [
       "1    3942\n",
       "0    2296\n",
       "Name: is_churn, dtype: int64"
      ]
     },
     "execution_count": 5,
     "metadata": {},
     "output_type": "execute_result"
    }
   ],
   "source": [
    "df['is_churn'].value_counts()"
   ]
  },
  {
   "cell_type": "markdown",
   "metadata": {},
   "source": [
    "Проверим типы данных и наличие пропусков:"
   ]
  },
  {
   "cell_type": "code",
   "execution_count": 6,
   "metadata": {},
   "outputs": [
    {
     "name": "stdout",
     "output_type": "stream",
     "text": [
      "<class 'pandas.core.frame.DataFrame'>\n",
      "RangeIndex: 6238 entries, 0 to 6237\n",
      "Data columns (total 22 columns):\n",
      " #   Column              Non-Null Count  Dtype  \n",
      "---  ------              --------------  -----  \n",
      " 0   id                  6238 non-null   int64  \n",
      " 1   first_activity      6238 non-null   object \n",
      " 2   last_activity       6238 non-null   object \n",
      " 3   age                 6238 non-null   int64  \n",
      " 4   gender              6238 non-null   object \n",
      " 5   language_level      6238 non-null   object \n",
      " 6   utm_source          6238 non-null   object \n",
      " 7   utm_medium          6224 non-null   object \n",
      " 8   is_trial            6238 non-null   int64  \n",
      " 9   is_trial_completed  6238 non-null   int64  \n",
      " 10  new                 6238 non-null   int64  \n",
      " 11  completed           6238 non-null   int64  \n",
      " 12  declined            6238 non-null   int64  \n",
      " 13  student_skipped     6238 non-null   int64  \n",
      " 14  teacher_skipped     6238 non-null   int64  \n",
      " 15  canceled            6238 non-null   int64  \n",
      " 16  changes             6238 non-null   int64  \n",
      " 17  is_lead_successful  6238 non-null   int64  \n",
      " 18  amount_paid         6238 non-null   float64\n",
      " 19  payments            6238 non-null   int64  \n",
      " 20  promocode           6238 non-null   object \n",
      " 21  is_churn            6238 non-null   int64  \n",
      "dtypes: float64(1), int64(14), object(7)\n",
      "memory usage: 1.0+ MB\n"
     ]
    }
   ],
   "source": [
    "df.info()"
   ]
  },
  {
   "cell_type": "markdown",
   "metadata": {},
   "source": [
    "Признаки в датасете преимущественно числовые, но есть также и категориальные, которые нам предстоит преобразовать перед тем, как обучать модель.  \n",
    "Пропуски присутствуют только по признаку utm_medium, 14 пропусков, заменим пропуски на 'none'."
   ]
  },
  {
   "cell_type": "code",
   "execution_count": 7,
   "metadata": {},
   "outputs": [],
   "source": [
    "df['utm_medium'] = df['utm_medium'].fillna('none')"
   ]
  },
  {
   "cell_type": "markdown",
   "metadata": {},
   "source": [
    "Заменим также тип first_activity и last_activity на формат даты и времени:"
   ]
  },
  {
   "cell_type": "code",
   "execution_count": 8,
   "metadata": {},
   "outputs": [],
   "source": [
    "df['first_activity'] = pd.to_datetime(df['first_activity'], format='%Y-%m-%d')\n",
    "df['last_activity'] = pd.to_datetime(df['last_activity'], format='%Y-%m-%d')"
   ]
  },
  {
   "cell_type": "markdown",
   "metadata": {},
   "source": [
    "Проверим на наличие некорректных данных:"
   ]
  },
  {
   "cell_type": "code",
   "execution_count": 9,
   "metadata": {},
   "outputs": [
    {
     "data": {
      "text/html": [
       "<div>\n",
       "<style scoped>\n",
       "    .dataframe tbody tr th:only-of-type {\n",
       "        vertical-align: middle;\n",
       "    }\n",
       "\n",
       "    .dataframe tbody tr th {\n",
       "        vertical-align: top;\n",
       "    }\n",
       "\n",
       "    .dataframe thead th {\n",
       "        text-align: right;\n",
       "    }\n",
       "</style>\n",
       "<table border=\"1\" class=\"dataframe\">\n",
       "  <thead>\n",
       "    <tr style=\"text-align: right;\">\n",
       "      <th></th>\n",
       "      <th>id</th>\n",
       "      <th>age</th>\n",
       "      <th>is_trial</th>\n",
       "      <th>is_trial_completed</th>\n",
       "      <th>new</th>\n",
       "      <th>completed</th>\n",
       "      <th>declined</th>\n",
       "      <th>student_skipped</th>\n",
       "      <th>teacher_skipped</th>\n",
       "      <th>canceled</th>\n",
       "      <th>changes</th>\n",
       "      <th>is_lead_successful</th>\n",
       "      <th>amount_paid</th>\n",
       "      <th>payments</th>\n",
       "      <th>is_churn</th>\n",
       "    </tr>\n",
       "  </thead>\n",
       "  <tbody>\n",
       "    <tr>\n",
       "      <th>count</th>\n",
       "      <td>6238.000000</td>\n",
       "      <td>6238.000000</td>\n",
       "      <td>6238.000000</td>\n",
       "      <td>6238.000000</td>\n",
       "      <td>6238.000000</td>\n",
       "      <td>6238.000000</td>\n",
       "      <td>6238.000000</td>\n",
       "      <td>6238.000000</td>\n",
       "      <td>6238.000000</td>\n",
       "      <td>6238.000000</td>\n",
       "      <td>6238.000000</td>\n",
       "      <td>6238.000000</td>\n",
       "      <td>6238.000000</td>\n",
       "      <td>6238.000000</td>\n",
       "      <td>6238.000000</td>\n",
       "    </tr>\n",
       "    <tr>\n",
       "      <th>mean</th>\n",
       "      <td>16292.935236</td>\n",
       "      <td>9.460725</td>\n",
       "      <td>0.457358</td>\n",
       "      <td>0.422892</td>\n",
       "      <td>0.048092</td>\n",
       "      <td>8.841135</td>\n",
       "      <td>0.186117</td>\n",
       "      <td>0.415037</td>\n",
       "      <td>0.016832</td>\n",
       "      <td>0.156781</td>\n",
       "      <td>0.820295</td>\n",
       "      <td>0.593459</td>\n",
       "      <td>1974.025636</td>\n",
       "      <td>0.800417</td>\n",
       "      <td>0.631933</td>\n",
       "    </tr>\n",
       "    <tr>\n",
       "      <th>std</th>\n",
       "      <td>8830.965756</td>\n",
       "      <td>3.579686</td>\n",
       "      <td>0.498218</td>\n",
       "      <td>0.494058</td>\n",
       "      <td>0.447603</td>\n",
       "      <td>2.960581</td>\n",
       "      <td>0.479317</td>\n",
       "      <td>0.802480</td>\n",
       "      <td>0.131122</td>\n",
       "      <td>0.457715</td>\n",
       "      <td>1.595425</td>\n",
       "      <td>0.491227</td>\n",
       "      <td>1850.283731</td>\n",
       "      <td>0.615199</td>\n",
       "      <td>0.482318</td>\n",
       "    </tr>\n",
       "    <tr>\n",
       "      <th>min</th>\n",
       "      <td>49.000000</td>\n",
       "      <td>0.000000</td>\n",
       "      <td>0.000000</td>\n",
       "      <td>0.000000</td>\n",
       "      <td>0.000000</td>\n",
       "      <td>0.000000</td>\n",
       "      <td>0.000000</td>\n",
       "      <td>0.000000</td>\n",
       "      <td>0.000000</td>\n",
       "      <td>0.000000</td>\n",
       "      <td>0.000000</td>\n",
       "      <td>0.000000</td>\n",
       "      <td>0.000000</td>\n",
       "      <td>0.000000</td>\n",
       "      <td>0.000000</td>\n",
       "    </tr>\n",
       "    <tr>\n",
       "      <th>25%</th>\n",
       "      <td>8799.750000</td>\n",
       "      <td>7.000000</td>\n",
       "      <td>0.000000</td>\n",
       "      <td>0.000000</td>\n",
       "      <td>0.000000</td>\n",
       "      <td>7.000000</td>\n",
       "      <td>0.000000</td>\n",
       "      <td>0.000000</td>\n",
       "      <td>0.000000</td>\n",
       "      <td>0.000000</td>\n",
       "      <td>0.000000</td>\n",
       "      <td>0.000000</td>\n",
       "      <td>0.000000</td>\n",
       "      <td>0.000000</td>\n",
       "      <td>0.000000</td>\n",
       "    </tr>\n",
       "    <tr>\n",
       "      <th>50%</th>\n",
       "      <td>16262.000000</td>\n",
       "      <td>9.000000</td>\n",
       "      <td>0.000000</td>\n",
       "      <td>0.000000</td>\n",
       "      <td>0.000000</td>\n",
       "      <td>9.000000</td>\n",
       "      <td>0.000000</td>\n",
       "      <td>0.000000</td>\n",
       "      <td>0.000000</td>\n",
       "      <td>0.000000</td>\n",
       "      <td>0.000000</td>\n",
       "      <td>1.000000</td>\n",
       "      <td>1880.000000</td>\n",
       "      <td>1.000000</td>\n",
       "      <td>1.000000</td>\n",
       "    </tr>\n",
       "    <tr>\n",
       "      <th>75%</th>\n",
       "      <td>23983.500000</td>\n",
       "      <td>11.000000</td>\n",
       "      <td>1.000000</td>\n",
       "      <td>1.000000</td>\n",
       "      <td>0.000000</td>\n",
       "      <td>10.000000</td>\n",
       "      <td>0.000000</td>\n",
       "      <td>1.000000</td>\n",
       "      <td>0.000000</td>\n",
       "      <td>0.000000</td>\n",
       "      <td>1.000000</td>\n",
       "      <td>1.000000</td>\n",
       "      <td>2520.000000</td>\n",
       "      <td>1.000000</td>\n",
       "      <td>1.000000</td>\n",
       "    </tr>\n",
       "    <tr>\n",
       "      <th>max</th>\n",
       "      <td>31855.000000</td>\n",
       "      <td>155.000000</td>\n",
       "      <td>1.000000</td>\n",
       "      <td>1.000000</td>\n",
       "      <td>12.000000</td>\n",
       "      <td>41.000000</td>\n",
       "      <td>7.000000</td>\n",
       "      <td>10.000000</td>\n",
       "      <td>2.000000</td>\n",
       "      <td>10.000000</td>\n",
       "      <td>26.000000</td>\n",
       "      <td>1.000000</td>\n",
       "      <td>21520.000000</td>\n",
       "      <td>5.000000</td>\n",
       "      <td>1.000000</td>\n",
       "    </tr>\n",
       "  </tbody>\n",
       "</table>\n",
       "</div>"
      ],
      "text/plain": [
       "                 id          age     is_trial  is_trial_completed  \\\n",
       "count   6238.000000  6238.000000  6238.000000         6238.000000   \n",
       "mean   16292.935236     9.460725     0.457358            0.422892   \n",
       "std     8830.965756     3.579686     0.498218            0.494058   \n",
       "min       49.000000     0.000000     0.000000            0.000000   \n",
       "25%     8799.750000     7.000000     0.000000            0.000000   \n",
       "50%    16262.000000     9.000000     0.000000            0.000000   \n",
       "75%    23983.500000    11.000000     1.000000            1.000000   \n",
       "max    31855.000000   155.000000     1.000000            1.000000   \n",
       "\n",
       "               new    completed     declined  student_skipped  \\\n",
       "count  6238.000000  6238.000000  6238.000000      6238.000000   \n",
       "mean      0.048092     8.841135     0.186117         0.415037   \n",
       "std       0.447603     2.960581     0.479317         0.802480   \n",
       "min       0.000000     0.000000     0.000000         0.000000   \n",
       "25%       0.000000     7.000000     0.000000         0.000000   \n",
       "50%       0.000000     9.000000     0.000000         0.000000   \n",
       "75%       0.000000    10.000000     0.000000         1.000000   \n",
       "max      12.000000    41.000000     7.000000        10.000000   \n",
       "\n",
       "       teacher_skipped     canceled      changes  is_lead_successful  \\\n",
       "count      6238.000000  6238.000000  6238.000000         6238.000000   \n",
       "mean          0.016832     0.156781     0.820295            0.593459   \n",
       "std           0.131122     0.457715     1.595425            0.491227   \n",
       "min           0.000000     0.000000     0.000000            0.000000   \n",
       "25%           0.000000     0.000000     0.000000            0.000000   \n",
       "50%           0.000000     0.000000     0.000000            1.000000   \n",
       "75%           0.000000     0.000000     1.000000            1.000000   \n",
       "max           2.000000    10.000000    26.000000            1.000000   \n",
       "\n",
       "        amount_paid     payments     is_churn  \n",
       "count   6238.000000  6238.000000  6238.000000  \n",
       "mean    1974.025636     0.800417     0.631933  \n",
       "std     1850.283731     0.615199     0.482318  \n",
       "min        0.000000     0.000000     0.000000  \n",
       "25%        0.000000     0.000000     0.000000  \n",
       "50%     1880.000000     1.000000     1.000000  \n",
       "75%     2520.000000     1.000000     1.000000  \n",
       "max    21520.000000     5.000000     1.000000  "
      ]
     },
     "execution_count": 9,
     "metadata": {},
     "output_type": "execute_result"
    }
   ],
   "source": [
    "df.describe()"
   ]
  },
  {
   "cell_type": "markdown",
   "metadata": {},
   "source": [
    "Можно заметить, что максиальное значение возраста - 155 лет, минимальное - 0 лет. Очевидно, что это некорретные данные. \n",
    "Было принято решение не использовать такой признак, как возраст, при построении модели."
   ]
  },
  {
   "cell_type": "markdown",
   "metadata": {},
   "source": [
    "#### Обработка дубликатов."
   ]
  },
  {
   "cell_type": "markdown",
   "metadata": {},
   "source": [
    "Проверим, что в данных нет дублирования по id студента:"
   ]
  },
  {
   "cell_type": "code",
   "execution_count": 10,
   "metadata": {},
   "outputs": [],
   "source": [
    "duplicated_ids = df['id'].value_counts().sort_values(ascending = False).reset_index()\n",
    "duplicated_ids = duplicated_ids.query('id>1')\n",
    "duplicated_ids_list = duplicated_ids['index'].unique()"
   ]
  },
  {
   "cell_type": "code",
   "execution_count": 11,
   "metadata": {
    "scrolled": true
   },
   "outputs": [
    {
     "data": {
      "text/plain": [
       "56"
      ]
     },
     "execution_count": 11,
     "metadata": {},
     "output_type": "execute_result"
    }
   ],
   "source": [
    "len(duplicated_ids_list)"
   ]
  },
  {
   "cell_type": "markdown",
   "metadata": {},
   "source": [
    "Было обнаружено, что в датасете есть студенты, у которых дублируется информация. \n",
    "Было выявлено, что это связано:\n",
    "\n",
    "1. с тем, что некоторые студенты за первые 4 недели оплачивали уроки более 1 раза и для одного раза использовали промокод, для второго - нет. Было принято решение оставить строку с промокодом.\n",
    "\n",
    "\n",
    "2. со столбцами 'is_lead_successful' и 'is_trial': в некоторых ситуациях id студента один, а id лидов для этого студента - больше одного. При этом один лид успешно реализован => значение 'is_lead_successful' = 1, а другой - нет, значение 0. Аналогичная ситуация для пробных уроков.\n",
    "\n",
    "    Какое было принято решение для обработки таких студентов:\n",
    "    * если у студента есть два разных значения is_lead_successful (0 и 1) => оставляем только 1\n",
    "    * если у студента есть два разных значения is_trial (0 и 1) => оставляем только 1"
   ]
  },
  {
   "cell_type": "markdown",
   "metadata": {},
   "source": [
    "**Порядок действий для обработки дубликатов по промокоду:**  \n",
    "1. Выделим список тех студентов, у которых дублирование связано с промокодами.\n",
    "2. Очистим датасет от этих студентов.\n",
    "3. Добавим к датасету этих студентов вновь, но оставим только одну строку для каждого студента, с промокодом"
   ]
  },
  {
   "cell_type": "code",
   "execution_count": 12,
   "metadata": {},
   "outputs": [
    {
     "data": {
      "text/plain": [
       "7"
      ]
     },
     "execution_count": 12,
     "metadata": {},
     "output_type": "execute_result"
    }
   ],
   "source": [
    "mult_promocode = (df.query('id in @duplicated_ids_list')\n",
    "                   .groupby('id')\n",
    "                   .agg({'promocode':'nunique'})\n",
    "                   .reset_index()\n",
    "                )\n",
    "mult_promocode = mult_promocode.query('promocode > 1')\n",
    "len(mult_promocode)"
   ]
  },
  {
   "cell_type": "code",
   "execution_count": 13,
   "metadata": {},
   "outputs": [],
   "source": [
    "mult_promocode_list = mult_promocode['id'].unique()"
   ]
  },
  {
   "cell_type": "code",
   "execution_count": 14,
   "metadata": {},
   "outputs": [
    {
     "name": "stdout",
     "output_type": "stream",
     "text": [
      "Количество id студентов без дубликатов по промокоду: 6181\n",
      "Количество id студентов без дубликатов по промокоду:  6174\n"
     ]
    }
   ],
   "source": [
    "print('Количество id студентов без дубликатов по промокоду:', len(df['id'].unique()))\n",
    "df_wo_duplicates = df.query('id not in @mult_promocode_list')\n",
    "print('Количество id студентов без дубликатов по промокоду: ',len(df_wo_duplicates['id'].unique()))"
   ]
  },
  {
   "cell_type": "code",
   "execution_count": 15,
   "metadata": {},
   "outputs": [
    {
     "data": {
      "text/plain": [
       "7"
      ]
     },
     "execution_count": 15,
     "metadata": {},
     "output_type": "execute_result"
    }
   ],
   "source": [
    "df_mult_promocode_clean = df.query('id in @mult_promocode_list and promocode != \"none\"')\n",
    "len(df_mult_promocode_clean)"
   ]
  },
  {
   "cell_type": "code",
   "execution_count": 16,
   "metadata": {},
   "outputs": [],
   "source": [
    "df = pd.concat([df_wo_duplicates,df_mult_promocode_clean])"
   ]
  },
  {
   "cell_type": "code",
   "execution_count": 17,
   "metadata": {},
   "outputs": [
    {
     "name": "stdout",
     "output_type": "stream",
     "text": [
      "Количество id студентов без дубликатов по промокоду: 6181\n"
     ]
    }
   ],
   "source": [
    "print('Количество id студентов без дубликатов по промокоду:', len(df['id'].unique()))"
   ]
  },
  {
   "cell_type": "markdown",
   "metadata": {},
   "source": [
    "**Порядок действий для обработки дубликатов по лидам:**  \n",
    "1. Выделим список тех студентов, у которых дублирование связано с наличием нескольких лидов для 1 студента.\n",
    "2. Очистим датасет от этих студентов.\n",
    "3. Добавим к датасету этих студентов вновь, но оставим только одну строку для каждого студента."
   ]
  },
  {
   "cell_type": "code",
   "execution_count": 18,
   "metadata": {},
   "outputs": [],
   "source": [
    "duplicated_ids_upd = df['id'].value_counts().sort_values(ascending = False).reset_index()\n",
    "duplicated_ids_upd = duplicated_ids_upd.query('id>1')\n",
    "duplicated_ids_upd_list = duplicated_ids_upd['index'].unique()"
   ]
  },
  {
   "cell_type": "code",
   "execution_count": 19,
   "metadata": {},
   "outputs": [
    {
     "data": {
      "text/plain": [
       "49"
      ]
     },
     "execution_count": 19,
     "metadata": {},
     "output_type": "execute_result"
    }
   ],
   "source": [
    "len(duplicated_ids_upd_list)"
   ]
  },
  {
   "cell_type": "code",
   "execution_count": 20,
   "metadata": {},
   "outputs": [
    {
     "data": {
      "text/html": [
       "<div>\n",
       "<style scoped>\n",
       "    .dataframe tbody tr th:only-of-type {\n",
       "        vertical-align: middle;\n",
       "    }\n",
       "\n",
       "    .dataframe tbody tr th {\n",
       "        vertical-align: top;\n",
       "    }\n",
       "\n",
       "    .dataframe thead th {\n",
       "        text-align: right;\n",
       "    }\n",
       "</style>\n",
       "<table border=\"1\" class=\"dataframe\">\n",
       "  <thead>\n",
       "    <tr style=\"text-align: right;\">\n",
       "      <th></th>\n",
       "      <th>id</th>\n",
       "      <th>is_lead_successful</th>\n",
       "      <th>is_trial</th>\n",
       "    </tr>\n",
       "  </thead>\n",
       "  <tbody>\n",
       "    <tr>\n",
       "      <th>0</th>\n",
       "      <td>671</td>\n",
       "      <td>2</td>\n",
       "      <td>1</td>\n",
       "    </tr>\n",
       "    <tr>\n",
       "      <th>1</th>\n",
       "      <td>25144</td>\n",
       "      <td>2</td>\n",
       "      <td>2</td>\n",
       "    </tr>\n",
       "    <tr>\n",
       "      <th>2</th>\n",
       "      <td>18884</td>\n",
       "      <td>2</td>\n",
       "      <td>2</td>\n",
       "    </tr>\n",
       "    <tr>\n",
       "      <th>3</th>\n",
       "      <td>936</td>\n",
       "      <td>2</td>\n",
       "      <td>1</td>\n",
       "    </tr>\n",
       "    <tr>\n",
       "      <th>4</th>\n",
       "      <td>19621</td>\n",
       "      <td>2</td>\n",
       "      <td>2</td>\n",
       "    </tr>\n",
       "  </tbody>\n",
       "</table>\n",
       "</div>"
      ],
      "text/plain": [
       "      id  is_lead_successful  is_trial\n",
       "0    671                   2         1\n",
       "1  25144                   2         2\n",
       "2  18884                   2         2\n",
       "3    936                   2         1\n",
       "4  19621                   2         2"
      ]
     },
     "execution_count": 20,
     "metadata": {},
     "output_type": "execute_result"
    }
   ],
   "source": [
    "multiple_leads = (df.query('id in @duplicated_ids_upd_list')\n",
    "                   .groupby('id')\n",
    "                   .agg({'is_lead_successful':'nunique','is_trial':'nunique'})\n",
    "                   .sort_values('is_lead_successful', ascending = False)\n",
    "                   .reset_index()\n",
    "       )\n",
    "multiple_leads.head()"
   ]
  },
  {
   "cell_type": "code",
   "execution_count": 21,
   "metadata": {},
   "outputs": [
    {
     "name": "stdout",
     "output_type": "stream",
     "text": [
      "Количество id студентов без дубликатов по промокоду: 6181\n",
      "Количество id студентов без дубликатов по промокоду:  6132\n"
     ]
    }
   ],
   "source": [
    "print('Количество id студентов без дубликатов по промокоду:', len(df['id'].unique()))\n",
    "df_wo_duplicates = df.query('id not in @duplicated_ids_upd_list')\n",
    "print('Количество id студентов без дубликатов по промокоду: ',len(df_wo_duplicates['id'].unique()))"
   ]
  },
  {
   "cell_type": "code",
   "execution_count": 22,
   "metadata": {
    "scrolled": true
   },
   "outputs": [
    {
     "data": {
      "text/plain": [
       "49"
      ]
     },
     "execution_count": 22,
     "metadata": {},
     "output_type": "execute_result"
    }
   ],
   "source": [
    "df_mult_leads_clean = (df.loc[df['id'].isin(duplicated_ids_upd_list)]\n",
    "                           .groupby(['id', 'first_activity', 'last_activity', 'age', 'gender',\n",
    "                           'language_level', 'new', 'completed', 'declined', 'student_skipped','teacher_skipped', \n",
    "                           'canceled', 'changes','amount_paid', 'payments', 'promocode', 'is_churn'], as_index=False)\n",
    "                           .agg({'is_lead_successful':'max','is_trial':'max','is_trial_completed':'max','utm_source':'max','utm_medium':'max'})\n",
    ")\n",
    "len(df_mult_leads_clean)"
   ]
  },
  {
   "cell_type": "code",
   "execution_count": 23,
   "metadata": {},
   "outputs": [],
   "source": [
    "df = pd.concat([df_wo_duplicates,df_mult_leads_clean])"
   ]
  },
  {
   "cell_type": "code",
   "execution_count": 24,
   "metadata": {},
   "outputs": [
    {
     "name": "stdout",
     "output_type": "stream",
     "text": [
      "Количество id студентов без дубликатов по промокоду: 6181\n"
     ]
    }
   ],
   "source": [
    "print('Количество id студентов без дубликатов по промокоду:', len(df['id'].unique()))"
   ]
  },
  {
   "cell_type": "code",
   "execution_count": 25,
   "metadata": {},
   "outputs": [
    {
     "name": "stdout",
     "output_type": "stream",
     "text": [
      "Количество дубликатов в id студентов после обработки: 0\n"
     ]
    }
   ],
   "source": [
    "duplicated_ids = df['id'].value_counts().sort_values(ascending = False).reset_index()\n",
    "duplicated_ids = duplicated_ids.query('id>1')\n",
    "print('Количество дубликатов в id студентов после обработки: {}'.format(len(duplicated_ids)))"
   ]
  },
  {
   "cell_type": "markdown",
   "metadata": {},
   "source": [
    "## 2. Обработка категориальных переменных."
   ]
  },
  {
   "cell_type": "code",
   "execution_count": 26,
   "metadata": {},
   "outputs": [
    {
     "name": "stdout",
     "output_type": "stream",
     "text": [
      "Всего в датасете 5 категориальных переменных\n",
      "\n",
      "Список категориальных переменных :\n",
      "\n",
      " ['gender', 'language_level', 'utm_source', 'utm_medium', 'promocode']\n"
     ]
    }
   ],
   "source": [
    "categorical = [var for var in df.columns if df[var].dtype=='O']\n",
    "\n",
    "print('Всего в датасете {} категориальных переменных\\n'.format(len(categorical)))\n",
    "\n",
    "print('Список категориальных переменных :\\n\\n', categorical)"
   ]
  },
  {
   "cell_type": "markdown",
   "metadata": {},
   "source": [
    "#### 1. gender"
   ]
  },
  {
   "cell_type": "code",
   "execution_count": 27,
   "metadata": {},
   "outputs": [
    {
     "data": {
      "text/plain": [
       "1       2750\n",
       "2       2532\n",
       "none     899\n",
       "Name: gender, dtype: int64"
      ]
     },
     "execution_count": 27,
     "metadata": {},
     "output_type": "execute_result"
    }
   ],
   "source": [
    "df['gender'].value_counts()"
   ]
  },
  {
   "cell_type": "code",
   "execution_count": 28,
   "metadata": {},
   "outputs": [
    {
     "name": "stdout",
     "output_type": "stream",
     "text": [
      "Признак пола отсутствует для 14.54% пользователей\n"
     ]
    }
   ],
   "source": [
    "print('Признак пола отсутствует для {:.2%} пользователей'.format(len(df.query('gender == \"none\"'))/len(df)))"
   ]
  },
  {
   "cell_type": "markdown",
   "metadata": {},
   "source": [
    "Заменим пол = 'none' на значение 0 - 'пол не указан'"
   ]
  },
  {
   "cell_type": "code",
   "execution_count": 29,
   "metadata": {},
   "outputs": [],
   "source": [
    "df['gender'] = df['gender'].replace(to_replace='none',value=0)"
   ]
  },
  {
   "cell_type": "code",
   "execution_count": 30,
   "metadata": {},
   "outputs": [
    {
     "data": {
      "text/plain": [
       "1    2750\n",
       "2    2532\n",
       "0     899\n",
       "Name: gender, dtype: int64"
      ]
     },
     "execution_count": 30,
     "metadata": {},
     "output_type": "execute_result"
    }
   ],
   "source": [
    "df['gender'].value_counts()"
   ]
  },
  {
   "cell_type": "markdown",
   "metadata": {},
   "source": [
    "#### 2. language_level"
   ]
  },
  {
   "cell_type": "code",
   "execution_count": 31,
   "metadata": {},
   "outputs": [
    {
     "data": {
      "text/plain": [
       "3       1751\n",
       "4       1660\n",
       "1       1160\n",
       "5        748\n",
       "2        317\n",
       "6        292\n",
       "none     246\n",
       "7          7\n",
       "Name: language_level, dtype: int64"
      ]
     },
     "execution_count": 31,
     "metadata": {},
     "output_type": "execute_result"
    }
   ],
   "source": [
    "df['language_level'].value_counts()"
   ]
  },
  {
   "cell_type": "code",
   "execution_count": 32,
   "metadata": {},
   "outputs": [
    {
     "name": "stdout",
     "output_type": "stream",
     "text": [
      "Признак уровня отсутствует для 3.98% пользователей\n"
     ]
    }
   ],
   "source": [
    "print('Признак уровня отсутствует для {:.2%} пользователей'.format(len(df.query('language_level == \"none\"'))/len(df)))"
   ]
  },
  {
   "cell_type": "markdown",
   "metadata": {},
   "source": [
    "Заменим уровень языка = 'none' на значение 0 - 'уровень не указан'"
   ]
  },
  {
   "cell_type": "code",
   "execution_count": 33,
   "metadata": {},
   "outputs": [],
   "source": [
    "df['language_level'] = df['language_level'].replace(to_replace='none',value=0)"
   ]
  },
  {
   "cell_type": "code",
   "execution_count": 34,
   "metadata": {},
   "outputs": [
    {
     "data": {
      "text/html": [
       "<div>\n",
       "<style scoped>\n",
       "    .dataframe tbody tr th:only-of-type {\n",
       "        vertical-align: middle;\n",
       "    }\n",
       "\n",
       "    .dataframe tbody tr th {\n",
       "        vertical-align: top;\n",
       "    }\n",
       "\n",
       "    .dataframe thead th {\n",
       "        text-align: right;\n",
       "    }\n",
       "</style>\n",
       "<table border=\"1\" class=\"dataframe\">\n",
       "  <thead>\n",
       "    <tr style=\"text-align: right;\">\n",
       "      <th></th>\n",
       "      <th>id</th>\n",
       "      <th>first_activity</th>\n",
       "      <th>last_activity</th>\n",
       "      <th>age</th>\n",
       "      <th>gender</th>\n",
       "      <th>language_level</th>\n",
       "      <th>utm_source</th>\n",
       "      <th>utm_medium</th>\n",
       "      <th>is_trial</th>\n",
       "      <th>is_trial_completed</th>\n",
       "      <th>new</th>\n",
       "      <th>completed</th>\n",
       "      <th>declined</th>\n",
       "      <th>student_skipped</th>\n",
       "      <th>teacher_skipped</th>\n",
       "      <th>canceled</th>\n",
       "      <th>changes</th>\n",
       "      <th>is_lead_successful</th>\n",
       "      <th>amount_paid</th>\n",
       "      <th>payments</th>\n",
       "      <th>promocode</th>\n",
       "      <th>is_churn</th>\n",
       "    </tr>\n",
       "  </thead>\n",
       "  <tbody>\n",
       "    <tr>\n",
       "      <th>1552</th>\n",
       "      <td>23682</td>\n",
       "      <td>2020-05-18</td>\n",
       "      <td>2020-05-18</td>\n",
       "      <td>7</td>\n",
       "      <td>1</td>\n",
       "      <td>0</td>\n",
       "      <td>none</td>\n",
       "      <td>none</td>\n",
       "      <td>1</td>\n",
       "      <td>0</td>\n",
       "      <td>0</td>\n",
       "      <td>1</td>\n",
       "      <td>0</td>\n",
       "      <td>1</td>\n",
       "      <td>0</td>\n",
       "      <td>0</td>\n",
       "      <td>1</td>\n",
       "      <td>0</td>\n",
       "      <td>0.0</td>\n",
       "      <td>0</td>\n",
       "      <td>none</td>\n",
       "      <td>1</td>\n",
       "    </tr>\n",
       "    <tr>\n",
       "      <th>1589</th>\n",
       "      <td>2000</td>\n",
       "      <td>2019-04-17</td>\n",
       "      <td>2019-06-23</td>\n",
       "      <td>6</td>\n",
       "      <td>0</td>\n",
       "      <td>0</td>\n",
       "      <td>fb</td>\n",
       "      <td>none</td>\n",
       "      <td>1</td>\n",
       "      <td>0</td>\n",
       "      <td>0</td>\n",
       "      <td>8</td>\n",
       "      <td>0</td>\n",
       "      <td>1</td>\n",
       "      <td>0</td>\n",
       "      <td>1</td>\n",
       "      <td>0</td>\n",
       "      <td>0</td>\n",
       "      <td>0.0</td>\n",
       "      <td>0</td>\n",
       "      <td>none</td>\n",
       "      <td>1</td>\n",
       "    </tr>\n",
       "    <tr>\n",
       "      <th>2245</th>\n",
       "      <td>1241</td>\n",
       "      <td>2019-01-08</td>\n",
       "      <td>2019-09-29</td>\n",
       "      <td>8</td>\n",
       "      <td>0</td>\n",
       "      <td>0</td>\n",
       "      <td>none</td>\n",
       "      <td>none</td>\n",
       "      <td>0</td>\n",
       "      <td>1</td>\n",
       "      <td>0</td>\n",
       "      <td>8</td>\n",
       "      <td>0</td>\n",
       "      <td>2</td>\n",
       "      <td>0</td>\n",
       "      <td>0</td>\n",
       "      <td>9</td>\n",
       "      <td>0</td>\n",
       "      <td>0.0</td>\n",
       "      <td>0</td>\n",
       "      <td>none</td>\n",
       "      <td>1</td>\n",
       "    </tr>\n",
       "    <tr>\n",
       "      <th>2588</th>\n",
       "      <td>2480</td>\n",
       "      <td>2019-05-19</td>\n",
       "      <td>2019-09-22</td>\n",
       "      <td>8</td>\n",
       "      <td>0</td>\n",
       "      <td>0</td>\n",
       "      <td>fb</td>\n",
       "      <td>none</td>\n",
       "      <td>0</td>\n",
       "      <td>0</td>\n",
       "      <td>1</td>\n",
       "      <td>8</td>\n",
       "      <td>0</td>\n",
       "      <td>3</td>\n",
       "      <td>0</td>\n",
       "      <td>0</td>\n",
       "      <td>2</td>\n",
       "      <td>1</td>\n",
       "      <td>0.0</td>\n",
       "      <td>0</td>\n",
       "      <td>none</td>\n",
       "      <td>1</td>\n",
       "    </tr>\n",
       "    <tr>\n",
       "      <th>2693</th>\n",
       "      <td>49</td>\n",
       "      <td>2018-05-30</td>\n",
       "      <td>2019-05-31</td>\n",
       "      <td>10</td>\n",
       "      <td>0</td>\n",
       "      <td>0</td>\n",
       "      <td>none</td>\n",
       "      <td>none</td>\n",
       "      <td>0</td>\n",
       "      <td>0</td>\n",
       "      <td>0</td>\n",
       "      <td>4</td>\n",
       "      <td>0</td>\n",
       "      <td>2</td>\n",
       "      <td>0</td>\n",
       "      <td>0</td>\n",
       "      <td>0</td>\n",
       "      <td>0</td>\n",
       "      <td>0.0</td>\n",
       "      <td>0</td>\n",
       "      <td>none</td>\n",
       "      <td>1</td>\n",
       "    </tr>\n",
       "    <tr>\n",
       "      <th>...</th>\n",
       "      <td>...</td>\n",
       "      <td>...</td>\n",
       "      <td>...</td>\n",
       "      <td>...</td>\n",
       "      <td>...</td>\n",
       "      <td>...</td>\n",
       "      <td>...</td>\n",
       "      <td>...</td>\n",
       "      <td>...</td>\n",
       "      <td>...</td>\n",
       "      <td>...</td>\n",
       "      <td>...</td>\n",
       "      <td>...</td>\n",
       "      <td>...</td>\n",
       "      <td>...</td>\n",
       "      <td>...</td>\n",
       "      <td>...</td>\n",
       "      <td>...</td>\n",
       "      <td>...</td>\n",
       "      <td>...</td>\n",
       "      <td>...</td>\n",
       "      <td>...</td>\n",
       "    </tr>\n",
       "    <tr>\n",
       "      <th>3567</th>\n",
       "      <td>5752</td>\n",
       "      <td>2019-10-09</td>\n",
       "      <td>2019-10-09</td>\n",
       "      <td>12</td>\n",
       "      <td>1</td>\n",
       "      <td>0</td>\n",
       "      <td>none</td>\n",
       "      <td>none</td>\n",
       "      <td>0</td>\n",
       "      <td>0</td>\n",
       "      <td>0</td>\n",
       "      <td>1</td>\n",
       "      <td>0</td>\n",
       "      <td>0</td>\n",
       "      <td>0</td>\n",
       "      <td>0</td>\n",
       "      <td>0</td>\n",
       "      <td>0</td>\n",
       "      <td>0.0</td>\n",
       "      <td>0</td>\n",
       "      <td>none</td>\n",
       "      <td>1</td>\n",
       "    </tr>\n",
       "    <tr>\n",
       "      <th>3643</th>\n",
       "      <td>6143</td>\n",
       "      <td>2019-10-17</td>\n",
       "      <td>2019-12-13</td>\n",
       "      <td>6</td>\n",
       "      <td>2</td>\n",
       "      <td>0</td>\n",
       "      <td>none</td>\n",
       "      <td>none</td>\n",
       "      <td>0</td>\n",
       "      <td>0</td>\n",
       "      <td>11</td>\n",
       "      <td>12</td>\n",
       "      <td>1</td>\n",
       "      <td>0</td>\n",
       "      <td>0</td>\n",
       "      <td>3</td>\n",
       "      <td>26</td>\n",
       "      <td>0</td>\n",
       "      <td>0.0</td>\n",
       "      <td>0</td>\n",
       "      <td>none</td>\n",
       "      <td>1</td>\n",
       "    </tr>\n",
       "    <tr>\n",
       "      <th>4548</th>\n",
       "      <td>11278</td>\n",
       "      <td>2020-01-21</td>\n",
       "      <td>2020-01-21</td>\n",
       "      <td>20</td>\n",
       "      <td>1</td>\n",
       "      <td>0</td>\n",
       "      <td>none</td>\n",
       "      <td>none</td>\n",
       "      <td>0</td>\n",
       "      <td>0</td>\n",
       "      <td>0</td>\n",
       "      <td>1</td>\n",
       "      <td>0</td>\n",
       "      <td>0</td>\n",
       "      <td>0</td>\n",
       "      <td>0</td>\n",
       "      <td>0</td>\n",
       "      <td>0</td>\n",
       "      <td>0.0</td>\n",
       "      <td>0</td>\n",
       "      <td>none</td>\n",
       "      <td>1</td>\n",
       "    </tr>\n",
       "    <tr>\n",
       "      <th>4686</th>\n",
       "      <td>11907</td>\n",
       "      <td>2020-02-03</td>\n",
       "      <td>2020-02-12</td>\n",
       "      <td>12</td>\n",
       "      <td>1</td>\n",
       "      <td>0</td>\n",
       "      <td>none</td>\n",
       "      <td>none</td>\n",
       "      <td>0</td>\n",
       "      <td>0</td>\n",
       "      <td>0</td>\n",
       "      <td>0</td>\n",
       "      <td>0</td>\n",
       "      <td>5</td>\n",
       "      <td>0</td>\n",
       "      <td>0</td>\n",
       "      <td>0</td>\n",
       "      <td>0</td>\n",
       "      <td>0.0</td>\n",
       "      <td>0</td>\n",
       "      <td>none</td>\n",
       "      <td>1</td>\n",
       "    </tr>\n",
       "    <tr>\n",
       "      <th>5031</th>\n",
       "      <td>21966</td>\n",
       "      <td>2020-04-30</td>\n",
       "      <td>2020-05-05</td>\n",
       "      <td>0</td>\n",
       "      <td>1</td>\n",
       "      <td>0</td>\n",
       "      <td>none</td>\n",
       "      <td>none</td>\n",
       "      <td>0</td>\n",
       "      <td>0</td>\n",
       "      <td>0</td>\n",
       "      <td>2</td>\n",
       "      <td>0</td>\n",
       "      <td>0</td>\n",
       "      <td>0</td>\n",
       "      <td>0</td>\n",
       "      <td>1</td>\n",
       "      <td>0</td>\n",
       "      <td>0.0</td>\n",
       "      <td>0</td>\n",
       "      <td>none</td>\n",
       "      <td>1</td>\n",
       "    </tr>\n",
       "  </tbody>\n",
       "</table>\n",
       "<p>246 rows × 22 columns</p>\n",
       "</div>"
      ],
      "text/plain": [
       "         id first_activity last_activity  age gender language_level  \\\n",
       "1552  23682     2020-05-18    2020-05-18    7      1              0   \n",
       "1589   2000     2019-04-17    2019-06-23    6      0              0   \n",
       "2245   1241     2019-01-08    2019-09-29    8      0              0   \n",
       "2588   2480     2019-05-19    2019-09-22    8      0              0   \n",
       "2693     49     2018-05-30    2019-05-31   10      0              0   \n",
       "...     ...            ...           ...  ...    ...            ...   \n",
       "3567   5752     2019-10-09    2019-10-09   12      1              0   \n",
       "3643   6143     2019-10-17    2019-12-13    6      2              0   \n",
       "4548  11278     2020-01-21    2020-01-21   20      1              0   \n",
       "4686  11907     2020-02-03    2020-02-12   12      1              0   \n",
       "5031  21966     2020-04-30    2020-05-05    0      1              0   \n",
       "\n",
       "     utm_source utm_medium  is_trial  is_trial_completed  new  completed  \\\n",
       "1552       none       none         1                   0    0          1   \n",
       "1589         fb       none         1                   0    0          8   \n",
       "2245       none       none         0                   1    0          8   \n",
       "2588         fb       none         0                   0    1          8   \n",
       "2693       none       none         0                   0    0          4   \n",
       "...         ...        ...       ...                 ...  ...        ...   \n",
       "3567       none       none         0                   0    0          1   \n",
       "3643       none       none         0                   0   11         12   \n",
       "4548       none       none         0                   0    0          1   \n",
       "4686       none       none         0                   0    0          0   \n",
       "5031       none       none         0                   0    0          2   \n",
       "\n",
       "      declined  student_skipped  teacher_skipped  canceled  changes  \\\n",
       "1552         0                1                0         0        1   \n",
       "1589         0                1                0         1        0   \n",
       "2245         0                2                0         0        9   \n",
       "2588         0                3                0         0        2   \n",
       "2693         0                2                0         0        0   \n",
       "...        ...              ...              ...       ...      ...   \n",
       "3567         0                0                0         0        0   \n",
       "3643         1                0                0         3       26   \n",
       "4548         0                0                0         0        0   \n",
       "4686         0                5                0         0        0   \n",
       "5031         0                0                0         0        1   \n",
       "\n",
       "      is_lead_successful  amount_paid  payments promocode  is_churn  \n",
       "1552                   0          0.0         0      none         1  \n",
       "1589                   0          0.0         0      none         1  \n",
       "2245                   0          0.0         0      none         1  \n",
       "2588                   1          0.0         0      none         1  \n",
       "2693                   0          0.0         0      none         1  \n",
       "...                  ...          ...       ...       ...       ...  \n",
       "3567                   0          0.0         0      none         1  \n",
       "3643                   0          0.0         0      none         1  \n",
       "4548                   0          0.0         0      none         1  \n",
       "4686                   0          0.0         0      none         1  \n",
       "5031                   0          0.0         0      none         1  \n",
       "\n",
       "[246 rows x 22 columns]"
      ]
     },
     "execution_count": 34,
     "metadata": {},
     "output_type": "execute_result"
    }
   ],
   "source": [
    "df[df['language_level'] == 0]"
   ]
  },
  {
   "cell_type": "markdown",
   "metadata": {},
   "source": [
    "#### 3. utm_source"
   ]
  },
  {
   "cell_type": "code",
   "execution_count": 35,
   "metadata": {},
   "outputs": [
    {
     "data": {
      "text/plain": [
       "array(['fb', 'none', 'FB', 'youtube', 'referrals', 'search', 'email',\n",
       "       'instagram', 'gdn', 'email_campaign', 'Insta', 'UniSender',\n",
       "       'INSTA', 'basecall', 'test', 'utm_source=basecall', 'blogger',\n",
       "       'google', 'friendbase', 'discovery', 'chugaister'], dtype=object)"
      ]
     },
     "execution_count": 35,
     "metadata": {},
     "output_type": "execute_result"
    }
   ],
   "source": [
    "df['utm_source'].unique()"
   ]
  },
  {
   "cell_type": "markdown",
   "metadata": {},
   "source": [
    "В метках есть много повторов разного написания, преобразуем utm_source с помощью словаря и выведем новый список уникальных названий."
   ]
  },
  {
   "cell_type": "code",
   "execution_count": 36,
   "metadata": {},
   "outputs": [],
   "source": [
    "sources_dict = {'fb':['fb','FB'], \n",
    "               'instagram':['instagram','Insta','INSTA','intagram'], \n",
    "               'youtube':['youtube'],\n",
    "               'referrals':['referrals'],\n",
    "               'search':['search'],\n",
    "               'email':['email'],\n",
    "               'gdn':['gdn'],\n",
    "               'email_campaign':['email_campaign'],\n",
    "               'unisender':['UniSender'],\n",
    "               'basecall':['basecall','utm_source=basecall'],\n",
    "               'google':['google'],\n",
    "               'blogger':['blogger'],\n",
    "               'test':['test'],\n",
    "               'friendbase':['friendbase'],\n",
    "               'discovery':['discovery'],\n",
    "               'chugaister':['chugaister'],\n",
    "               'none':['none']\n",
    "        }"
   ]
  },
  {
   "cell_type": "code",
   "execution_count": 37,
   "metadata": {},
   "outputs": [],
   "source": [
    "def sources(utm_sources):  \n",
    "    for source, source_list in sources_dict.items():       \n",
    "        for i in source_list:\n",
    "            if i in utm_sources:\n",
    "                return source"
   ]
  },
  {
   "cell_type": "code",
   "execution_count": 38,
   "metadata": {},
   "outputs": [],
   "source": [
    "df['utm_source_edit'] = df['utm_source'].apply(sources)"
   ]
  },
  {
   "cell_type": "code",
   "execution_count": 39,
   "metadata": {},
   "outputs": [
    {
     "data": {
      "text/plain": [
       "array(['fb', 'none', 'youtube', 'referrals', 'search', 'email',\n",
       "       'instagram', 'gdn', 'unisender', 'basecall', 'test', 'blogger',\n",
       "       'google', 'friendbase', 'discovery', 'chugaister'], dtype=object)"
      ]
     },
     "execution_count": 39,
     "metadata": {},
     "output_type": "execute_result"
    }
   ],
   "source": [
    "df['utm_source_edit'].unique()"
   ]
  },
  {
   "cell_type": "code",
   "execution_count": 40,
   "metadata": {},
   "outputs": [
    {
     "data": {
      "text/plain": [
       "none          3348\n",
       "fb            2119\n",
       "referrals      213\n",
       "gdn            169\n",
       "youtube        123\n",
       "search          66\n",
       "instagram       36\n",
       "basecall        34\n",
       "unisender       33\n",
       "friendbase      19\n",
       "blogger         10\n",
       "email            5\n",
       "google           2\n",
       "chugaister       2\n",
       "test             1\n",
       "discovery        1\n",
       "Name: utm_source_edit, dtype: int64"
      ]
     },
     "execution_count": 40,
     "metadata": {},
     "output_type": "execute_result"
    }
   ],
   "source": [
    "df['utm_source_edit'].value_counts()"
   ]
  },
  {
   "cell_type": "code",
   "execution_count": 41,
   "metadata": {},
   "outputs": [
    {
     "name": "stdout",
     "output_type": "stream",
     "text": [
      "Признак метки utm_source отсутствует для 54.17% пользователей\n"
     ]
    }
   ],
   "source": [
    "print('Признак метки utm_source отсутствует для {:.2%} пользователей'.format(len(df.query('utm_source_edit == \"none\"'))/len(df)))"
   ]
  },
  {
   "cell_type": "markdown",
   "metadata": {},
   "source": [
    "Более чем для половины пользователей отсутсвует информация о метке utm_source. Это не дает нам использовать данный признак для построения модели."
   ]
  },
  {
   "cell_type": "markdown",
   "metadata": {},
   "source": [
    "#### 4. utm_medium"
   ]
  },
  {
   "cell_type": "code",
   "execution_count": 42,
   "metadata": {},
   "outputs": [
    {
     "data": {
      "text/plain": [
       "array(['fb', 'none', 'ig', 'cpc', 'blogger', 'email', 'test', 'instagram'],\n",
       "      dtype=object)"
      ]
     },
     "execution_count": 42,
     "metadata": {},
     "output_type": "execute_result"
    }
   ],
   "source": [
    "df['utm_medium'].unique()"
   ]
  },
  {
   "cell_type": "code",
   "execution_count": 43,
   "metadata": {},
   "outputs": [
    {
     "data": {
      "text/plain": [
       "none         3955\n",
       "fb           1106\n",
       "ig            634\n",
       "cpc           386\n",
       "blogger        52\n",
       "email          37\n",
       "instagram      10\n",
       "test            1\n",
       "Name: utm_medium, dtype: int64"
      ]
     },
     "execution_count": 43,
     "metadata": {},
     "output_type": "execute_result"
    }
   ],
   "source": [
    "df['utm_medium'].value_counts()"
   ]
  },
  {
   "cell_type": "code",
   "execution_count": 44,
   "metadata": {},
   "outputs": [
    {
     "name": "stdout",
     "output_type": "stream",
     "text": [
      "Признак метки utm_medium отсутствует для 63.99% пользователей\n"
     ]
    }
   ],
   "source": [
    "print('Признак метки utm_medium отсутствует для {:.2%} пользователей'.format(len(df.query('utm_medium == \"none\"'))/len(df)))"
   ]
  },
  {
   "cell_type": "markdown",
   "metadata": {},
   "source": [
    "Признак отсутствует у более чем 64% пользователей, что не дает нам использовать этот признак для модели."
   ]
  },
  {
   "cell_type": "markdown",
   "metadata": {},
   "source": [
    "#### 5. promocode"
   ]
  },
  {
   "cell_type": "markdown",
   "metadata": {},
   "source": [
    "Для промокодов сделаем следующее преобразование: добавим столбец had_promocode, в котором будет указано значение 0, если студент ни разу не использовал промокод для оплаты или 1, если использовал хотя бы при одной оплате."
   ]
  },
  {
   "cell_type": "code",
   "execution_count": 45,
   "metadata": {},
   "outputs": [
    {
     "data": {
      "text/plain": [
       "array(['none', 'NAFFY', 'OSIA', 'LEGKO', 'MCQUINN', 'ABAKUMOVA', 'SAKADO',\n",
       "       'NOSOK', 'marmazka', 'SUMMER', 'CHUGA', 'KRISTI', 'TSOYLITA',\n",
       "       'NEZDAYS', 'WELCOME', 'KATYTORONTO', 'MICH', 'BLUSHSUPREME',\n",
       "       'TATAMI'], dtype=object)"
      ]
     },
     "execution_count": 45,
     "metadata": {},
     "output_type": "execute_result"
    }
   ],
   "source": [
    "df['promocode'].unique()"
   ]
  },
  {
   "cell_type": "code",
   "execution_count": 46,
   "metadata": {},
   "outputs": [],
   "source": [
    "def promo(promocode):\n",
    "    if promocode == 'none':\n",
    "        return 0\n",
    "    else:\n",
    "        return 1\n",
    "\n",
    "df['had_promocode'] = df['promocode'].apply(promo)"
   ]
  },
  {
   "cell_type": "code",
   "execution_count": 47,
   "metadata": {},
   "outputs": [
    {
     "data": {
      "text/plain": [
       "0    6116\n",
       "1      65\n",
       "Name: had_promocode, dtype: int64"
      ]
     },
     "execution_count": 47,
     "metadata": {},
     "output_type": "execute_result"
    }
   ],
   "source": [
    "df['had_promocode'].value_counts()"
   ]
  },
  {
   "cell_type": "markdown",
   "metadata": {},
   "source": [
    "Основная доля студентов не использовала промокоды для оплаты."
   ]
  },
  {
   "cell_type": "markdown",
   "metadata": {},
   "source": [
    "**Таблица корреляции числовых признаков:**"
   ]
  },
  {
   "cell_type": "code",
   "execution_count": 73,
   "metadata": {},
   "outputs": [
    {
     "data": {
      "image/png": "[encoded data removed]",
      "text/plain": [
       "<Figure size 1440x864 with 2 Axes>"
      ]
     },
     "metadata": {},
     "output_type": "display_data"
    }
   ],
   "source": [
    "plt.figure(figsize=(20, 12))\n",
    "sns.set(font_scale=1.1)\n",
    "sns.heatmap(df.drop(columns=['id','age']).corr(),annot=True,fmt='.2f',linewidths=0.1,linecolor='beige',);"
   ]
  },
  {
   "cell_type": "markdown",
   "metadata": {},
   "source": [
    "## 4. Построение модели."
   ]
  },
  {
   "cell_type": "code",
   "execution_count": 57,
   "metadata": {},
   "outputs": [],
   "source": [
    "y = df['is_churn'] #целевая переменная\n",
    "X = df.drop(columns=['id','first_activity','last_activity','is_churn','age','utm_source', 'utm_medium','promocode', 'utm_source_edit']) #признаки"
   ]
  },
  {
   "cell_type": "markdown",
   "metadata": {},
   "source": [
    "Разделим выборку на обучающую и валидационную:"
   ]
  },
  {
   "cell_type": "code",
   "execution_count": 65,
   "metadata": {},
   "outputs": [],
   "source": [
    "X_train, X_test, y_train, y_test = train_test_split(X,y, test_size=0.2, random_state=0)"
   ]
  },
  {
   "cell_type": "code",
   "execution_count": 66,
   "metadata": {},
   "outputs": [
    {
     "data": {
      "text/plain": [
       "LogisticRegression(C=1.0, class_weight=None, dual=False, fit_intercept=True,\n",
       "                   intercept_scaling=1, l1_ratio=None, max_iter=100,\n",
       "                   multi_class='auto', n_jobs=None, penalty='l2',\n",
       "                   random_state=0, solver='lbfgs', tol=0.0001, verbose=0,\n",
       "                   warm_start=False)"
      ]
     },
     "execution_count": 66,
     "metadata": {},
     "output_type": "execute_result"
    }
   ],
   "source": [
    "#обучаем модель логистической регрессии\n",
    "model = LogisticRegression(random_state = 0)\n",
    "model.fit(X_train,y_train)"
   ]
  },
  {
   "cell_type": "code",
   "execution_count": 67,
   "metadata": {},
   "outputs": [],
   "source": [
    "#воспользуемся обученной моделью на валидационной выборке\n",
    "predictions = model.predict(X_test)\n",
    "probabilities = model.predict_proba(X_test)[:,1]"
   ]
  },
  {
   "cell_type": "code",
   "execution_count": 68,
   "metadata": {},
   "outputs": [
    {
     "data": {
      "text/plain": [
       "RandomForestClassifier(bootstrap=True, ccp_alpha=0.0, class_weight=None,\n",
       "                       criterion='gini', max_depth=None, max_features='auto',\n",
       "                       max_leaf_nodes=None, max_samples=None,\n",
       "                       min_impurity_decrease=0.0, min_impurity_split=None,\n",
       "                       min_samples_leaf=1, min_samples_split=2,\n",
       "                       min_weight_fraction_leaf=0.0, n_estimators=100,\n",
       "                       n_jobs=None, oob_score=False, random_state=0, verbose=0,\n",
       "                       warm_start=False)"
      ]
     },
     "execution_count": 68,
     "metadata": {},
     "output_type": "execute_result"
    }
   ],
   "source": [
    "#обучаем модель случайного леса\n",
    "rf_model = RandomForestClassifier(random_state = 0)\n",
    "rf_model.fit(X_train, y_train)"
   ]
  },
  {
   "cell_type": "code",
   "execution_count": 69,
   "metadata": {},
   "outputs": [],
   "source": [
    "rf_predictions = rf_model.predict(X_test)\n",
    "rf_probabilities = rf_model.predict_proba(X_test)[:,1]"
   ]
  },
  {
   "cell_type": "code",
   "execution_count": 70,
   "metadata": {},
   "outputs": [
    {
     "data": {
      "text/plain": [
       "completed             0.260498\n",
       "language_level        0.178482\n",
       "amount_paid           0.101947\n",
       "changes               0.100702\n",
       "gender                0.070109\n",
       "student_skipped       0.061135\n",
       "declined              0.049099\n",
       "canceled              0.042701\n",
       "is_trial              0.030545\n",
       "is_lead_successful    0.026918\n",
       "is_trial_completed    0.026776\n",
       "payments              0.024743\n",
       "new                   0.010708\n",
       "teacher_skipped       0.008618\n",
       "had_promocode         0.007019\n",
       "dtype: float64"
      ]
     },
     "execution_count": 70,
     "metadata": {},
     "output_type": "execute_result"
    }
   ],
   "source": [
    "feature_scores = pd.Series(rf_model.feature_importances_, index=X_train.columns).sort_values(ascending=False)\n",
    "\n",
    "feature_scores"
   ]
  },
  {
   "cell_type": "code",
   "execution_count": 71,
   "metadata": {},
   "outputs": [
    {
     "data": {
      "text/html": [
       "<style  type=\"text/css\" >\n",
       "</style><table id=\"T_0b5111a4_0ebd_11eb_8381_1063c8f74b02\" ><caption>Метрики моделей логистической регрессии и случайного леса</caption><thead>    <tr>        <th class=\"col_heading level0 col0\" >Metric</th>        <th class=\"col_heading level0 col1\" >Logistic Regression</th>        <th class=\"col_heading level0 col2\" >Random Forest</th>    </tr></thead><tbody>\n",
       "                <tr>\n",
       "                                <td id=\"T_0b5111a4_0ebd_11eb_8381_1063c8f74b02row0_col0\" class=\"data row0 col0\" >Accuracy</td>\n",
       "                        <td id=\"T_0b5111a4_0ebd_11eb_8381_1063c8f74b02row0_col1\" class=\"data row0 col1\" >0.65</td>\n",
       "                        <td id=\"T_0b5111a4_0ebd_11eb_8381_1063c8f74b02row0_col2\" class=\"data row0 col2\" >0.62</td>\n",
       "            </tr>\n",
       "            <tr>\n",
       "                                <td id=\"T_0b5111a4_0ebd_11eb_8381_1063c8f74b02row1_col0\" class=\"data row1 col0\" >Precision</td>\n",
       "                        <td id=\"T_0b5111a4_0ebd_11eb_8381_1063c8f74b02row1_col1\" class=\"data row1 col1\" >0.68</td>\n",
       "                        <td id=\"T_0b5111a4_0ebd_11eb_8381_1063c8f74b02row1_col2\" class=\"data row1 col2\" >0.68</td>\n",
       "            </tr>\n",
       "            <tr>\n",
       "                                <td id=\"T_0b5111a4_0ebd_11eb_8381_1063c8f74b02row2_col0\" class=\"data row2 col0\" >Recall</td>\n",
       "                        <td id=\"T_0b5111a4_0ebd_11eb_8381_1063c8f74b02row2_col1\" class=\"data row2 col1\" >0.87</td>\n",
       "                        <td id=\"T_0b5111a4_0ebd_11eb_8381_1063c8f74b02row2_col2\" class=\"data row2 col2\" >0.77</td>\n",
       "            </tr>\n",
       "    </tbody></table>"
      ],
      "text/plain": [
       "<pandas.io.formats.style.Styler at 0x130021f6108>"
      ]
     },
     "execution_count": 71,
     "metadata": {},
     "output_type": "execute_result"
    }
   ],
   "source": [
    "data = [['Accuracy',accuracy_score(y_test,predictions),accuracy_score(y_test,rf_predictions)],\n",
    "        ['Precision',precision_score(y_test,predictions),precision_score(y_test,rf_predictions)],\n",
    "        ['Recall',recall_score(y_test,predictions),recall_score(y_test,rf_predictions)]]\n",
    "columns=['Metric','Logistic Regression','Random Forest']\n",
    "\n",
    "metrics = pd.DataFrame(data = data, columns = columns)\n",
    "\n",
    "(metrics.style\n",
    "        .format('{:.2f}', subset=['Logistic Regression','Random Forest'])\n",
    "        .hide_index()\n",
    "        .set_caption('Метрики моделей логистической регрессии и случайного леса')\n",
    ")"
   ]
  },
  {
   "cell_type": "code",
   "execution_count": null,
   "metadata": {},
   "outputs": [],
   "source": []
  }
 ],
 "metadata": {
  "kernelspec": {
   "display_name": "Python 3",
   "language": "python",
   "name": "python3"
  },
  "language_info": {
   "codemirror_mode": {
    "name": "ipython",
    "version": 3
   },
   "file_extension": ".py",
   "mimetype": "text/x-python",
   "name": "python",
   "nbconvert_exporter": "python",
   "pygments_lexer": "ipython3",
   "version": "3.7.6"
  }
 },
 "nbformat": 4,
 "nbformat_minor": 4
}
