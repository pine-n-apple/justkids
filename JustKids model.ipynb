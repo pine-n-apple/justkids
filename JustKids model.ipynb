{
 "cells": [
  {
   "cell_type": "markdown",
   "metadata": {},
   "source": [
    "# Модель прогнозирования оттока пользователей JustKids"
   ]
  },
  {
   "cell_type": "code",
   "execution_count": 1,
   "metadata": {},
   "outputs": [
    {
     "data": {
      "text/html": [
       "<script>\n",
       "code_show=true; \n",
       "function code_toggle() {\n",
       " if (code_show){\n",
       " $('div.input').hide();\n",
       " } else {\n",
       " $('div.input').show();\n",
       " }\n",
       " code_show = !code_show\n",
       "} \n",
       "$( document ).ready(code_toggle);\n",
       "</script>\n",
       "<form action=\"javascript:code_toggle()\"><input type=\"submit\" value=\"Нажмите, чтобы показать/скрыть код\"></form>"
      ],
      "text/plain": [
       "<IPython.core.display.HTML object>"
      ]
     },
     "execution_count": 1,
     "metadata": {},
     "output_type": "execute_result"
    }
   ],
   "source": [
    "from IPython.display import HTML\n",
    "\n",
    "HTML('''<script>\n",
    "code_show=true; \n",
    "function code_toggle() {\n",
    " if (code_show){\n",
    " $('div.input').hide();\n",
    " } else {\n",
    " $('div.input').show();\n",
    " }\n",
    " code_show = !code_show\n",
    "} \n",
    "$( document ).ready(code_toggle);\n",
    "</script>\n",
    "<form action=\"javascript:code_toggle()\"><input type=\"submit\" value=\"Нажмите, чтобы показать/скрыть код\"></form>''')"
   ]
  },
  {
   "cell_type": "markdown",
   "metadata": {},
   "source": [
    "# Оглавление\n",
    "\n",
    "1. [Изучение данных и предобработка](#1step)  \n",
    "2. [Обработка категориальных переменных](#2step)\n",
    "3. [Корреляция числовых признаков](#3step)\n",
    "4. [Построение модели](#4step)\n",
    "    4.1. [Без resampling-а целевой переменной](#4.1step)\n",
    "    4.2. [С downsampling-ом целевой переменной](#4.2step)\n",
    "    4.3. [С oversampling-ом целевой переменной](#4.3step)\n",
    "    4.4. [По самым важным признакам](#4.4step)"
   ]
  },
  {
   "cell_type": "code",
   "execution_count": 2,
   "metadata": {},
   "outputs": [],
   "source": [
    "import pandas as pd\n",
    "import numpy as np\n",
    "\n",
    "#библиотеки для визулизации\n",
    "import matplotlib.pyplot as plt\n",
    "import seaborn as sns\n",
    "%matplotlib inline\n",
    "\n",
    "#библиотеки машинного обучения\n",
    "from sklearn.model_selection import train_test_split\n",
    "from sklearn.ensemble import RandomForestClassifier\n",
    "from sklearn.tree import DecisionTreeClassifier\n",
    "from sklearn.naive_bayes import GaussianNB\n",
    "from sklearn.linear_model import LogisticRegression\n",
    "from sklearn.metrics import accuracy_score, precision_score, recall_score\n",
    "from sklearn.utils import resample\n",
    "from sklearn.metrics import confusion_matrix, classification_report, accuracy_score, roc_curve\n",
    "\n",
    "pd.set_option('display.max_columns', 30)\n",
    "\n",
    "# отключим предупреждения Anaconda\n",
    "import warnings\n",
    "warnings.simplefilter('ignore')"
   ]
  },
  {
   "cell_type": "code",
   "execution_count": 3,
   "metadata": {},
   "outputs": [],
   "source": [
    "df = pd.read_csv('Students_churn_matrix_2020_10_15.csv')"
   ]
  },
  {
   "cell_type": "markdown",
   "metadata": {},
   "source": [
    "Для построения модели были использованы данные по студентам с учетом следующих условий:\n",
    "1. Дата первой активности студента не должна быть позже, чем 8 недель назад от текущей даты. Это позволяет учесть только тех студентов, которые \"прожили\" 0-3 неделю, для которых мы рассчитывали показатели и после этого прошли еще 4 недели, по которым мы определяем отток  \n",
    "\n",
    "\n",
    "2. Дата первой активности равна дате первого урока студента при условии, что у этого урока указан id (pl.id is not null), урок не является пробным уроком (pl.type != 'trial'), урок имеет статус 2 или 4 (pl.status = 2 or pl.status = 4)  \n",
    "\n",
    "\n",
    "3. Дата последней активности определяется исходя из тех же условий, что и дата первой активности  \n",
    "\n",
    "\n",
    "4. Выборка исключает тех студентов, у которых на балансе -1 урок (lc.counter != -1)  "
   ]
  },
  {
   "cell_type": "markdown",
   "metadata": {},
   "source": [
    "**В данной модели под \"оттоком\" понимается отсутствие активности у пользователя (прохождение платных уроков) в течение 4х недель.**"
   ]
  },
  {
   "cell_type": "markdown",
   "metadata": {},
   "source": [
    "## 1. Изучение данных и предобработка <a name=\"1step\"></a>"
   ]
  },
  {
   "cell_type": "markdown",
   "metadata": {},
   "source": [
    "Посмотрим на данные:"
   ]
  },
  {
   "cell_type": "code",
   "execution_count": 4,
   "metadata": {},
   "outputs": [
    {
     "data": {
      "text/html": [
       "<div>\n",
       "<style scoped>\n",
       "    .dataframe tbody tr th:only-of-type {\n",
       "        vertical-align: middle;\n",
       "    }\n",
       "\n",
       "    .dataframe tbody tr th {\n",
       "        vertical-align: top;\n",
       "    }\n",
       "\n",
       "    .dataframe thead th {\n",
       "        text-align: right;\n",
       "    }\n",
       "</style>\n",
       "<table border=\"1\" class=\"dataframe\">\n",
       "  <thead>\n",
       "    <tr style=\"text-align: right;\">\n",
       "      <th></th>\n",
       "      <th>id</th>\n",
       "      <th>first_activity</th>\n",
       "      <th>last_activity</th>\n",
       "      <th>age</th>\n",
       "      <th>gender</th>\n",
       "      <th>language_level</th>\n",
       "      <th>utm_source</th>\n",
       "      <th>utm_medium</th>\n",
       "      <th>is_trial</th>\n",
       "      <th>is_trial_completed</th>\n",
       "      <th>new</th>\n",
       "      <th>completed</th>\n",
       "      <th>declined</th>\n",
       "      <th>student_skipped</th>\n",
       "      <th>teacher_skipped</th>\n",
       "      <th>canceled</th>\n",
       "      <th>changes</th>\n",
       "      <th>is_lead_successful</th>\n",
       "      <th>amount_paid</th>\n",
       "      <th>payments</th>\n",
       "      <th>promocode</th>\n",
       "      <th>is_churn</th>\n",
       "    </tr>\n",
       "  </thead>\n",
       "  <tbody>\n",
       "    <tr>\n",
       "      <th>0</th>\n",
       "      <td>13577</td>\n",
       "      <td>2020-03-03</td>\n",
       "      <td>2020-06-18</td>\n",
       "      <td>13</td>\n",
       "      <td>1</td>\n",
       "      <td>4</td>\n",
       "      <td>fb</td>\n",
       "      <td>fb</td>\n",
       "      <td>0</td>\n",
       "      <td>0</td>\n",
       "      <td>0</td>\n",
       "      <td>10</td>\n",
       "      <td>0</td>\n",
       "      <td>0</td>\n",
       "      <td>0</td>\n",
       "      <td>0</td>\n",
       "      <td>1</td>\n",
       "      <td>1</td>\n",
       "      <td>0.0</td>\n",
       "      <td>0</td>\n",
       "      <td>none</td>\n",
       "      <td>1</td>\n",
       "    </tr>\n",
       "    <tr>\n",
       "      <th>1</th>\n",
       "      <td>13355</td>\n",
       "      <td>2020-02-29</td>\n",
       "      <td>2020-10-06</td>\n",
       "      <td>14</td>\n",
       "      <td>2</td>\n",
       "      <td>5</td>\n",
       "      <td>fb</td>\n",
       "      <td>none</td>\n",
       "      <td>0</td>\n",
       "      <td>0</td>\n",
       "      <td>0</td>\n",
       "      <td>9</td>\n",
       "      <td>0</td>\n",
       "      <td>1</td>\n",
       "      <td>0</td>\n",
       "      <td>0</td>\n",
       "      <td>2</td>\n",
       "      <td>1</td>\n",
       "      <td>1880.0</td>\n",
       "      <td>1</td>\n",
       "      <td>none</td>\n",
       "      <td>0</td>\n",
       "    </tr>\n",
       "    <tr>\n",
       "      <th>2</th>\n",
       "      <td>13120</td>\n",
       "      <td>2020-03-07</td>\n",
       "      <td>2020-09-30</td>\n",
       "      <td>15</td>\n",
       "      <td>1</td>\n",
       "      <td>6</td>\n",
       "      <td>fb</td>\n",
       "      <td>fb</td>\n",
       "      <td>0</td>\n",
       "      <td>0</td>\n",
       "      <td>0</td>\n",
       "      <td>10</td>\n",
       "      <td>0</td>\n",
       "      <td>0</td>\n",
       "      <td>0</td>\n",
       "      <td>0</td>\n",
       "      <td>0</td>\n",
       "      <td>1</td>\n",
       "      <td>2520.0</td>\n",
       "      <td>1</td>\n",
       "      <td>none</td>\n",
       "      <td>0</td>\n",
       "    </tr>\n",
       "    <tr>\n",
       "      <th>3</th>\n",
       "      <td>13215</td>\n",
       "      <td>2020-03-12</td>\n",
       "      <td>2020-04-29</td>\n",
       "      <td>8</td>\n",
       "      <td>2</td>\n",
       "      <td>3</td>\n",
       "      <td>fb</td>\n",
       "      <td>fb</td>\n",
       "      <td>0</td>\n",
       "      <td>0</td>\n",
       "      <td>0</td>\n",
       "      <td>6</td>\n",
       "      <td>0</td>\n",
       "      <td>0</td>\n",
       "      <td>0</td>\n",
       "      <td>0</td>\n",
       "      <td>0</td>\n",
       "      <td>1</td>\n",
       "      <td>1880.0</td>\n",
       "      <td>1</td>\n",
       "      <td>none</td>\n",
       "      <td>1</td>\n",
       "    </tr>\n",
       "    <tr>\n",
       "      <th>4</th>\n",
       "      <td>13212</td>\n",
       "      <td>2020-03-14</td>\n",
       "      <td>2020-05-02</td>\n",
       "      <td>15</td>\n",
       "      <td>2</td>\n",
       "      <td>4</td>\n",
       "      <td>fb</td>\n",
       "      <td>ig</td>\n",
       "      <td>0</td>\n",
       "      <td>0</td>\n",
       "      <td>0</td>\n",
       "      <td>6</td>\n",
       "      <td>0</td>\n",
       "      <td>0</td>\n",
       "      <td>1</td>\n",
       "      <td>0</td>\n",
       "      <td>0</td>\n",
       "      <td>1</td>\n",
       "      <td>1880.0</td>\n",
       "      <td>1</td>\n",
       "      <td>none</td>\n",
       "      <td>1</td>\n",
       "    </tr>\n",
       "  </tbody>\n",
       "</table>\n",
       "</div>"
      ],
      "text/plain": [
       "      id first_activity last_activity  age gender language_level utm_source  \\\n",
       "0  13577     2020-03-03    2020-06-18   13      1              4         fb   \n",
       "1  13355     2020-02-29    2020-10-06   14      2              5         fb   \n",
       "2  13120     2020-03-07    2020-09-30   15      1              6         fb   \n",
       "3  13215     2020-03-12    2020-04-29    8      2              3         fb   \n",
       "4  13212     2020-03-14    2020-05-02   15      2              4         fb   \n",
       "\n",
       "  utm_medium  is_trial  is_trial_completed  new  completed  declined  \\\n",
       "0         fb         0                   0    0         10         0   \n",
       "1       none         0                   0    0          9         0   \n",
       "2         fb         0                   0    0         10         0   \n",
       "3         fb         0                   0    0          6         0   \n",
       "4         ig         0                   0    0          6         0   \n",
       "\n",
       "   student_skipped  teacher_skipped  canceled  changes  is_lead_successful  \\\n",
       "0                0                0         0        1                   1   \n",
       "1                1                0         0        2                   1   \n",
       "2                0                0         0        0                   1   \n",
       "3                0                0         0        0                   1   \n",
       "4                0                1         0        0                   1   \n",
       "\n",
       "   amount_paid  payments promocode  is_churn  \n",
       "0          0.0         0      none         1  \n",
       "1       1880.0         1      none         0  \n",
       "2       2520.0         1      none         0  \n",
       "3       1880.0         1      none         1  \n",
       "4       1880.0         1      none         1  "
      ]
     },
     "execution_count": 4,
     "metadata": {},
     "output_type": "execute_result"
    }
   ],
   "source": [
    "df.head()"
   ]
  },
  {
   "cell_type": "markdown",
   "metadata": {},
   "source": [
    "Проверим типы данных и наличие пропусков:"
   ]
  },
  {
   "cell_type": "code",
   "execution_count": 5,
   "metadata": {},
   "outputs": [
    {
     "name": "stdout",
     "output_type": "stream",
     "text": [
      "<class 'pandas.core.frame.DataFrame'>\n",
      "RangeIndex: 6238 entries, 0 to 6237\n",
      "Data columns (total 22 columns):\n",
      " #   Column              Non-Null Count  Dtype  \n",
      "---  ------              --------------  -----  \n",
      " 0   id                  6238 non-null   int64  \n",
      " 1   first_activity      6238 non-null   object \n",
      " 2   last_activity       6238 non-null   object \n",
      " 3   age                 6238 non-null   int64  \n",
      " 4   gender              6238 non-null   object \n",
      " 5   language_level      6238 non-null   object \n",
      " 6   utm_source          6238 non-null   object \n",
      " 7   utm_medium          6224 non-null   object \n",
      " 8   is_trial            6238 non-null   int64  \n",
      " 9   is_trial_completed  6238 non-null   int64  \n",
      " 10  new                 6238 non-null   int64  \n",
      " 11  completed           6238 non-null   int64  \n",
      " 12  declined            6238 non-null   int64  \n",
      " 13  student_skipped     6238 non-null   int64  \n",
      " 14  teacher_skipped     6238 non-null   int64  \n",
      " 15  canceled            6238 non-null   int64  \n",
      " 16  changes             6238 non-null   int64  \n",
      " 17  is_lead_successful  6238 non-null   int64  \n",
      " 18  amount_paid         6238 non-null   float64\n",
      " 19  payments            6238 non-null   int64  \n",
      " 20  promocode           6238 non-null   object \n",
      " 21  is_churn            6238 non-null   int64  \n",
      "dtypes: float64(1), int64(14), object(7)\n",
      "memory usage: 1.0+ MB\n"
     ]
    }
   ],
   "source": [
    "df.info()"
   ]
  },
  {
   "cell_type": "markdown",
   "metadata": {},
   "source": [
    "Признаки в датасете преимущественно числовые, но есть также и категориальные, которые нам предстоит преобразовать перед тем, как обучать модель.  \n",
    "Пропуски присутствуют только по признаку utm_medium, 14 пропусков, заменим пропуски на 'none'."
   ]
  },
  {
   "cell_type": "code",
   "execution_count": 6,
   "metadata": {},
   "outputs": [],
   "source": [
    "df['utm_medium'] = df['utm_medium'].fillna('none')"
   ]
  },
  {
   "cell_type": "markdown",
   "metadata": {},
   "source": [
    "Заменим также тип first_activity и last_activity на формат даты и времени:"
   ]
  },
  {
   "cell_type": "code",
   "execution_count": 7,
   "metadata": {},
   "outputs": [],
   "source": [
    "df['first_activity'] = pd.to_datetime(df['first_activity'], format='%Y-%m-%d')\n",
    "df['last_activity'] = pd.to_datetime(df['last_activity'], format='%Y-%m-%d')"
   ]
  },
  {
   "cell_type": "markdown",
   "metadata": {},
   "source": [
    "Проверим на наличие некорректных данных:"
   ]
  },
  {
   "cell_type": "code",
   "execution_count": 8,
   "metadata": {},
   "outputs": [
    {
     "data": {
      "text/html": [
       "<div>\n",
       "<style scoped>\n",
       "    .dataframe tbody tr th:only-of-type {\n",
       "        vertical-align: middle;\n",
       "    }\n",
       "\n",
       "    .dataframe tbody tr th {\n",
       "        vertical-align: top;\n",
       "    }\n",
       "\n",
       "    .dataframe thead th {\n",
       "        text-align: right;\n",
       "    }\n",
       "</style>\n",
       "<table border=\"1\" class=\"dataframe\">\n",
       "  <thead>\n",
       "    <tr style=\"text-align: right;\">\n",
       "      <th></th>\n",
       "      <th>id</th>\n",
       "      <th>age</th>\n",
       "      <th>is_trial</th>\n",
       "      <th>is_trial_completed</th>\n",
       "      <th>new</th>\n",
       "      <th>completed</th>\n",
       "      <th>declined</th>\n",
       "      <th>student_skipped</th>\n",
       "      <th>teacher_skipped</th>\n",
       "      <th>canceled</th>\n",
       "      <th>changes</th>\n",
       "      <th>is_lead_successful</th>\n",
       "      <th>amount_paid</th>\n",
       "      <th>payments</th>\n",
       "      <th>is_churn</th>\n",
       "    </tr>\n",
       "  </thead>\n",
       "  <tbody>\n",
       "    <tr>\n",
       "      <th>count</th>\n",
       "      <td>6238.000000</td>\n",
       "      <td>6238.000000</td>\n",
       "      <td>6238.000000</td>\n",
       "      <td>6238.000000</td>\n",
       "      <td>6238.000000</td>\n",
       "      <td>6238.000000</td>\n",
       "      <td>6238.000000</td>\n",
       "      <td>6238.000000</td>\n",
       "      <td>6238.000000</td>\n",
       "      <td>6238.000000</td>\n",
       "      <td>6238.000000</td>\n",
       "      <td>6238.000000</td>\n",
       "      <td>6238.000000</td>\n",
       "      <td>6238.000000</td>\n",
       "      <td>6238.000000</td>\n",
       "    </tr>\n",
       "    <tr>\n",
       "      <th>mean</th>\n",
       "      <td>16292.935236</td>\n",
       "      <td>9.460725</td>\n",
       "      <td>0.457358</td>\n",
       "      <td>0.422892</td>\n",
       "      <td>0.048092</td>\n",
       "      <td>8.841135</td>\n",
       "      <td>0.186117</td>\n",
       "      <td>0.415037</td>\n",
       "      <td>0.016832</td>\n",
       "      <td>0.156781</td>\n",
       "      <td>0.820295</td>\n",
       "      <td>0.593459</td>\n",
       "      <td>1974.025636</td>\n",
       "      <td>0.800417</td>\n",
       "      <td>0.631933</td>\n",
       "    </tr>\n",
       "    <tr>\n",
       "      <th>std</th>\n",
       "      <td>8830.965756</td>\n",
       "      <td>3.579686</td>\n",
       "      <td>0.498218</td>\n",
       "      <td>0.494058</td>\n",
       "      <td>0.447603</td>\n",
       "      <td>2.960581</td>\n",
       "      <td>0.479317</td>\n",
       "      <td>0.802480</td>\n",
       "      <td>0.131122</td>\n",
       "      <td>0.457715</td>\n",
       "      <td>1.595425</td>\n",
       "      <td>0.491227</td>\n",
       "      <td>1850.283731</td>\n",
       "      <td>0.615199</td>\n",
       "      <td>0.482318</td>\n",
       "    </tr>\n",
       "    <tr>\n",
       "      <th>min</th>\n",
       "      <td>49.000000</td>\n",
       "      <td>0.000000</td>\n",
       "      <td>0.000000</td>\n",
       "      <td>0.000000</td>\n",
       "      <td>0.000000</td>\n",
       "      <td>0.000000</td>\n",
       "      <td>0.000000</td>\n",
       "      <td>0.000000</td>\n",
       "      <td>0.000000</td>\n",
       "      <td>0.000000</td>\n",
       "      <td>0.000000</td>\n",
       "      <td>0.000000</td>\n",
       "      <td>0.000000</td>\n",
       "      <td>0.000000</td>\n",
       "      <td>0.000000</td>\n",
       "    </tr>\n",
       "    <tr>\n",
       "      <th>25%</th>\n",
       "      <td>8799.750000</td>\n",
       "      <td>7.000000</td>\n",
       "      <td>0.000000</td>\n",
       "      <td>0.000000</td>\n",
       "      <td>0.000000</td>\n",
       "      <td>7.000000</td>\n",
       "      <td>0.000000</td>\n",
       "      <td>0.000000</td>\n",
       "      <td>0.000000</td>\n",
       "      <td>0.000000</td>\n",
       "      <td>0.000000</td>\n",
       "      <td>0.000000</td>\n",
       "      <td>0.000000</td>\n",
       "      <td>0.000000</td>\n",
       "      <td>0.000000</td>\n",
       "    </tr>\n",
       "    <tr>\n",
       "      <th>50%</th>\n",
       "      <td>16262.000000</td>\n",
       "      <td>9.000000</td>\n",
       "      <td>0.000000</td>\n",
       "      <td>0.000000</td>\n",
       "      <td>0.000000</td>\n",
       "      <td>9.000000</td>\n",
       "      <td>0.000000</td>\n",
       "      <td>0.000000</td>\n",
       "      <td>0.000000</td>\n",
       "      <td>0.000000</td>\n",
       "      <td>0.000000</td>\n",
       "      <td>1.000000</td>\n",
       "      <td>1880.000000</td>\n",
       "      <td>1.000000</td>\n",
       "      <td>1.000000</td>\n",
       "    </tr>\n",
       "    <tr>\n",
       "      <th>75%</th>\n",
       "      <td>23983.500000</td>\n",
       "      <td>11.000000</td>\n",
       "      <td>1.000000</td>\n",
       "      <td>1.000000</td>\n",
       "      <td>0.000000</td>\n",
       "      <td>10.000000</td>\n",
       "      <td>0.000000</td>\n",
       "      <td>1.000000</td>\n",
       "      <td>0.000000</td>\n",
       "      <td>0.000000</td>\n",
       "      <td>1.000000</td>\n",
       "      <td>1.000000</td>\n",
       "      <td>2520.000000</td>\n",
       "      <td>1.000000</td>\n",
       "      <td>1.000000</td>\n",
       "    </tr>\n",
       "    <tr>\n",
       "      <th>max</th>\n",
       "      <td>31855.000000</td>\n",
       "      <td>155.000000</td>\n",
       "      <td>1.000000</td>\n",
       "      <td>1.000000</td>\n",
       "      <td>12.000000</td>\n",
       "      <td>41.000000</td>\n",
       "      <td>7.000000</td>\n",
       "      <td>10.000000</td>\n",
       "      <td>2.000000</td>\n",
       "      <td>10.000000</td>\n",
       "      <td>26.000000</td>\n",
       "      <td>1.000000</td>\n",
       "      <td>21520.000000</td>\n",
       "      <td>5.000000</td>\n",
       "      <td>1.000000</td>\n",
       "    </tr>\n",
       "  </tbody>\n",
       "</table>\n",
       "</div>"
      ],
      "text/plain": [
       "                 id          age     is_trial  is_trial_completed  \\\n",
       "count   6238.000000  6238.000000  6238.000000         6238.000000   \n",
       "mean   16292.935236     9.460725     0.457358            0.422892   \n",
       "std     8830.965756     3.579686     0.498218            0.494058   \n",
       "min       49.000000     0.000000     0.000000            0.000000   \n",
       "25%     8799.750000     7.000000     0.000000            0.000000   \n",
       "50%    16262.000000     9.000000     0.000000            0.000000   \n",
       "75%    23983.500000    11.000000     1.000000            1.000000   \n",
       "max    31855.000000   155.000000     1.000000            1.000000   \n",
       "\n",
       "               new    completed     declined  student_skipped  \\\n",
       "count  6238.000000  6238.000000  6238.000000      6238.000000   \n",
       "mean      0.048092     8.841135     0.186117         0.415037   \n",
       "std       0.447603     2.960581     0.479317         0.802480   \n",
       "min       0.000000     0.000000     0.000000         0.000000   \n",
       "25%       0.000000     7.000000     0.000000         0.000000   \n",
       "50%       0.000000     9.000000     0.000000         0.000000   \n",
       "75%       0.000000    10.000000     0.000000         1.000000   \n",
       "max      12.000000    41.000000     7.000000        10.000000   \n",
       "\n",
       "       teacher_skipped     canceled      changes  is_lead_successful  \\\n",
       "count      6238.000000  6238.000000  6238.000000         6238.000000   \n",
       "mean          0.016832     0.156781     0.820295            0.593459   \n",
       "std           0.131122     0.457715     1.595425            0.491227   \n",
       "min           0.000000     0.000000     0.000000            0.000000   \n",
       "25%           0.000000     0.000000     0.000000            0.000000   \n",
       "50%           0.000000     0.000000     0.000000            1.000000   \n",
       "75%           0.000000     0.000000     1.000000            1.000000   \n",
       "max           2.000000    10.000000    26.000000            1.000000   \n",
       "\n",
       "        amount_paid     payments     is_churn  \n",
       "count   6238.000000  6238.000000  6238.000000  \n",
       "mean    1974.025636     0.800417     0.631933  \n",
       "std     1850.283731     0.615199     0.482318  \n",
       "min        0.000000     0.000000     0.000000  \n",
       "25%        0.000000     0.000000     0.000000  \n",
       "50%     1880.000000     1.000000     1.000000  \n",
       "75%     2520.000000     1.000000     1.000000  \n",
       "max    21520.000000     5.000000     1.000000  "
      ]
     },
     "execution_count": 8,
     "metadata": {},
     "output_type": "execute_result"
    }
   ],
   "source": [
    "df.describe()"
   ]
  },
  {
   "cell_type": "markdown",
   "metadata": {},
   "source": [
    "Можно заметить, что максиальное значение возраста - 155 лет, минимальное - 0 лет. Очевидно, что это некорретные данные. \n",
    "\n",
    "Мы проверили, что среди студентов действительно встречаются дети в возрасте от 3х лет (по таблице amocrm_leads_static), однако нет студентов в возрасте 0,1 год и 155. Посчитаем, сколько в датасете студентов с неправильным значением возраста:"
   ]
  },
  {
   "cell_type": "code",
   "execution_count": 9,
   "metadata": {},
   "outputs": [
    {
     "name": "stdout",
     "output_type": "stream",
     "text": [
      "Некорректный возраст наблюдается у 40 студентов, что составляет 0.64%\n"
     ]
    }
   ],
   "source": [
    "print('Некорректный возраст наблюдается у {} студентов, что составляет {:.2%}'\\\n",
    "              .format(len(df.query('age in (0,1,155)')), len(df.query('age in (0,1,155)'))/len(df)))"
   ]
  },
  {
   "cell_type": "markdown",
   "metadata": {},
   "source": [
    "Менее чем у 1% студентов указан некорректный возраст. Удалим этих студентов для того, чтобы не искажать входные данные для модели."
   ]
  },
  {
   "cell_type": "code",
   "execution_count": 10,
   "metadata": {},
   "outputs": [],
   "source": [
    "df = df.query('age not in (0,1,155)')"
   ]
  },
  {
   "cell_type": "markdown",
   "metadata": {},
   "source": [
    "#### Обработка дубликатов."
   ]
  },
  {
   "cell_type": "markdown",
   "metadata": {},
   "source": [
    "Проверим, что в данных нет дублирования по id студента:"
   ]
  },
  {
   "cell_type": "code",
   "execution_count": 11,
   "metadata": {},
   "outputs": [],
   "source": [
    "duplicated_ids = df['id'].value_counts().sort_values(ascending = False).reset_index()\n",
    "duplicated_ids = duplicated_ids.query('id>1')\n",
    "duplicated_ids_list = duplicated_ids['index'].unique()"
   ]
  },
  {
   "cell_type": "code",
   "execution_count": 12,
   "metadata": {
    "scrolled": true
   },
   "outputs": [
    {
     "data": {
      "text/plain": [
       "56"
      ]
     },
     "execution_count": 12,
     "metadata": {},
     "output_type": "execute_result"
    }
   ],
   "source": [
    "len(duplicated_ids_list)"
   ]
  },
  {
   "cell_type": "markdown",
   "metadata": {},
   "source": [
    "Было обнаружено, что в датасете есть студенты, у которых дублируется информация. \n",
    "Было выявлено, что это связано:\n",
    "\n",
    "1. с тем, что некоторые студенты за первые 4 недели оплачивали уроки более 1 раза и для одного раза использовали промокод, для второго - нет. Было принято решение оставить строку с промокодом.\n",
    "\n",
    "2. со столбцами 'is_lead_successful' и 'is_trial': в некоторых ситуациях id студента один, а id лидов для этого студента - больше одного. При этом один лид успешно реализован => значение 'is_lead_successful' = 1, а другой - нет, значение 0. Аналогичная ситуация для пробных уроков.\n",
    "\n",
    "    Какое было принято решение для обработки таких студентов:\n",
    "    * если у студента есть два разных значения is_lead_successful (0 и 1) => оставляем только 1\n",
    "    * если у студента есть два разных значения is_trial (0 и 1) => оставляем только 1"
   ]
  },
  {
   "cell_type": "markdown",
   "metadata": {},
   "source": [
    "**Порядок действий для обработки дубликатов по промокоду:**  \n",
    "1. Выделим список тех студентов, у которых дублирование связано с промокодами.\n",
    "2. Очистим датасет от этих студентов.\n",
    "3. Добавим к датасету этих студентов вновь, но оставим только одну строку для каждого студента, с промокодом"
   ]
  },
  {
   "cell_type": "code",
   "execution_count": 13,
   "metadata": {},
   "outputs": [
    {
     "data": {
      "text/plain": [
       "7"
      ]
     },
     "execution_count": 13,
     "metadata": {},
     "output_type": "execute_result"
    }
   ],
   "source": [
    "mult_promocode = (df.query('id in @duplicated_ids_list')\n",
    "                   .groupby('id')\n",
    "                   .agg({'promocode':'nunique'})\n",
    "                   .reset_index()\n",
    "                )\n",
    "mult_promocode = mult_promocode.query('promocode > 1')\n",
    "len(mult_promocode)"
   ]
  },
  {
   "cell_type": "code",
   "execution_count": 14,
   "metadata": {},
   "outputs": [],
   "source": [
    "mult_promocode_list = mult_promocode['id'].unique()"
   ]
  },
  {
   "cell_type": "code",
   "execution_count": 15,
   "metadata": {},
   "outputs": [
    {
     "name": "stdout",
     "output_type": "stream",
     "text": [
      "Количество уникальных id студентов до обработки дубликатов: 6141\n"
     ]
    }
   ],
   "source": [
    "print('Количество уникальных id студентов до обработки дубликатов:', len(df['id'].unique()))"
   ]
  },
  {
   "cell_type": "code",
   "execution_count": 16,
   "metadata": {},
   "outputs": [
    {
     "data": {
      "text/plain": [
       "7"
      ]
     },
     "execution_count": 16,
     "metadata": {},
     "output_type": "execute_result"
    }
   ],
   "source": [
    "df_mult_promocode_clean = df.query('id in @mult_promocode_list and promocode != \"none\"')\n",
    "df_wo_duplicates = df.query('id not in @mult_promocode_list')\n",
    "(len(df_mult_promocode_clean))"
   ]
  },
  {
   "cell_type": "code",
   "execution_count": 17,
   "metadata": {},
   "outputs": [],
   "source": [
    "df = pd.concat([df_wo_duplicates,df_mult_promocode_clean])"
   ]
  },
  {
   "cell_type": "code",
   "execution_count": 18,
   "metadata": {},
   "outputs": [
    {
     "name": "stdout",
     "output_type": "stream",
     "text": [
      "Количество уникальных id студентов после избавления от дубликатов: 6141\n"
     ]
    }
   ],
   "source": [
    "print('Количество уникальных id студентов после избавления от дубликатов:', len(df['id'].unique()))"
   ]
  },
  {
   "cell_type": "markdown",
   "metadata": {},
   "source": [
    "**Порядок действий для обработки дубликатов по лидам:**  \n",
    "1. Выделим список тех студентов, у которых дублирование связано с наличием нескольких лидов для 1 студента.\n",
    "2. Очистим датасет от этих студентов.\n",
    "3. Добавим к датасету этих студентов вновь, но оставим только одну строку для каждого студента."
   ]
  },
  {
   "cell_type": "code",
   "execution_count": 19,
   "metadata": {},
   "outputs": [],
   "source": [
    "duplicated_ids_upd = df['id'].value_counts().sort_values(ascending = False).reset_index()\n",
    "duplicated_ids_upd = duplicated_ids_upd.query('id>1')\n",
    "duplicated_ids_upd_list = duplicated_ids_upd['index'].unique()"
   ]
  },
  {
   "cell_type": "code",
   "execution_count": 20,
   "metadata": {},
   "outputs": [
    {
     "data": {
      "text/plain": [
       "49"
      ]
     },
     "execution_count": 20,
     "metadata": {},
     "output_type": "execute_result"
    }
   ],
   "source": [
    "len(duplicated_ids_upd_list)"
   ]
  },
  {
   "cell_type": "code",
   "execution_count": 21,
   "metadata": {},
   "outputs": [
    {
     "data": {
      "text/html": [
       "<div>\n",
       "<style scoped>\n",
       "    .dataframe tbody tr th:only-of-type {\n",
       "        vertical-align: middle;\n",
       "    }\n",
       "\n",
       "    .dataframe tbody tr th {\n",
       "        vertical-align: top;\n",
       "    }\n",
       "\n",
       "    .dataframe thead th {\n",
       "        text-align: right;\n",
       "    }\n",
       "</style>\n",
       "<table border=\"1\" class=\"dataframe\">\n",
       "  <thead>\n",
       "    <tr style=\"text-align: right;\">\n",
       "      <th></th>\n",
       "      <th>id</th>\n",
       "      <th>is_lead_successful</th>\n",
       "      <th>is_trial</th>\n",
       "    </tr>\n",
       "  </thead>\n",
       "  <tbody>\n",
       "    <tr>\n",
       "      <th>0</th>\n",
       "      <td>671</td>\n",
       "      <td>2</td>\n",
       "      <td>1</td>\n",
       "    </tr>\n",
       "    <tr>\n",
       "      <th>1</th>\n",
       "      <td>25144</td>\n",
       "      <td>2</td>\n",
       "      <td>2</td>\n",
       "    </tr>\n",
       "    <tr>\n",
       "      <th>2</th>\n",
       "      <td>18884</td>\n",
       "      <td>2</td>\n",
       "      <td>2</td>\n",
       "    </tr>\n",
       "    <tr>\n",
       "      <th>3</th>\n",
       "      <td>936</td>\n",
       "      <td>2</td>\n",
       "      <td>1</td>\n",
       "    </tr>\n",
       "    <tr>\n",
       "      <th>4</th>\n",
       "      <td>19621</td>\n",
       "      <td>2</td>\n",
       "      <td>2</td>\n",
       "    </tr>\n",
       "  </tbody>\n",
       "</table>\n",
       "</div>"
      ],
      "text/plain": [
       "      id  is_lead_successful  is_trial\n",
       "0    671                   2         1\n",
       "1  25144                   2         2\n",
       "2  18884                   2         2\n",
       "3    936                   2         1\n",
       "4  19621                   2         2"
      ]
     },
     "execution_count": 21,
     "metadata": {},
     "output_type": "execute_result"
    }
   ],
   "source": [
    "multiple_leads = (df.query('id in @duplicated_ids_upd_list')\n",
    "                   .groupby('id')\n",
    "                   .agg({'is_lead_successful':'nunique','is_trial':'nunique'})\n",
    "                   .sort_values('is_lead_successful', ascending = False)\n",
    "                   .reset_index()\n",
    "       )\n",
    "multiple_leads.head()"
   ]
  },
  {
   "cell_type": "code",
   "execution_count": 22,
   "metadata": {},
   "outputs": [
    {
     "name": "stdout",
     "output_type": "stream",
     "text": [
      "Количество уникальных id студентов до обработки дубликатов: 6141\n"
     ]
    }
   ],
   "source": [
    "print('Количество уникальных id студентов до обработки дубликатов:', len(df['id'].unique()))"
   ]
  },
  {
   "cell_type": "code",
   "execution_count": 23,
   "metadata": {},
   "outputs": [],
   "source": [
    "df_wo_duplicates = df.query('id not in @duplicated_ids_upd_list')"
   ]
  },
  {
   "cell_type": "code",
   "execution_count": 24,
   "metadata": {
    "scrolled": true
   },
   "outputs": [
    {
     "data": {
      "text/plain": [
       "49"
      ]
     },
     "execution_count": 24,
     "metadata": {},
     "output_type": "execute_result"
    }
   ],
   "source": [
    "df_mult_leads_clean = (df.loc[df['id'].isin(duplicated_ids_upd_list)]\n",
    "                           .groupby(['id', 'first_activity', 'last_activity', 'age', 'gender',\n",
    "                           'language_level', 'new', 'completed', 'declined', 'student_skipped','teacher_skipped', \n",
    "                           'canceled', 'changes','amount_paid', 'payments', 'promocode', 'is_churn'], as_index=False)\n",
    "                           .agg({'is_lead_successful':'max','is_trial':'max','is_trial_completed':'max','utm_source':'max','utm_medium':'max'})\n",
    ")\n",
    "len(df_mult_leads_clean)"
   ]
  },
  {
   "cell_type": "code",
   "execution_count": 25,
   "metadata": {},
   "outputs": [],
   "source": [
    "df = pd.concat([df_wo_duplicates,df_mult_leads_clean])"
   ]
  },
  {
   "cell_type": "code",
   "execution_count": 26,
   "metadata": {},
   "outputs": [
    {
     "name": "stdout",
     "output_type": "stream",
     "text": [
      "Количество уникальных id студентов после избавления от дубликатов: 6141\n"
     ]
    }
   ],
   "source": [
    "print('Количество уникальных id студентов после избавления от дубликатов:', len(df['id'].unique()))"
   ]
  },
  {
   "cell_type": "code",
   "execution_count": 27,
   "metadata": {},
   "outputs": [
    {
     "name": "stdout",
     "output_type": "stream",
     "text": [
      "Количество дубликатов в id студентов после обработки: 0\n"
     ]
    }
   ],
   "source": [
    "duplicated_ids = df['id'].value_counts().sort_values(ascending = False).reset_index()\n",
    "duplicated_ids = duplicated_ids.query('id>1')\n",
    "print('Количество дубликатов в id студентов после обработки: {}'.format(len(duplicated_ids)))"
   ]
  },
  {
   "cell_type": "markdown",
   "metadata": {},
   "source": [
    "## 2. Обработка категориальных переменных <a name=\"2step\"></a> "
   ]
  },
  {
   "cell_type": "code",
   "execution_count": 28,
   "metadata": {},
   "outputs": [
    {
     "name": "stdout",
     "output_type": "stream",
     "text": [
      "Всего в датасете 5 категориальных переменных\n",
      "\n",
      "Список категориальных переменных :\n",
      "\n",
      " ['gender', 'language_level', 'utm_source', 'utm_medium', 'promocode']\n"
     ]
    }
   ],
   "source": [
    "categorical = [var for var in df.columns if df[var].dtype=='O']\n",
    "\n",
    "print('Всего в датасете {} категориальных переменных\\n'.format(len(categorical)))\n",
    "\n",
    "print('Список категориальных переменных :\\n\\n', categorical)"
   ]
  },
  {
   "cell_type": "markdown",
   "metadata": {},
   "source": [
    "#### 1. gender"
   ]
  },
  {
   "cell_type": "code",
   "execution_count": 29,
   "metadata": {},
   "outputs": [
    {
     "data": {
      "text/plain": [
       "1       2715\n",
       "2       2529\n",
       "none     897\n",
       "Name: gender, dtype: int64"
      ]
     },
     "execution_count": 29,
     "metadata": {},
     "output_type": "execute_result"
    }
   ],
   "source": [
    "df['gender'].value_counts()"
   ]
  },
  {
   "cell_type": "code",
   "execution_count": 30,
   "metadata": {},
   "outputs": [
    {
     "name": "stdout",
     "output_type": "stream",
     "text": [
      "Признак пола отсутствует для 14.61% пользователей\n"
     ]
    }
   ],
   "source": [
    "print('Признак пола отсутствует для {:.2%} пользователей'.format(len(df.query('gender == \"none\"'))/len(df)))"
   ]
  },
  {
   "cell_type": "markdown",
   "metadata": {},
   "source": [
    "Заменим пол = 'none' на значение 0 - 'пол не указан'"
   ]
  },
  {
   "cell_type": "code",
   "execution_count": 31,
   "metadata": {},
   "outputs": [],
   "source": [
    "df['gender'] = df['gender'].replace(to_replace='none',value=0)"
   ]
  },
  {
   "cell_type": "code",
   "execution_count": 32,
   "metadata": {},
   "outputs": [
    {
     "data": {
      "text/plain": [
       "1    2715\n",
       "2    2529\n",
       "0     897\n",
       "Name: gender, dtype: int64"
      ]
     },
     "execution_count": 32,
     "metadata": {},
     "output_type": "execute_result"
    }
   ],
   "source": [
    "df['gender'].value_counts()"
   ]
  },
  {
   "cell_type": "markdown",
   "metadata": {},
   "source": [
    "#### 2. language_level"
   ]
  },
  {
   "cell_type": "code",
   "execution_count": 33,
   "metadata": {},
   "outputs": [
    {
     "data": {
      "text/plain": [
       "3       1733\n",
       "4       1651\n",
       "1       1154\n",
       "5        744\n",
       "2        316\n",
       "6        292\n",
       "none     244\n",
       "7          7\n",
       "Name: language_level, dtype: int64"
      ]
     },
     "execution_count": 33,
     "metadata": {},
     "output_type": "execute_result"
    }
   ],
   "source": [
    "df['language_level'].value_counts()"
   ]
  },
  {
   "cell_type": "code",
   "execution_count": 34,
   "metadata": {},
   "outputs": [
    {
     "name": "stdout",
     "output_type": "stream",
     "text": [
      "Признак уровня отсутствует для 3.97% пользователей\n"
     ]
    }
   ],
   "source": [
    "print('Признак уровня отсутствует для {:.2%} пользователей'.format(len(df.query('language_level == \"none\"'))/len(df)))"
   ]
  },
  {
   "cell_type": "markdown",
   "metadata": {},
   "source": [
    "Заменим уровень языка = 'none' на значение 0 - 'уровень не указан'"
   ]
  },
  {
   "cell_type": "code",
   "execution_count": 35,
   "metadata": {},
   "outputs": [],
   "source": [
    "df['language_level'] = df['language_level'].replace(to_replace='none',value=0)"
   ]
  },
  {
   "cell_type": "markdown",
   "metadata": {},
   "source": [
    "#### 3. utm_source"
   ]
  },
  {
   "cell_type": "code",
   "execution_count": 36,
   "metadata": {},
   "outputs": [
    {
     "data": {
      "text/plain": [
       "array(['fb', 'none', 'FB', 'youtube', 'referrals', 'search', 'email',\n",
       "       'instagram', 'gdn', 'email_campaign', 'Insta', 'UniSender',\n",
       "       'INSTA', 'basecall', 'test', 'utm_source=basecall', 'blogger',\n",
       "       'google', 'friendbase', 'discovery', 'chugaister'], dtype=object)"
      ]
     },
     "execution_count": 36,
     "metadata": {},
     "output_type": "execute_result"
    }
   ],
   "source": [
    "df['utm_source'].unique()"
   ]
  },
  {
   "cell_type": "markdown",
   "metadata": {},
   "source": [
    "В метках есть много повторов разного написания, преобразуем utm_source с помощью словаря и выведем новый список уникальных названий."
   ]
  },
  {
   "cell_type": "code",
   "execution_count": 37,
   "metadata": {},
   "outputs": [],
   "source": [
    "sources_dict = {'fb':['fb','FB'], \n",
    "               'instagram':['instagram','Insta','INSTA','intagram'], \n",
    "               'youtube':['youtube'],\n",
    "               'referrals':['referrals'],\n",
    "               'search':['search'],\n",
    "               'email':['email'],\n",
    "               'gdn':['gdn'],\n",
    "               'email_campaign':['email_campaign'],\n",
    "               'unisender':['UniSender'],\n",
    "               'basecall':['basecall','utm_source=basecall'],\n",
    "               'google':['google'],\n",
    "               'blogger':['blogger'],\n",
    "               'test':['test'],\n",
    "               'friendbase':['friendbase'],\n",
    "               'discovery':['discovery'],\n",
    "               'chugaister':['chugaister'],\n",
    "               'none':['none']\n",
    "        }"
   ]
  },
  {
   "cell_type": "code",
   "execution_count": 38,
   "metadata": {},
   "outputs": [],
   "source": [
    "def sources(utm_sources):  \n",
    "    for source, source_list in sources_dict.items():       \n",
    "        for i in source_list:\n",
    "            if i in utm_sources:\n",
    "                return source"
   ]
  },
  {
   "cell_type": "code",
   "execution_count": 39,
   "metadata": {},
   "outputs": [],
   "source": [
    "df['utm_source_edit'] = df['utm_source'].apply(sources)"
   ]
  },
  {
   "cell_type": "code",
   "execution_count": 40,
   "metadata": {},
   "outputs": [
    {
     "data": {
      "text/plain": [
       "array(['fb', 'none', 'youtube', 'referrals', 'search', 'email',\n",
       "       'instagram', 'gdn', 'unisender', 'basecall', 'test', 'blogger',\n",
       "       'google', 'friendbase', 'discovery', 'chugaister'], dtype=object)"
      ]
     },
     "execution_count": 40,
     "metadata": {},
     "output_type": "execute_result"
    }
   ],
   "source": [
    "df['utm_source_edit'].unique()"
   ]
  },
  {
   "cell_type": "code",
   "execution_count": 41,
   "metadata": {},
   "outputs": [
    {
     "data": {
      "text/plain": [
       "none          3309\n",
       "fb            2118\n",
       "referrals      213\n",
       "gdn            169\n",
       "youtube        123\n",
       "search          66\n",
       "instagram       36\n",
       "basecall        34\n",
       "unisender       33\n",
       "friendbase      19\n",
       "blogger         10\n",
       "email            5\n",
       "chugaister       2\n",
       "google           2\n",
       "test             1\n",
       "discovery        1\n",
       "Name: utm_source_edit, dtype: int64"
      ]
     },
     "execution_count": 41,
     "metadata": {},
     "output_type": "execute_result"
    }
   ],
   "source": [
    "df['utm_source_edit'].value_counts()"
   ]
  },
  {
   "cell_type": "code",
   "execution_count": 42,
   "metadata": {},
   "outputs": [
    {
     "name": "stdout",
     "output_type": "stream",
     "text": [
      "Признак метки utm_source отсутствует для 53.88% пользователей\n"
     ]
    }
   ],
   "source": [
    "print('Признак метки utm_source отсутствует для {:.2%} пользователей'.format(len(df.query('utm_source_edit == \"none\"'))/len(df)))"
   ]
  },
  {
   "cell_type": "markdown",
   "metadata": {},
   "source": [
    "Более чем для половины пользователей отсутсвует информация о метке utm_source. Это не дает нам использовать данный признак для построения модели."
   ]
  },
  {
   "cell_type": "markdown",
   "metadata": {},
   "source": [
    "#### 4. utm_medium"
   ]
  },
  {
   "cell_type": "code",
   "execution_count": 43,
   "metadata": {},
   "outputs": [
    {
     "data": {
      "text/plain": [
       "array(['fb', 'none', 'ig', 'cpc', 'blogger', 'email', 'test', 'instagram'],\n",
       "      dtype=object)"
      ]
     },
     "execution_count": 43,
     "metadata": {},
     "output_type": "execute_result"
    }
   ],
   "source": [
    "df['utm_medium'].unique()"
   ]
  },
  {
   "cell_type": "code",
   "execution_count": 44,
   "metadata": {},
   "outputs": [
    {
     "data": {
      "text/plain": [
       "none         3916\n",
       "fb           1105\n",
       "ig            634\n",
       "cpc           386\n",
       "blogger        52\n",
       "email          37\n",
       "instagram      10\n",
       "test            1\n",
       "Name: utm_medium, dtype: int64"
      ]
     },
     "execution_count": 44,
     "metadata": {},
     "output_type": "execute_result"
    }
   ],
   "source": [
    "df['utm_medium'].value_counts()"
   ]
  },
  {
   "cell_type": "code",
   "execution_count": 45,
   "metadata": {},
   "outputs": [
    {
     "name": "stdout",
     "output_type": "stream",
     "text": [
      "Признак метки utm_medium отсутствует для 63.77% пользователей\n"
     ]
    }
   ],
   "source": [
    "print('Признак метки utm_medium отсутствует для {:.2%} пользователей'.format(len(df.query('utm_medium == \"none\"'))/len(df)))"
   ]
  },
  {
   "cell_type": "markdown",
   "metadata": {},
   "source": [
    "Признак отсутствует у более чем 64% пользователей, что не дает нам использовать этот признак для модели."
   ]
  },
  {
   "cell_type": "markdown",
   "metadata": {},
   "source": [
    "#### 5. promocode"
   ]
  },
  {
   "cell_type": "markdown",
   "metadata": {},
   "source": [
    "Для промокодов сделаем следующее преобразование: добавим столбец had_promocode, в котором будет указано значение 0, если студент ни разу не использовал промокод для оплаты или 1, если использовал хотя бы при одной оплате."
   ]
  },
  {
   "cell_type": "code",
   "execution_count": 46,
   "metadata": {},
   "outputs": [
    {
     "data": {
      "text/plain": [
       "array(['none', 'NAFFY', 'OSIA', 'LEGKO', 'MCQUINN', 'ABAKUMOVA', 'SAKADO',\n",
       "       'NOSOK', 'marmazka', 'SUMMER', 'CHUGA', 'KRISTI', 'TSOYLITA',\n",
       "       'NEZDAYS', 'WELCOME', 'KATYTORONTO', 'MICH', 'BLUSHSUPREME',\n",
       "       'TATAMI'], dtype=object)"
      ]
     },
     "execution_count": 46,
     "metadata": {},
     "output_type": "execute_result"
    }
   ],
   "source": [
    "df['promocode'].unique()"
   ]
  },
  {
   "cell_type": "code",
   "execution_count": 47,
   "metadata": {},
   "outputs": [],
   "source": [
    "def promo(promocode):\n",
    "    if promocode == 'none':\n",
    "        return 0\n",
    "    else:\n",
    "        return 1\n",
    "\n",
    "df['had_promocode'] = df['promocode'].apply(promo)"
   ]
  },
  {
   "cell_type": "code",
   "execution_count": 48,
   "metadata": {},
   "outputs": [
    {
     "data": {
      "text/plain": [
       "0    6076\n",
       "1      65\n",
       "Name: had_promocode, dtype: int64"
      ]
     },
     "execution_count": 48,
     "metadata": {},
     "output_type": "execute_result"
    }
   ],
   "source": [
    "df['had_promocode'].value_counts()"
   ]
  },
  {
   "cell_type": "markdown",
   "metadata": {},
   "source": [
    "Основная доля студентов не использовала промокоды для оплаты."
   ]
  },
  {
   "cell_type": "markdown",
   "metadata": {},
   "source": [
    "## 3. Корреляция числовых признаков  <a name=\"3step\"></a> "
   ]
  },
  {
   "cell_type": "markdown",
   "metadata": {},
   "source": [
    "**Таблица корреляции числовых признаков:**"
   ]
  },
  {
   "cell_type": "code",
   "execution_count": 49,
   "metadata": {},
   "outputs": [
    {
     "data": {
      "image/png": "[encoded data removed]",
      "text/plain": [
       "<Figure size 1440x864 with 2 Axes>"
      ]
     },
     "metadata": {
      "needs_background": "light"
     },
     "output_type": "display_data"
    }
   ],
   "source": [
    "plt.figure(figsize=(20, 12))\n",
    "sns.set(font_scale=1.1)\n",
    "sns.heatmap(df.drop(columns=['id','age']).corr(),annot=True,fmt='.2f',linewidths=0.1,linecolor='beige',);"
   ]
  },
  {
   "cell_type": "code",
   "execution_count": 50,
   "metadata": {},
   "outputs": [
    {
     "data": {
      "text/plain": [
       "1    3878\n",
       "0    2263\n",
       "Name: is_churn, dtype: int64"
      ]
     },
     "execution_count": 50,
     "metadata": {},
     "output_type": "execute_result"
    }
   ],
   "source": [
    "df['is_churn'].value_counts()"
   ]
  },
  {
   "cell_type": "markdown",
   "metadata": {},
   "source": [
    "## 4. Построение модели <a name=\"4step\"></a> "
   ]
  },
  {
   "cell_type": "code",
   "execution_count": 51,
   "metadata": {},
   "outputs": [],
   "source": [
    "y = df['is_churn'] #целевая переменная\n",
    "X = df.drop(columns=['id','first_activity','last_activity','is_churn','utm_source',\\\n",
    "                     'utm_medium','promocode','utm_source_edit']) #признаки"
   ]
  },
  {
   "cell_type": "markdown",
   "metadata": {},
   "source": [
    "Итак, какие признаки будут использоваться для модели:\n",
    "\n",
    "1. Метрики количества пройденных уроков по типам уроков: completed, declined, canceled, new, student_skipped, teacher_skipped\n",
    "2. Уровень языка: language_level\n",
    "3. Пол студента: gender\n",
    "4.\n",
    "5. Выручка от студента за недели 0-3: amount_paid\n",
    "6. Количество платежей, поступивших от студента за недели 0-3: payments\n",
    "7. Был ли использован промокод для оплаты: had_promocode\n",
    "8. Количество замен учителей для студента в недели 0-3: changes\n",
    "9. Был ли студент приглашен на пробное занятие, когда он был лидом: is_trial\n",
    "10. Прошел ли студент пробное занятие: is_trial_completed\n",
    "11. Был ли лид успешным: is_lead_successful\n",
    "\n",
    "\n",
    "Какие признаки не будем использовать:\n",
    "\n",
    "1. Идентификатор студента: id\n",
    "2. Даты первой и последней активности: first_activity и last_activity\n",
    "3. Utm метки: utm_source (и обработанный столбец utm_source_edit) и utm_medium из-за того, что более чем по половине студентов отсутствует информация\n",
    "4. Название промокода: promocode, т.к. был создан дополнительный столбец со значениями 0 (без промокода)/ 1 (с промокодом)"
   ]
  },
  {
   "cell_type": "markdown",
   "metadata": {},
   "source": [
    "Для решения задачи сравним несколько моделей:\n",
    "\n",
    "1. Модель логистической регрессии\n",
    "2. Модель случайного леса\n",
    "3. Дерево принятия решений\n",
    "4. Наивный байесовский классификатор"
   ]
  },
  {
   "cell_type": "markdown",
   "metadata": {},
   "source": [
    "Разделим выборку на обучающую и валидационную:"
   ]
  },
  {
   "cell_type": "code",
   "execution_count": 52,
   "metadata": {},
   "outputs": [],
   "source": [
    "X_train, X_test, y_train, y_test = train_test_split(X,y, test_size=0.2, random_state=42)"
   ]
  },
  {
   "cell_type": "markdown",
   "metadata": {},
   "source": [
    "### 4.1. Без resampling-а целевой переменной <a name=\"4.1step\"></a> "
   ]
  },
  {
   "cell_type": "markdown",
   "metadata": {},
   "source": [
    "### а. Логистическая регрессия"
   ]
  },
  {
   "cell_type": "code",
   "execution_count": 53,
   "metadata": {
    "scrolled": true
   },
   "outputs": [
    {
     "data": {
      "text/plain": [
       "LogisticRegression(C=1.0, class_weight=None, dual=False, fit_intercept=True,\n",
       "                   intercept_scaling=1, l1_ratio=None, max_iter=100,\n",
       "                   multi_class='auto', n_jobs=None, penalty='l2',\n",
       "                   random_state=42, solver='lbfgs', tol=0.0001, verbose=0,\n",
       "                   warm_start=False)"
      ]
     },
     "execution_count": 53,
     "metadata": {},
     "output_type": "execute_result"
    }
   ],
   "source": [
    "#обучаем модель логистической регрессии\n",
    "model = LogisticRegression(random_state = 42)\n",
    "model.fit(X_train,y_train)"
   ]
  },
  {
   "cell_type": "code",
   "execution_count": 54,
   "metadata": {},
   "outputs": [],
   "source": [
    "#воспользуемся обученной моделью на валидационной выборке\n",
    "log_predictions = model.predict(X_test)\n",
    "log_probabilities = model.predict_proba(X_test)[:,1]"
   ]
  },
  {
   "cell_type": "code",
   "execution_count": 55,
   "metadata": {},
   "outputs": [
    {
     "name": "stdout",
     "output_type": "stream",
     "text": [
      "[[143 318]\n",
      " [116 652]]\n",
      "              precision    recall  f1-score   support\n",
      "\n",
      "           0       0.55      0.31      0.40       461\n",
      "           1       0.67      0.85      0.75       768\n",
      "\n",
      "    accuracy                           0.65      1229\n",
      "   macro avg       0.61      0.58      0.57      1229\n",
      "weighted avg       0.63      0.65      0.62      1229\n",
      "\n"
     ]
    }
   ],
   "source": [
    "print(confusion_matrix(y_test, log_predictions))\n",
    "print(classification_report(y_test, log_predictions))"
   ]
  },
  {
   "cell_type": "code",
   "execution_count": 56,
   "metadata": {},
   "outputs": [
    {
     "data": {
      "text/plain": [
       "0.6468673718470301"
      ]
     },
     "execution_count": 56,
     "metadata": {},
     "output_type": "execute_result"
    }
   ],
   "source": [
    "log_score = model.score(X_test, y_test)\n",
    "log_score"
   ]
  },
  {
   "cell_type": "code",
   "execution_count": 57,
   "metadata": {},
   "outputs": [
    {
     "data": {
      "image/png": "[encoded data removed]",
      "text/plain": [
       "<Figure size 432x288 with 1 Axes>"
      ]
     },
     "metadata": {},
     "output_type": "display_data"
    }
   ],
   "source": [
    "# ROC CURVE\n",
    "\n",
    "fpr, tpr, thresholds = roc_curve(y_test, log_probabilities)\n",
    "\n",
    "plt.plot([0, 1], [0, 1], 'k--')\n",
    "plt.plot(fpr, tpr)\n",
    "plt.xlabel('False Positive Rate')\n",
    "plt.ylabel('True Positive Rate')\n",
    "plt.title('ROC Curve')\n",
    "plt.show()"
   ]
  },
  {
   "cell_type": "code",
   "execution_count": 58,
   "metadata": {},
   "outputs": [
    {
     "data": {
      "text/html": [
       "<div>\n",
       "<style scoped>\n",
       "    .dataframe tbody tr th:only-of-type {\n",
       "        vertical-align: middle;\n",
       "    }\n",
       "\n",
       "    .dataframe tbody tr th {\n",
       "        vertical-align: top;\n",
       "    }\n",
       "\n",
       "    .dataframe thead th {\n",
       "        text-align: right;\n",
       "    }\n",
       "</style>\n",
       "<table border=\"1\" class=\"dataframe\">\n",
       "  <thead>\n",
       "    <tr style=\"text-align: right;\">\n",
       "      <th></th>\n",
       "      <th>feature</th>\n",
       "      <th>importance</th>\n",
       "    </tr>\n",
       "  </thead>\n",
       "  <tbody>\n",
       "    <tr>\n",
       "      <th>8</th>\n",
       "      <td>student_skipped</td>\n",
       "      <td>0.485067</td>\n",
       "    </tr>\n",
       "    <tr>\n",
       "      <th>7</th>\n",
       "      <td>declined</td>\n",
       "      <td>0.155350</td>\n",
       "    </tr>\n",
       "    <tr>\n",
       "      <th>10</th>\n",
       "      <td>canceled</td>\n",
       "      <td>0.102735</td>\n",
       "    </tr>\n",
       "    <tr>\n",
       "      <th>0</th>\n",
       "      <td>age</td>\n",
       "      <td>0.092037</td>\n",
       "    </tr>\n",
       "    <tr>\n",
       "      <th>6</th>\n",
       "      <td>completed</td>\n",
       "      <td>0.063317</td>\n",
       "    </tr>\n",
       "    <tr>\n",
       "      <th>14</th>\n",
       "      <td>payments</td>\n",
       "      <td>0.062459</td>\n",
       "    </tr>\n",
       "    <tr>\n",
       "      <th>11</th>\n",
       "      <td>changes</td>\n",
       "      <td>0.061269</td>\n",
       "    </tr>\n",
       "    <tr>\n",
       "      <th>5</th>\n",
       "      <td>new</td>\n",
       "      <td>0.046874</td>\n",
       "    </tr>\n",
       "    <tr>\n",
       "      <th>9</th>\n",
       "      <td>teacher_skipped</td>\n",
       "      <td>0.012023</td>\n",
       "    </tr>\n",
       "    <tr>\n",
       "      <th>13</th>\n",
       "      <td>amount_paid</td>\n",
       "      <td>-0.000183</td>\n",
       "    </tr>\n",
       "  </tbody>\n",
       "</table>\n",
       "</div>"
      ],
      "text/plain": [
       "            feature  importance\n",
       "8   student_skipped    0.485067\n",
       "7          declined    0.155350\n",
       "10         canceled    0.102735\n",
       "0               age    0.092037\n",
       "6         completed    0.063317\n",
       "14         payments    0.062459\n",
       "11          changes    0.061269\n",
       "5               new    0.046874\n",
       "9   teacher_skipped    0.012023\n",
       "13      amount_paid   -0.000183"
      ]
     },
     "execution_count": 58,
     "metadata": {},
     "output_type": "execute_result"
    }
   ],
   "source": [
    "log_features = pd.DataFrame({'feature': X_train.columns,\n",
    "              'importance': np.round(model.coef_[0], 6)}).sort_values('importance', ascending=False).head(10)\n",
    "log_features"
   ]
  },
  {
   "cell_type": "markdown",
   "metadata": {},
   "source": [
    "### b. Модель случайного леса"
   ]
  },
  {
   "cell_type": "code",
   "execution_count": 59,
   "metadata": {},
   "outputs": [
    {
     "data": {
      "text/plain": [
       "RandomForestClassifier(bootstrap=True, ccp_alpha=0.0, class_weight=None,\n",
       "                       criterion='gini', max_depth=10, max_features='auto',\n",
       "                       max_leaf_nodes=None, max_samples=None,\n",
       "                       min_impurity_decrease=0.0, min_impurity_split=None,\n",
       "                       min_samples_leaf=1, min_samples_split=2,\n",
       "                       min_weight_fraction_leaf=0.0, n_estimators=30,\n",
       "                       n_jobs=None, oob_score=False, random_state=42, verbose=0,\n",
       "                       warm_start=False)"
      ]
     },
     "execution_count": 59,
     "metadata": {},
     "output_type": "execute_result"
    }
   ],
   "source": [
    "#обучаем модель случайного леса\n",
    "rf_model = RandomForestClassifier(random_state=42, n_estimators=30, \n",
    "                             criterion='gini', min_samples_split=2, min_samples_leaf=1, max_depth=10)\n",
    "rf_model.fit(X_train, y_train)"
   ]
  },
  {
   "cell_type": "code",
   "execution_count": 60,
   "metadata": {},
   "outputs": [],
   "source": [
    "rf_predictions = rf_model.predict(X_test)\n",
    "rf_probabilities = rf_model.predict_proba(X_test)[:,1]"
   ]
  },
  {
   "cell_type": "code",
   "execution_count": 61,
   "metadata": {},
   "outputs": [
    {
     "name": "stdout",
     "output_type": "stream",
     "text": [
      "[[144 317]\n",
      " [113 655]]\n",
      "              precision    recall  f1-score   support\n",
      "\n",
      "           0       0.56      0.31      0.40       461\n",
      "           1       0.67      0.85      0.75       768\n",
      "\n",
      "    accuracy                           0.65      1229\n",
      "   macro avg       0.62      0.58      0.58      1229\n",
      "weighted avg       0.63      0.65      0.62      1229\n",
      "\n"
     ]
    }
   ],
   "source": [
    "print(confusion_matrix(y_test, rf_predictions))\n",
    "print(classification_report(y_test, rf_predictions))"
   ]
  },
  {
   "cell_type": "code",
   "execution_count": 62,
   "metadata": {},
   "outputs": [
    {
     "data": {
      "text/plain": [
       "0.6501220504475184"
      ]
     },
     "execution_count": 62,
     "metadata": {},
     "output_type": "execute_result"
    }
   ],
   "source": [
    "rf_score = rf_model.score(X_test, y_test)\n",
    "rf_score"
   ]
  },
  {
   "cell_type": "code",
   "execution_count": 63,
   "metadata": {},
   "outputs": [
    {
     "data": {
      "image/png": "[encoded data removed]",
      "text/plain": [
       "<Figure size 432x288 with 1 Axes>"
      ]
     },
     "metadata": {},
     "output_type": "display_data"
    }
   ],
   "source": [
    "# ROC CURVE\n",
    "\n",
    "fpr, tpr, thresholds = roc_curve(y_test, rf_probabilities)\n",
    "\n",
    "plt.plot([0, 1], [0, 1], 'k--')\n",
    "plt.plot(fpr, tpr)\n",
    "plt.xlabel('False Positive Rate')\n",
    "plt.ylabel('True Positive Rate')\n",
    "plt.title('ROC Curve')\n",
    "plt.show()"
   ]
  },
  {
   "cell_type": "code",
   "execution_count": 64,
   "metadata": {},
   "outputs": [
    {
     "data": {
      "text/html": [
       "<div>\n",
       "<style scoped>\n",
       "    .dataframe tbody tr th:only-of-type {\n",
       "        vertical-align: middle;\n",
       "    }\n",
       "\n",
       "    .dataframe tbody tr th {\n",
       "        vertical-align: top;\n",
       "    }\n",
       "\n",
       "    .dataframe thead th {\n",
       "        text-align: right;\n",
       "    }\n",
       "</style>\n",
       "<table border=\"1\" class=\"dataframe\">\n",
       "  <thead>\n",
       "    <tr style=\"text-align: right;\">\n",
       "      <th></th>\n",
       "      <th>feature</th>\n",
       "      <th>importance</th>\n",
       "    </tr>\n",
       "  </thead>\n",
       "  <tbody>\n",
       "    <tr>\n",
       "      <th>13</th>\n",
       "      <td>amount_paid</td>\n",
       "      <td>0.153471</td>\n",
       "    </tr>\n",
       "    <tr>\n",
       "      <th>6</th>\n",
       "      <td>completed</td>\n",
       "      <td>0.138749</td>\n",
       "    </tr>\n",
       "    <tr>\n",
       "      <th>2</th>\n",
       "      <td>language_level</td>\n",
       "      <td>0.116870</td>\n",
       "    </tr>\n",
       "    <tr>\n",
       "      <th>0</th>\n",
       "      <td>age</td>\n",
       "      <td>0.114928</td>\n",
       "    </tr>\n",
       "    <tr>\n",
       "      <th>8</th>\n",
       "      <td>student_skipped</td>\n",
       "      <td>0.075340</td>\n",
       "    </tr>\n",
       "    <tr>\n",
       "      <th>1</th>\n",
       "      <td>gender</td>\n",
       "      <td>0.072579</td>\n",
       "    </tr>\n",
       "    <tr>\n",
       "      <th>11</th>\n",
       "      <td>changes</td>\n",
       "      <td>0.067830</td>\n",
       "    </tr>\n",
       "    <tr>\n",
       "      <th>3</th>\n",
       "      <td>is_trial</td>\n",
       "      <td>0.060603</td>\n",
       "    </tr>\n",
       "    <tr>\n",
       "      <th>12</th>\n",
       "      <td>is_lead_successful</td>\n",
       "      <td>0.035271</td>\n",
       "    </tr>\n",
       "    <tr>\n",
       "      <th>7</th>\n",
       "      <td>declined</td>\n",
       "      <td>0.034838</td>\n",
       "    </tr>\n",
       "  </tbody>\n",
       "</table>\n",
       "</div>"
      ],
      "text/plain": [
       "               feature  importance\n",
       "13         amount_paid    0.153471\n",
       "6            completed    0.138749\n",
       "2       language_level    0.116870\n",
       "0                  age    0.114928\n",
       "8      student_skipped    0.075340\n",
       "1               gender    0.072579\n",
       "11             changes    0.067830\n",
       "3             is_trial    0.060603\n",
       "12  is_lead_successful    0.035271\n",
       "7             declined    0.034838"
      ]
     },
     "execution_count": 64,
     "metadata": {},
     "output_type": "execute_result"
    }
   ],
   "source": [
    "rf_features = pd.DataFrame({'feature': X_train.columns,\n",
    "              'importance': rf_model.feature_importances_}).sort_values('importance', ascending=False).head(10)\n",
    "rf_features"
   ]
  },
  {
   "cell_type": "markdown",
   "metadata": {},
   "source": [
    "### c. Модель дерева принятия решений"
   ]
  },
  {
   "cell_type": "code",
   "execution_count": 65,
   "metadata": {},
   "outputs": [
    {
     "data": {
      "text/plain": [
       "DecisionTreeClassifier(ccp_alpha=0.0, class_weight=None, criterion='gini',\n",
       "                       max_depth=10, max_features=None, max_leaf_nodes=None,\n",
       "                       min_impurity_decrease=0.0, min_impurity_split=None,\n",
       "                       min_samples_leaf=1, min_samples_split=2,\n",
       "                       min_weight_fraction_leaf=0.0, presort='deprecated',\n",
       "                       random_state=42, splitter='best')"
      ]
     },
     "execution_count": 65,
     "metadata": {},
     "output_type": "execute_result"
    }
   ],
   "source": [
    "tree_model = DecisionTreeClassifier(random_state=42, criterion='gini', \n",
    "                                    min_samples_split=2, min_samples_leaf=1, max_depth=10)\n",
    "tree_model.fit(X_train, y_train)"
   ]
  },
  {
   "cell_type": "code",
   "execution_count": 66,
   "metadata": {},
   "outputs": [],
   "source": [
    "tree_predictions = tree_model.predict(X_test)\n",
    "tree_probabilities = tree_model.predict_proba(X_test)[:,1]"
   ]
  },
  {
   "cell_type": "code",
   "execution_count": 67,
   "metadata": {},
   "outputs": [
    {
     "name": "stdout",
     "output_type": "stream",
     "text": [
      "[[208 253]\n",
      " [194 574]]\n",
      "              precision    recall  f1-score   support\n",
      "\n",
      "           0       0.52      0.45      0.48       461\n",
      "           1       0.69      0.75      0.72       768\n",
      "\n",
      "    accuracy                           0.64      1229\n",
      "   macro avg       0.61      0.60      0.60      1229\n",
      "weighted avg       0.63      0.64      0.63      1229\n",
      "\n"
     ]
    }
   ],
   "source": [
    "print(confusion_matrix(y_test, tree_predictions))\n",
    "print(classification_report(y_test, tree_predictions))"
   ]
  },
  {
   "cell_type": "code",
   "execution_count": 68,
   "metadata": {},
   "outputs": [
    {
     "data": {
      "text/plain": [
       "0.6362896663954435"
      ]
     },
     "execution_count": 68,
     "metadata": {},
     "output_type": "execute_result"
    }
   ],
   "source": [
    "tree_score = tree_model.score(X_test, y_test)\n",
    "tree_score"
   ]
  },
  {
   "cell_type": "code",
   "execution_count": 69,
   "metadata": {},
   "outputs": [
    {
     "data": {
      "image/png": "[encoded data removed]",
      "text/plain": [
       "<Figure size 432x288 with 1 Axes>"
      ]
     },
     "metadata": {},
     "output_type": "display_data"
    }
   ],
   "source": [
    "# ROC CURVE\n",
    "\n",
    "fpr, tpr, thresholds = roc_curve(y_test, tree_probabilities)\n",
    "\n",
    "plt.plot([0, 1], [0, 1], 'k--')\n",
    "plt.plot(fpr, tpr)\n",
    "plt.xlabel('False Positive Rate')\n",
    "plt.ylabel('True Positive Rate')\n",
    "plt.title('ROC Curve')\n",
    "plt.show()"
   ]
  },
  {
   "cell_type": "code",
   "execution_count": 70,
   "metadata": {
    "scrolled": true
   },
   "outputs": [
    {
     "data": {
      "text/html": [
       "<div>\n",
       "<style scoped>\n",
       "    .dataframe tbody tr th:only-of-type {\n",
       "        vertical-align: middle;\n",
       "    }\n",
       "\n",
       "    .dataframe tbody tr th {\n",
       "        vertical-align: top;\n",
       "    }\n",
       "\n",
       "    .dataframe thead th {\n",
       "        text-align: right;\n",
       "    }\n",
       "</style>\n",
       "<table border=\"1\" class=\"dataframe\">\n",
       "  <thead>\n",
       "    <tr style=\"text-align: right;\">\n",
       "      <th></th>\n",
       "      <th>feature</th>\n",
       "      <th>importance</th>\n",
       "    </tr>\n",
       "  </thead>\n",
       "  <tbody>\n",
       "    <tr>\n",
       "      <th>0</th>\n",
       "      <td>age</td>\n",
       "      <td>0.156137</td>\n",
       "    </tr>\n",
       "    <tr>\n",
       "      <th>6</th>\n",
       "      <td>completed</td>\n",
       "      <td>0.146716</td>\n",
       "    </tr>\n",
       "    <tr>\n",
       "      <th>3</th>\n",
       "      <td>is_trial</td>\n",
       "      <td>0.134898</td>\n",
       "    </tr>\n",
       "    <tr>\n",
       "      <th>13</th>\n",
       "      <td>amount_paid</td>\n",
       "      <td>0.131956</td>\n",
       "    </tr>\n",
       "    <tr>\n",
       "      <th>2</th>\n",
       "      <td>language_level</td>\n",
       "      <td>0.125653</td>\n",
       "    </tr>\n",
       "    <tr>\n",
       "      <th>8</th>\n",
       "      <td>student_skipped</td>\n",
       "      <td>0.079338</td>\n",
       "    </tr>\n",
       "    <tr>\n",
       "      <th>11</th>\n",
       "      <td>changes</td>\n",
       "      <td>0.074099</td>\n",
       "    </tr>\n",
       "    <tr>\n",
       "      <th>10</th>\n",
       "      <td>canceled</td>\n",
       "      <td>0.030778</td>\n",
       "    </tr>\n",
       "    <tr>\n",
       "      <th>7</th>\n",
       "      <td>declined</td>\n",
       "      <td>0.023938</td>\n",
       "    </tr>\n",
       "    <tr>\n",
       "      <th>1</th>\n",
       "      <td>gender</td>\n",
       "      <td>0.022220</td>\n",
       "    </tr>\n",
       "  </tbody>\n",
       "</table>\n",
       "</div>"
      ],
      "text/plain": [
       "            feature  importance\n",
       "0               age    0.156137\n",
       "6         completed    0.146716\n",
       "3          is_trial    0.134898\n",
       "13      amount_paid    0.131956\n",
       "2    language_level    0.125653\n",
       "8   student_skipped    0.079338\n",
       "11          changes    0.074099\n",
       "10         canceled    0.030778\n",
       "7          declined    0.023938\n",
       "1            gender    0.022220"
      ]
     },
     "execution_count": 70,
     "metadata": {},
     "output_type": "execute_result"
    }
   ],
   "source": [
    "tree_features = pd.DataFrame({'feature': X_train.columns,\n",
    "              'importance': tree_model.feature_importances_}).sort_values('importance', ascending=False).head(10)\n",
    "tree_features"
   ]
  },
  {
   "cell_type": "markdown",
   "metadata": {},
   "source": [
    "### d. Модель наивной байесовской классификации"
   ]
  },
  {
   "cell_type": "code",
   "execution_count": 71,
   "metadata": {},
   "outputs": [
    {
     "data": {
      "text/plain": [
       "GaussianNB(priors=None, var_smoothing=1e-09)"
      ]
     },
     "execution_count": 71,
     "metadata": {},
     "output_type": "execute_result"
    }
   ],
   "source": [
    "gnb = GaussianNB()\n",
    "gnb.fit(X_train, y_train)"
   ]
  },
  {
   "cell_type": "code",
   "execution_count": 72,
   "metadata": {},
   "outputs": [],
   "source": [
    "gnb_predictions = gnb.predict(X_test)\n",
    "gnb_probabilities = gnb.predict_proba(X_test)[:,1]"
   ]
  },
  {
   "cell_type": "code",
   "execution_count": 73,
   "metadata": {},
   "outputs": [
    {
     "name": "stdout",
     "output_type": "stream",
     "text": [
      "[[289 172]\n",
      " [340 428]]\n",
      "              precision    recall  f1-score   support\n",
      "\n",
      "           0       0.46      0.63      0.53       461\n",
      "           1       0.71      0.56      0.63       768\n",
      "\n",
      "    accuracy                           0.58      1229\n",
      "   macro avg       0.59      0.59      0.58      1229\n",
      "weighted avg       0.62      0.58      0.59      1229\n",
      "\n"
     ]
    }
   ],
   "source": [
    "print(confusion_matrix(y_test, gnb_predictions))\n",
    "print(classification_report(y_test, gnb_predictions))"
   ]
  },
  {
   "cell_type": "code",
   "execution_count": 74,
   "metadata": {},
   "outputs": [
    {
     "data": {
      "text/plain": [
       "0.5834011391375101"
      ]
     },
     "execution_count": 74,
     "metadata": {},
     "output_type": "execute_result"
    }
   ],
   "source": [
    "gnb_score = gnb.score(X_test, y_test)\n",
    "gnb_score"
   ]
  },
  {
   "cell_type": "code",
   "execution_count": 75,
   "metadata": {},
   "outputs": [
    {
     "data": {
      "image/png": "[encoded data removed]",
      "text/plain": [
       "<Figure size 432x288 with 1 Axes>"
      ]
     },
     "metadata": {},
     "output_type": "display_data"
    }
   ],
   "source": [
    "# ROC CURVE\n",
    "\n",
    "fpr, tpr, thresholds = roc_curve(y_test, gnb_probabilities)\n",
    "\n",
    "plt.plot([0, 1], [0, 1], 'k--')\n",
    "plt.plot(fpr, tpr)\n",
    "plt.xlabel('False Positive Rate')\n",
    "plt.ylabel('True Positive Rate')\n",
    "plt.title('ROC Curve')\n",
    "plt.show()"
   ]
  },
  {
   "cell_type": "markdown",
   "metadata": {},
   "source": [
    "### Сравнение моделей по метрике accuracy"
   ]
  },
  {
   "cell_type": "code",
   "execution_count": 76,
   "metadata": {},
   "outputs": [
    {
     "data": {
      "text/html": [
       "<div>\n",
       "<style scoped>\n",
       "    .dataframe tbody tr th:only-of-type {\n",
       "        vertical-align: middle;\n",
       "    }\n",
       "\n",
       "    .dataframe tbody tr th {\n",
       "        vertical-align: top;\n",
       "    }\n",
       "\n",
       "    .dataframe thead th {\n",
       "        text-align: right;\n",
       "    }\n",
       "</style>\n",
       "<table border=\"1\" class=\"dataframe\">\n",
       "  <thead>\n",
       "    <tr style=\"text-align: right;\">\n",
       "      <th></th>\n",
       "      <th>Model</th>\n",
       "      <th>Accuracy</th>\n",
       "    </tr>\n",
       "  </thead>\n",
       "  <tbody>\n",
       "    <tr>\n",
       "      <th>0</th>\n",
       "      <td>Log_model</td>\n",
       "      <td>0.646867</td>\n",
       "    </tr>\n",
       "    <tr>\n",
       "      <th>1</th>\n",
       "      <td>Random forest</td>\n",
       "      <td>0.650122</td>\n",
       "    </tr>\n",
       "    <tr>\n",
       "      <th>2</th>\n",
       "      <td>Decision tree</td>\n",
       "      <td>0.636290</td>\n",
       "    </tr>\n",
       "    <tr>\n",
       "      <th>3</th>\n",
       "      <td>Naive Bayes</td>\n",
       "      <td>0.583401</td>\n",
       "    </tr>\n",
       "  </tbody>\n",
       "</table>\n",
       "</div>"
      ],
      "text/plain": [
       "           Model  Accuracy\n",
       "0      Log_model  0.646867\n",
       "1  Random forest  0.650122\n",
       "2  Decision tree  0.636290\n",
       "3    Naive Bayes  0.583401"
      ]
     },
     "execution_count": 76,
     "metadata": {},
     "output_type": "execute_result"
    }
   ],
   "source": [
    "data = [['Log_model',log_score],\n",
    "        ['Random forest',rf_score],\n",
    "        ['Decision tree',tree_score],\n",
    "        ['Naive Bayes',gnb_score]\n",
    "       ]\n",
    "columns= ['Model','Accuracy']\n",
    "\n",
    "metrics = pd.DataFrame(data = data, columns = columns)\n",
    "metrics"
   ]
  },
  {
   "cell_type": "code",
   "execution_count": 77,
   "metadata": {
    "scrolled": true
   },
   "outputs": [
    {
     "data": {
      "image/png": "[encoded data removed]",
      "text/plain": [
       "<Figure size 432x288 with 1 Axes>"
      ]
     },
     "metadata": {},
     "output_type": "display_data"
    }
   ],
   "source": [
    "ax = sns.barplot(x='Accuracy', y='Model', data=metrics);\n",
    "plt.xlim(0,1)\n",
    "\n",
    "initialx=0\n",
    "for p in ax.patches:\n",
    "    ax.text(p.get_width()+0.01,initialx+p.get_height()/5,'{:.2f}'.format(p.get_width()),weight='bold', size=12)\n",
    "    initialx+=1"
   ]
  },
  {
   "cell_type": "markdown",
   "metadata": {},
   "source": [
    "### 4.2. С downsampling-ом целевой переменной <a name=\"4.2step\"></a> "
   ]
  },
  {
   "cell_type": "markdown",
   "metadata": {},
   "source": [
    "Перед обучением модели проведем downsampling целевой переменной, чтобы избежать влияния дисбаланса на результат модели."
   ]
  },
  {
   "cell_type": "code",
   "execution_count": 78,
   "metadata": {},
   "outputs": [],
   "source": [
    "training_set = pd.concat([X_train, y_train], axis=1)\n",
    "\n",
    "churn = training_set[training_set['is_churn'] == 1]\n",
    "not_churn = training_set[training_set['is_churn'] == 0]"
   ]
  },
  {
   "cell_type": "code",
   "execution_count": 79,
   "metadata": {},
   "outputs": [
    {
     "data": {
      "text/plain": [
       "1    1802\n",
       "0    1802\n",
       "Name: is_churn, dtype: int64"
      ]
     },
     "execution_count": 79,
     "metadata": {},
     "output_type": "execute_result"
    }
   ],
   "source": [
    "# Undersampling the majority\n",
    "churn_downsampled = resample(churn, \n",
    "                       replace=False, \n",
    "                       n_samples=len(not_churn),\n",
    "                       random_state=42)\n",
    "\n",
    "# Returning to new training set\n",
    "downsampled_train = pd.concat([not_churn, churn_downsampled])\n",
    "downsampled_train['is_churn'].value_counts()"
   ]
  },
  {
   "cell_type": "code",
   "execution_count": 80,
   "metadata": {},
   "outputs": [],
   "source": [
    "# Separate undersampled data into X and y sets\n",
    "downsampled_X_train = downsampled_train.drop('is_churn', axis=1)\n",
    "downsampled_y_train = downsampled_train['is_churn']"
   ]
  },
  {
   "cell_type": "markdown",
   "metadata": {},
   "source": [
    "### a. Логистическая регрессия"
   ]
  },
  {
   "cell_type": "code",
   "execution_count": 81,
   "metadata": {
    "scrolled": true
   },
   "outputs": [
    {
     "data": {
      "text/plain": [
       "LogisticRegression(C=1.0, class_weight=None, dual=False, fit_intercept=True,\n",
       "                   intercept_scaling=1, l1_ratio=None, max_iter=100,\n",
       "                   multi_class='auto', n_jobs=None, penalty='l2',\n",
       "                   random_state=42, solver='lbfgs', tol=0.0001, verbose=0,\n",
       "                   warm_start=False)"
      ]
     },
     "execution_count": 81,
     "metadata": {},
     "output_type": "execute_result"
    }
   ],
   "source": [
    "#обучаем модель логистической регрессии\n",
    "down_log_model = LogisticRegression(random_state = 42)\n",
    "down_log_model.fit(downsampled_X_train,downsampled_y_train)"
   ]
  },
  {
   "cell_type": "code",
   "execution_count": 82,
   "metadata": {},
   "outputs": [],
   "source": [
    "#воспользуемся обученной моделью на валидационной выборке\n",
    "log_predictions = down_log_model.predict(X_test)\n",
    "log_probabilities = down_log_model.predict_proba(X_test)[:,1]"
   ]
  },
  {
   "cell_type": "code",
   "execution_count": 83,
   "metadata": {},
   "outputs": [
    {
     "name": "stdout",
     "output_type": "stream",
     "text": [
      "[[314 147]\n",
      " [331 437]]\n",
      "              precision    recall  f1-score   support\n",
      "\n",
      "           0       0.49      0.68      0.57       461\n",
      "           1       0.75      0.57      0.65       768\n",
      "\n",
      "    accuracy                           0.61      1229\n",
      "   macro avg       0.62      0.63      0.61      1229\n",
      "weighted avg       0.65      0.61      0.62      1229\n",
      "\n"
     ]
    }
   ],
   "source": [
    "print(confusion_matrix(y_test, log_predictions))\n",
    "print(classification_report(y_test, log_predictions))"
   ]
  },
  {
   "cell_type": "code",
   "execution_count": 84,
   "metadata": {},
   "outputs": [
    {
     "data": {
      "text/plain": [
       "0.6110659072416599"
      ]
     },
     "execution_count": 84,
     "metadata": {},
     "output_type": "execute_result"
    }
   ],
   "source": [
    "log_score = down_log_model.score(X_test, y_test)\n",
    "log_score"
   ]
  },
  {
   "cell_type": "code",
   "execution_count": 85,
   "metadata": {},
   "outputs": [
    {
     "data": {
      "image/png": "[encoded data removed]",
      "text/plain": [
       "<Figure size 432x288 with 1 Axes>"
      ]
     },
     "metadata": {},
     "output_type": "display_data"
    }
   ],
   "source": [
    "# ROC CURVE\n",
    "\n",
    "fpr, tpr, thresholds = roc_curve(y_test, log_probabilities)\n",
    "\n",
    "plt.plot([0, 1], [0, 1], 'k--')\n",
    "plt.plot(fpr, tpr)\n",
    "plt.xlabel('False Positive Rate')\n",
    "plt.ylabel('True Positive Rate')\n",
    "plt.title('ROC Curve')\n",
    "plt.show()"
   ]
  },
  {
   "cell_type": "code",
   "execution_count": 86,
   "metadata": {},
   "outputs": [
    {
     "data": {
      "text/html": [
       "<div>\n",
       "<style scoped>\n",
       "    .dataframe tbody tr th:only-of-type {\n",
       "        vertical-align: middle;\n",
       "    }\n",
       "\n",
       "    .dataframe tbody tr th {\n",
       "        vertical-align: top;\n",
       "    }\n",
       "\n",
       "    .dataframe thead th {\n",
       "        text-align: right;\n",
       "    }\n",
       "</style>\n",
       "<table border=\"1\" class=\"dataframe\">\n",
       "  <thead>\n",
       "    <tr style=\"text-align: right;\">\n",
       "      <th></th>\n",
       "      <th>feature</th>\n",
       "      <th>importance</th>\n",
       "    </tr>\n",
       "  </thead>\n",
       "  <tbody>\n",
       "    <tr>\n",
       "      <th>8</th>\n",
       "      <td>student_skipped</td>\n",
       "      <td>0.339827</td>\n",
       "    </tr>\n",
       "    <tr>\n",
       "      <th>0</th>\n",
       "      <td>age</td>\n",
       "      <td>0.103839</td>\n",
       "    </tr>\n",
       "    <tr>\n",
       "      <th>7</th>\n",
       "      <td>declined</td>\n",
       "      <td>0.095603</td>\n",
       "    </tr>\n",
       "    <tr>\n",
       "      <th>10</th>\n",
       "      <td>canceled</td>\n",
       "      <td>0.038650</td>\n",
       "    </tr>\n",
       "    <tr>\n",
       "      <th>11</th>\n",
       "      <td>changes</td>\n",
       "      <td>0.036847</td>\n",
       "    </tr>\n",
       "    <tr>\n",
       "      <th>6</th>\n",
       "      <td>completed</td>\n",
       "      <td>0.034583</td>\n",
       "    </tr>\n",
       "    <tr>\n",
       "      <th>5</th>\n",
       "      <td>new</td>\n",
       "      <td>0.029767</td>\n",
       "    </tr>\n",
       "    <tr>\n",
       "      <th>14</th>\n",
       "      <td>payments</td>\n",
       "      <td>0.013487</td>\n",
       "    </tr>\n",
       "    <tr>\n",
       "      <th>9</th>\n",
       "      <td>teacher_skipped</td>\n",
       "      <td>0.008667</td>\n",
       "    </tr>\n",
       "    <tr>\n",
       "      <th>13</th>\n",
       "      <td>amount_paid</td>\n",
       "      <td>-0.000156</td>\n",
       "    </tr>\n",
       "  </tbody>\n",
       "</table>\n",
       "</div>"
      ],
      "text/plain": [
       "            feature  importance\n",
       "8   student_skipped    0.339827\n",
       "0               age    0.103839\n",
       "7          declined    0.095603\n",
       "10         canceled    0.038650\n",
       "11          changes    0.036847\n",
       "6         completed    0.034583\n",
       "5               new    0.029767\n",
       "14         payments    0.013487\n",
       "9   teacher_skipped    0.008667\n",
       "13      amount_paid   -0.000156"
      ]
     },
     "execution_count": 86,
     "metadata": {},
     "output_type": "execute_result"
    }
   ],
   "source": [
    "pd.DataFrame({'feature': downsampled_X_train.columns,\n",
    "              'importance': np.round(down_log_model.coef_[0], 6)}).sort_values('importance', ascending=False).head(10)"
   ]
  },
  {
   "cell_type": "markdown",
   "metadata": {},
   "source": [
    "### b. Модель случайного леса"
   ]
  },
  {
   "cell_type": "code",
   "execution_count": 87,
   "metadata": {},
   "outputs": [
    {
     "data": {
      "text/plain": [
       "RandomForestClassifier(bootstrap=True, ccp_alpha=0.0, class_weight=None,\n",
       "                       criterion='gini', max_depth=10, max_features='auto',\n",
       "                       max_leaf_nodes=None, max_samples=None,\n",
       "                       min_impurity_decrease=0.0, min_impurity_split=None,\n",
       "                       min_samples_leaf=1, min_samples_split=2,\n",
       "                       min_weight_fraction_leaf=0.0, n_estimators=30,\n",
       "                       n_jobs=None, oob_score=False, random_state=42, verbose=0,\n",
       "                       warm_start=False)"
      ]
     },
     "execution_count": 87,
     "metadata": {},
     "output_type": "execute_result"
    }
   ],
   "source": [
    "#обучаем модель случайного леса\n",
    "down_rf_model = RandomForestClassifier(random_state=42, n_estimators=30, \n",
    "                             criterion='gini', min_samples_split=2, min_samples_leaf=1, max_depth=10)\n",
    "down_rf_model.fit(downsampled_X_train, downsampled_y_train)"
   ]
  },
  {
   "cell_type": "code",
   "execution_count": 88,
   "metadata": {},
   "outputs": [],
   "source": [
    "rf_predictions = down_rf_model.predict(X_test)\n",
    "rf_probabilities = down_rf_model.predict_proba(X_test)[:,1]"
   ]
  },
  {
   "cell_type": "code",
   "execution_count": 89,
   "metadata": {},
   "outputs": [
    {
     "name": "stdout",
     "output_type": "stream",
     "text": [
      "[[294 167]\n",
      " [324 444]]\n",
      "              precision    recall  f1-score   support\n",
      "\n",
      "           0       0.48      0.64      0.54       461\n",
      "           1       0.73      0.58      0.64       768\n",
      "\n",
      "    accuracy                           0.60      1229\n",
      "   macro avg       0.60      0.61      0.59      1229\n",
      "weighted avg       0.63      0.60      0.61      1229\n",
      "\n"
     ]
    }
   ],
   "source": [
    "print(confusion_matrix(y_test, rf_predictions))\n",
    "print(classification_report(y_test, rf_predictions))"
   ]
  },
  {
   "cell_type": "code",
   "execution_count": 90,
   "metadata": {},
   "outputs": [
    {
     "data": {
      "text/plain": [
       "0.6004882017900732"
      ]
     },
     "execution_count": 90,
     "metadata": {},
     "output_type": "execute_result"
    }
   ],
   "source": [
    "rf_score = down_rf_model.score(X_test, y_test)\n",
    "rf_score"
   ]
  },
  {
   "cell_type": "code",
   "execution_count": 91,
   "metadata": {},
   "outputs": [
    {
     "data": {
      "image/png": "[encoded data removed]",
      "text/plain": [
       "<Figure size 432x288 with 1 Axes>"
      ]
     },
     "metadata": {},
     "output_type": "display_data"
    }
   ],
   "source": [
    "# ROC CURVE\n",
    "\n",
    "fpr, tpr, thresholds = roc_curve(y_test, rf_probabilities)\n",
    "\n",
    "plt.plot([0, 1], [0, 1], 'k--')\n",
    "plt.plot(fpr, tpr)\n",
    "plt.xlabel('False Positive Rate')\n",
    "plt.ylabel('True Positive Rate')\n",
    "plt.title('ROC Curve')\n",
    "plt.show()"
   ]
  },
  {
   "cell_type": "code",
   "execution_count": 92,
   "metadata": {},
   "outputs": [
    {
     "data": {
      "text/html": [
       "<div>\n",
       "<style scoped>\n",
       "    .dataframe tbody tr th:only-of-type {\n",
       "        vertical-align: middle;\n",
       "    }\n",
       "\n",
       "    .dataframe tbody tr th {\n",
       "        vertical-align: top;\n",
       "    }\n",
       "\n",
       "    .dataframe thead th {\n",
       "        text-align: right;\n",
       "    }\n",
       "</style>\n",
       "<table border=\"1\" class=\"dataframe\">\n",
       "  <thead>\n",
       "    <tr style=\"text-align: right;\">\n",
       "      <th></th>\n",
       "      <th>feature</th>\n",
       "      <th>importance</th>\n",
       "    </tr>\n",
       "  </thead>\n",
       "  <tbody>\n",
       "    <tr>\n",
       "      <th>13</th>\n",
       "      <td>amount_paid</td>\n",
       "      <td>0.140066</td>\n",
       "    </tr>\n",
       "    <tr>\n",
       "      <th>6</th>\n",
       "      <td>completed</td>\n",
       "      <td>0.133793</td>\n",
       "    </tr>\n",
       "    <tr>\n",
       "      <th>2</th>\n",
       "      <td>language_level</td>\n",
       "      <td>0.133594</td>\n",
       "    </tr>\n",
       "    <tr>\n",
       "      <th>0</th>\n",
       "      <td>age</td>\n",
       "      <td>0.120183</td>\n",
       "    </tr>\n",
       "    <tr>\n",
       "      <th>1</th>\n",
       "      <td>gender</td>\n",
       "      <td>0.074445</td>\n",
       "    </tr>\n",
       "    <tr>\n",
       "      <th>8</th>\n",
       "      <td>student_skipped</td>\n",
       "      <td>0.073108</td>\n",
       "    </tr>\n",
       "    <tr>\n",
       "      <th>3</th>\n",
       "      <td>is_trial</td>\n",
       "      <td>0.069663</td>\n",
       "    </tr>\n",
       "    <tr>\n",
       "      <th>11</th>\n",
       "      <td>changes</td>\n",
       "      <td>0.066526</td>\n",
       "    </tr>\n",
       "    <tr>\n",
       "      <th>12</th>\n",
       "      <td>is_lead_successful</td>\n",
       "      <td>0.042461</td>\n",
       "    </tr>\n",
       "    <tr>\n",
       "      <th>7</th>\n",
       "      <td>declined</td>\n",
       "      <td>0.034372</td>\n",
       "    </tr>\n",
       "  </tbody>\n",
       "</table>\n",
       "</div>"
      ],
      "text/plain": [
       "               feature  importance\n",
       "13         amount_paid    0.140066\n",
       "6            completed    0.133793\n",
       "2       language_level    0.133594\n",
       "0                  age    0.120183\n",
       "1               gender    0.074445\n",
       "8      student_skipped    0.073108\n",
       "3             is_trial    0.069663\n",
       "11             changes    0.066526\n",
       "12  is_lead_successful    0.042461\n",
       "7             declined    0.034372"
      ]
     },
     "execution_count": 92,
     "metadata": {},
     "output_type": "execute_result"
    }
   ],
   "source": [
    "pd.DataFrame({'feature': downsampled_X_train.columns,\n",
    "              'importance': down_rf_model.feature_importances_}).sort_values('importance', ascending=False).head(10)"
   ]
  },
  {
   "cell_type": "markdown",
   "metadata": {},
   "source": [
    "### c. Модель дерева принятия решений"
   ]
  },
  {
   "cell_type": "code",
   "execution_count": 93,
   "metadata": {},
   "outputs": [
    {
     "data": {
      "text/plain": [
       "DecisionTreeClassifier(ccp_alpha=0.0, class_weight=None, criterion='gini',\n",
       "                       max_depth=10, max_features=None, max_leaf_nodes=None,\n",
       "                       min_impurity_decrease=0.0, min_impurity_split=None,\n",
       "                       min_samples_leaf=1, min_samples_split=2,\n",
       "                       min_weight_fraction_leaf=0.0, presort='deprecated',\n",
       "                       random_state=42, splitter='best')"
      ]
     },
     "execution_count": 93,
     "metadata": {},
     "output_type": "execute_result"
    }
   ],
   "source": [
    "down_tree_model = DecisionTreeClassifier(random_state=42, criterion='gini', \n",
    "                                    min_samples_split=2, min_samples_leaf=1, max_depth=10)\n",
    "down_tree_model.fit(downsampled_X_train, downsampled_y_train)"
   ]
  },
  {
   "cell_type": "code",
   "execution_count": 94,
   "metadata": {},
   "outputs": [],
   "source": [
    "tree_predictions = down_tree_model.predict(X_test)\n",
    "tree_probabilities = down_tree_model.predict_proba(X_test)[:,1]"
   ]
  },
  {
   "cell_type": "code",
   "execution_count": 95,
   "metadata": {},
   "outputs": [
    {
     "name": "stdout",
     "output_type": "stream",
     "text": [
      "[[261 200]\n",
      " [300 468]]\n",
      "              precision    recall  f1-score   support\n",
      "\n",
      "           0       0.47      0.57      0.51       461\n",
      "           1       0.70      0.61      0.65       768\n",
      "\n",
      "    accuracy                           0.59      1229\n",
      "   macro avg       0.58      0.59      0.58      1229\n",
      "weighted avg       0.61      0.59      0.60      1229\n",
      "\n"
     ]
    }
   ],
   "source": [
    "print(confusion_matrix(y_test, tree_predictions))\n",
    "print(classification_report(y_test, tree_predictions))"
   ]
  },
  {
   "cell_type": "code",
   "execution_count": 96,
   "metadata": {},
   "outputs": [
    {
     "data": {
      "text/plain": [
       "0.5931651749389748"
      ]
     },
     "execution_count": 96,
     "metadata": {},
     "output_type": "execute_result"
    }
   ],
   "source": [
    "tree_score = down_tree_model.score(X_test, y_test)\n",
    "tree_score"
   ]
  },
  {
   "cell_type": "code",
   "execution_count": 97,
   "metadata": {},
   "outputs": [
    {
     "data": {
      "image/png": "[encoded data removed]",
      "text/plain": [
       "<Figure size 432x288 with 1 Axes>"
      ]
     },
     "metadata": {},
     "output_type": "display_data"
    }
   ],
   "source": [
    "# ROC CURVE\n",
    "\n",
    "fpr, tpr, thresholds = roc_curve(y_test, tree_probabilities)\n",
    "\n",
    "plt.plot([0, 1], [0, 1], 'k--')\n",
    "plt.plot(fpr, tpr)\n",
    "plt.xlabel('False Positive Rate')\n",
    "plt.ylabel('True Positive Rate')\n",
    "plt.title('ROC Curve')\n",
    "plt.show()"
   ]
  },
  {
   "cell_type": "code",
   "execution_count": 98,
   "metadata": {},
   "outputs": [
    {
     "data": {
      "text/html": [
       "<div>\n",
       "<style scoped>\n",
       "    .dataframe tbody tr th:only-of-type {\n",
       "        vertical-align: middle;\n",
       "    }\n",
       "\n",
       "    .dataframe tbody tr th {\n",
       "        vertical-align: top;\n",
       "    }\n",
       "\n",
       "    .dataframe thead th {\n",
       "        text-align: right;\n",
       "    }\n",
       "</style>\n",
       "<table border=\"1\" class=\"dataframe\">\n",
       "  <thead>\n",
       "    <tr style=\"text-align: right;\">\n",
       "      <th></th>\n",
       "      <th>feature</th>\n",
       "      <th>importance</th>\n",
       "    </tr>\n",
       "  </thead>\n",
       "  <tbody>\n",
       "    <tr>\n",
       "      <th>6</th>\n",
       "      <td>completed</td>\n",
       "      <td>0.161326</td>\n",
       "    </tr>\n",
       "    <tr>\n",
       "      <th>2</th>\n",
       "      <td>language_level</td>\n",
       "      <td>0.140226</td>\n",
       "    </tr>\n",
       "    <tr>\n",
       "      <th>3</th>\n",
       "      <td>is_trial</td>\n",
       "      <td>0.134389</td>\n",
       "    </tr>\n",
       "    <tr>\n",
       "      <th>0</th>\n",
       "      <td>age</td>\n",
       "      <td>0.134114</td>\n",
       "    </tr>\n",
       "    <tr>\n",
       "      <th>13</th>\n",
       "      <td>amount_paid</td>\n",
       "      <td>0.126985</td>\n",
       "    </tr>\n",
       "    <tr>\n",
       "      <th>8</th>\n",
       "      <td>student_skipped</td>\n",
       "      <td>0.076136</td>\n",
       "    </tr>\n",
       "    <tr>\n",
       "      <th>11</th>\n",
       "      <td>changes</td>\n",
       "      <td>0.066464</td>\n",
       "    </tr>\n",
       "    <tr>\n",
       "      <th>1</th>\n",
       "      <td>gender</td>\n",
       "      <td>0.043436</td>\n",
       "    </tr>\n",
       "    <tr>\n",
       "      <th>7</th>\n",
       "      <td>declined</td>\n",
       "      <td>0.035923</td>\n",
       "    </tr>\n",
       "    <tr>\n",
       "      <th>10</th>\n",
       "      <td>canceled</td>\n",
       "      <td>0.022749</td>\n",
       "    </tr>\n",
       "  </tbody>\n",
       "</table>\n",
       "</div>"
      ],
      "text/plain": [
       "            feature  importance\n",
       "6         completed    0.161326\n",
       "2    language_level    0.140226\n",
       "3          is_trial    0.134389\n",
       "0               age    0.134114\n",
       "13      amount_paid    0.126985\n",
       "8   student_skipped    0.076136\n",
       "11          changes    0.066464\n",
       "1            gender    0.043436\n",
       "7          declined    0.035923\n",
       "10         canceled    0.022749"
      ]
     },
     "execution_count": 98,
     "metadata": {},
     "output_type": "execute_result"
    }
   ],
   "source": [
    "pd.DataFrame({'feature': downsampled_X_train.columns,\n",
    "              'importance': down_tree_model.feature_importances_}).sort_values('importance', ascending=False).head(10)"
   ]
  },
  {
   "cell_type": "markdown",
   "metadata": {},
   "source": [
    "### d. Модель наивной байесовской классификации"
   ]
  },
  {
   "cell_type": "code",
   "execution_count": 99,
   "metadata": {},
   "outputs": [
    {
     "data": {
      "text/plain": [
       "GaussianNB(priors=None, var_smoothing=1e-09)"
      ]
     },
     "execution_count": 99,
     "metadata": {},
     "output_type": "execute_result"
    }
   ],
   "source": [
    "down_gnb = GaussianNB()\n",
    "down_gnb.fit(downsampled_X_train, downsampled_y_train)"
   ]
  },
  {
   "cell_type": "code",
   "execution_count": 100,
   "metadata": {},
   "outputs": [],
   "source": [
    "gnb_predictions = down_gnb.predict(X_test)\n",
    "gnb_probabilities = down_gnb.predict_proba(X_test)[:,1]"
   ]
  },
  {
   "cell_type": "code",
   "execution_count": 101,
   "metadata": {},
   "outputs": [
    {
     "name": "stdout",
     "output_type": "stream",
     "text": [
      "[[309 152]\n",
      " [374 394]]\n",
      "              precision    recall  f1-score   support\n",
      "\n",
      "           0       0.45      0.67      0.54       461\n",
      "           1       0.72      0.51      0.60       768\n",
      "\n",
      "    accuracy                           0.57      1229\n",
      "   macro avg       0.59      0.59      0.57      1229\n",
      "weighted avg       0.62      0.57      0.58      1229\n",
      "\n"
     ]
    }
   ],
   "source": [
    "print(confusion_matrix(y_test, gnb_predictions))\n",
    "print(classification_report(y_test, gnb_predictions))"
   ]
  },
  {
   "cell_type": "code",
   "execution_count": 102,
   "metadata": {},
   "outputs": [
    {
     "data": {
      "text/plain": [
       "0.5720097640358015"
      ]
     },
     "execution_count": 102,
     "metadata": {},
     "output_type": "execute_result"
    }
   ],
   "source": [
    "gnb_score = down_gnb.score(X_test, y_test)\n",
    "gnb_score"
   ]
  },
  {
   "cell_type": "code",
   "execution_count": 103,
   "metadata": {},
   "outputs": [
    {
     "data": {
      "image/png": "[encoded data removed]",
      "text/plain": [
       "<Figure size 432x288 with 1 Axes>"
      ]
     },
     "metadata": {},
     "output_type": "display_data"
    }
   ],
   "source": [
    "# ROC CURVE\n",
    "\n",
    "fpr, tpr, thresholds = roc_curve(y_test, gnb_probabilities)\n",
    "\n",
    "plt.plot([0, 1], [0, 1], 'k--')\n",
    "plt.plot(fpr, tpr)\n",
    "plt.xlabel('False Positive Rate')\n",
    "plt.ylabel('True Positive Rate')\n",
    "plt.title('ROC Curve')\n",
    "plt.show()"
   ]
  },
  {
   "cell_type": "markdown",
   "metadata": {},
   "source": [
    "### Сравнение моделей по метрике accuracy"
   ]
  },
  {
   "cell_type": "code",
   "execution_count": 104,
   "metadata": {},
   "outputs": [
    {
     "data": {
      "text/html": [
       "<div>\n",
       "<style scoped>\n",
       "    .dataframe tbody tr th:only-of-type {\n",
       "        vertical-align: middle;\n",
       "    }\n",
       "\n",
       "    .dataframe tbody tr th {\n",
       "        vertical-align: top;\n",
       "    }\n",
       "\n",
       "    .dataframe thead th {\n",
       "        text-align: right;\n",
       "    }\n",
       "</style>\n",
       "<table border=\"1\" class=\"dataframe\">\n",
       "  <thead>\n",
       "    <tr style=\"text-align: right;\">\n",
       "      <th></th>\n",
       "      <th>Model</th>\n",
       "      <th>Accuracy</th>\n",
       "    </tr>\n",
       "  </thead>\n",
       "  <tbody>\n",
       "    <tr>\n",
       "      <th>0</th>\n",
       "      <td>Log_model</td>\n",
       "      <td>0.611066</td>\n",
       "    </tr>\n",
       "    <tr>\n",
       "      <th>1</th>\n",
       "      <td>Random forest</td>\n",
       "      <td>0.600488</td>\n",
       "    </tr>\n",
       "    <tr>\n",
       "      <th>2</th>\n",
       "      <td>Decision tree</td>\n",
       "      <td>0.593165</td>\n",
       "    </tr>\n",
       "    <tr>\n",
       "      <th>3</th>\n",
       "      <td>Naive Bayes</td>\n",
       "      <td>0.572010</td>\n",
       "    </tr>\n",
       "  </tbody>\n",
       "</table>\n",
       "</div>"
      ],
      "text/plain": [
       "           Model  Accuracy\n",
       "0      Log_model  0.611066\n",
       "1  Random forest  0.600488\n",
       "2  Decision tree  0.593165\n",
       "3    Naive Bayes  0.572010"
      ]
     },
     "execution_count": 104,
     "metadata": {},
     "output_type": "execute_result"
    }
   ],
   "source": [
    "data = [['Log_model',log_score],\n",
    "        ['Random forest',rf_score],\n",
    "        ['Decision tree',tree_score],\n",
    "        ['Naive Bayes',gnb_score]\n",
    "       ]\n",
    "columns= ['Model','Accuracy']\n",
    "\n",
    "metrics = pd.DataFrame(data = data, columns = columns)\n",
    "metrics"
   ]
  },
  {
   "cell_type": "code",
   "execution_count": 105,
   "metadata": {
    "scrolled": true
   },
   "outputs": [
    {
     "data": {
      "image/png": "[encoded data removed]",
      "text/plain": [
       "<Figure size 432x288 with 1 Axes>"
      ]
     },
     "metadata": {},
     "output_type": "display_data"
    }
   ],
   "source": [
    "ax = sns.barplot(x='Accuracy', y='Model', data=metrics);\n",
    "plt.xlim(0,1)\n",
    "\n",
    "initialx=0\n",
    "for p in ax.patches:\n",
    "    ax.text(p.get_width()+0.01,initialx+p.get_height()/5,'{:.2f}'.format(p.get_width()),weight='bold', size=12)\n",
    "    initialx+=1"
   ]
  },
  {
   "cell_type": "markdown",
   "metadata": {},
   "source": [
    "### 4.3. С oversampling-ом целевой переменной <a name=\"4.3step\"></a> "
   ]
  },
  {
   "cell_type": "markdown",
   "metadata": {},
   "source": [
    "Перед обучением модели проведем downsampling целевой переменной, чтобы избежать влияния дисбаланса на результат модели."
   ]
  },
  {
   "cell_type": "code",
   "execution_count": 106,
   "metadata": {},
   "outputs": [
    {
     "data": {
      "text/plain": [
       "1    3110\n",
       "0    3110\n",
       "Name: is_churn, dtype: int64"
      ]
     },
     "execution_count": 106,
     "metadata": {},
     "output_type": "execute_result"
    }
   ],
   "source": [
    "# Oversampling the minority\n",
    "not_churn_oversample = resample(not_churn, \n",
    "                       replace=True, \n",
    "                       n_samples=len(churn),\n",
    "                       random_state=42)\n",
    "# Returning to new training set\n",
    "\n",
    "oversample_train = pd.concat([churn, not_churn_oversample])\n",
    "oversample_train['is_churn'].value_counts()"
   ]
  },
  {
   "cell_type": "code",
   "execution_count": 107,
   "metadata": {},
   "outputs": [],
   "source": [
    "# Separate undersampled data into X and y sets\n",
    "oversample_X_train = oversample_train.drop('is_churn', axis=1)\n",
    "oversample_y_train = oversample_train['is_churn']"
   ]
  },
  {
   "cell_type": "markdown",
   "metadata": {},
   "source": [
    "### a. Логистическая регрессия"
   ]
  },
  {
   "cell_type": "code",
   "execution_count": 108,
   "metadata": {
    "scrolled": true
   },
   "outputs": [
    {
     "data": {
      "text/plain": [
       "LogisticRegression(C=1.0, class_weight=None, dual=False, fit_intercept=True,\n",
       "                   intercept_scaling=1, l1_ratio=None, max_iter=100,\n",
       "                   multi_class='auto', n_jobs=None, penalty='l2',\n",
       "                   random_state=42, solver='lbfgs', tol=0.0001, verbose=0,\n",
       "                   warm_start=False)"
      ]
     },
     "execution_count": 108,
     "metadata": {},
     "output_type": "execute_result"
    }
   ],
   "source": [
    "#обучаем модель логистической регрессии\n",
    "up_log_model = LogisticRegression(random_state = 42)\n",
    "up_log_model.fit(oversample_X_train,oversample_y_train)"
   ]
  },
  {
   "cell_type": "code",
   "execution_count": 109,
   "metadata": {},
   "outputs": [],
   "source": [
    "#воспользуемся обученной моделью на валидационной выборке\n",
    "log_predictions = up_log_model.predict(X_test)\n",
    "log_probabilities = up_log_model.predict_proba(X_test)[:,1]"
   ]
  },
  {
   "cell_type": "code",
   "execution_count": 110,
   "metadata": {},
   "outputs": [
    {
     "name": "stdout",
     "output_type": "stream",
     "text": [
      "[[308 153]\n",
      " [344 424]]\n",
      "              precision    recall  f1-score   support\n",
      "\n",
      "           0       0.47      0.67      0.55       461\n",
      "           1       0.73      0.55      0.63       768\n",
      "\n",
      "    accuracy                           0.60      1229\n",
      "   macro avg       0.60      0.61      0.59      1229\n",
      "weighted avg       0.64      0.60      0.60      1229\n",
      "\n"
     ]
    }
   ],
   "source": [
    "print(confusion_matrix(y_test, log_predictions))\n",
    "print(classification_report(y_test, log_predictions))"
   ]
  },
  {
   "cell_type": "code",
   "execution_count": 111,
   "metadata": {},
   "outputs": [
    {
     "data": {
      "text/plain": [
       "0.595606183889341"
      ]
     },
     "execution_count": 111,
     "metadata": {},
     "output_type": "execute_result"
    }
   ],
   "source": [
    "log_score = up_log_model.score(X_test, y_test)\n",
    "log_score"
   ]
  },
  {
   "cell_type": "code",
   "execution_count": 112,
   "metadata": {},
   "outputs": [
    {
     "data": {
      "image/png": "[encoded data removed]",
      "text/plain": [
       "<Figure size 432x288 with 1 Axes>"
      ]
     },
     "metadata": {},
     "output_type": "display_data"
    }
   ],
   "source": [
    "# ROC CURVE\n",
    "\n",
    "fpr, tpr, thresholds = roc_curve(y_test, log_probabilities)\n",
    "\n",
    "plt.plot([0, 1], [0, 1], 'k--')\n",
    "plt.plot(fpr, tpr)\n",
    "plt.xlabel('False Positive Rate')\n",
    "plt.ylabel('True Positive Rate')\n",
    "plt.title('ROC Curve')\n",
    "plt.show()"
   ]
  },
  {
   "cell_type": "code",
   "execution_count": 113,
   "metadata": {},
   "outputs": [
    {
     "data": {
      "text/html": [
       "<div>\n",
       "<style scoped>\n",
       "    .dataframe tbody tr th:only-of-type {\n",
       "        vertical-align: middle;\n",
       "    }\n",
       "\n",
       "    .dataframe tbody tr th {\n",
       "        vertical-align: top;\n",
       "    }\n",
       "\n",
       "    .dataframe thead th {\n",
       "        text-align: right;\n",
       "    }\n",
       "</style>\n",
       "<table border=\"1\" class=\"dataframe\">\n",
       "  <thead>\n",
       "    <tr style=\"text-align: right;\">\n",
       "      <th></th>\n",
       "      <th>feature</th>\n",
       "      <th>importance</th>\n",
       "    </tr>\n",
       "  </thead>\n",
       "  <tbody>\n",
       "    <tr>\n",
       "      <th>8</th>\n",
       "      <td>student_skipped</td>\n",
       "      <td>0.493248</td>\n",
       "    </tr>\n",
       "    <tr>\n",
       "      <th>7</th>\n",
       "      <td>declined</td>\n",
       "      <td>0.153167</td>\n",
       "    </tr>\n",
       "    <tr>\n",
       "      <th>0</th>\n",
       "      <td>age</td>\n",
       "      <td>0.065888</td>\n",
       "    </tr>\n",
       "    <tr>\n",
       "      <th>10</th>\n",
       "      <td>canceled</td>\n",
       "      <td>0.056485</td>\n",
       "    </tr>\n",
       "    <tr>\n",
       "      <th>5</th>\n",
       "      <td>new</td>\n",
       "      <td>0.042810</td>\n",
       "    </tr>\n",
       "    <tr>\n",
       "      <th>6</th>\n",
       "      <td>completed</td>\n",
       "      <td>0.038372</td>\n",
       "    </tr>\n",
       "    <tr>\n",
       "      <th>14</th>\n",
       "      <td>payments</td>\n",
       "      <td>0.034969</td>\n",
       "    </tr>\n",
       "    <tr>\n",
       "      <th>9</th>\n",
       "      <td>teacher_skipped</td>\n",
       "      <td>0.018634</td>\n",
       "    </tr>\n",
       "    <tr>\n",
       "      <th>11</th>\n",
       "      <td>changes</td>\n",
       "      <td>0.009453</td>\n",
       "    </tr>\n",
       "    <tr>\n",
       "      <th>13</th>\n",
       "      <td>amount_paid</td>\n",
       "      <td>-0.000178</td>\n",
       "    </tr>\n",
       "  </tbody>\n",
       "</table>\n",
       "</div>"
      ],
      "text/plain": [
       "            feature  importance\n",
       "8   student_skipped    0.493248\n",
       "7          declined    0.153167\n",
       "0               age    0.065888\n",
       "10         canceled    0.056485\n",
       "5               new    0.042810\n",
       "6         completed    0.038372\n",
       "14         payments    0.034969\n",
       "9   teacher_skipped    0.018634\n",
       "11          changes    0.009453\n",
       "13      amount_paid   -0.000178"
      ]
     },
     "execution_count": 113,
     "metadata": {},
     "output_type": "execute_result"
    }
   ],
   "source": [
    "pd.DataFrame({'feature': oversample_X_train.columns,\n",
    "              'importance': np.round(up_log_model.coef_[0], 6)}).sort_values('importance', ascending=False).head(10)"
   ]
  },
  {
   "cell_type": "markdown",
   "metadata": {},
   "source": [
    "### b. Модель случайного леса"
   ]
  },
  {
   "cell_type": "code",
   "execution_count": 114,
   "metadata": {},
   "outputs": [
    {
     "data": {
      "text/plain": [
       "RandomForestClassifier(bootstrap=True, ccp_alpha=0.0, class_weight=None,\n",
       "                       criterion='gini', max_depth=10, max_features='auto',\n",
       "                       max_leaf_nodes=None, max_samples=None,\n",
       "                       min_impurity_decrease=0.0, min_impurity_split=None,\n",
       "                       min_samples_leaf=1, min_samples_split=2,\n",
       "                       min_weight_fraction_leaf=0.0, n_estimators=30,\n",
       "                       n_jobs=None, oob_score=False, random_state=42, verbose=0,\n",
       "                       warm_start=False)"
      ]
     },
     "execution_count": 114,
     "metadata": {},
     "output_type": "execute_result"
    }
   ],
   "source": [
    "#обучаем модель случайного леса\n",
    "up_rf_model = RandomForestClassifier(random_state=42, n_estimators=30, \n",
    "                             criterion='gini', min_samples_split=2, min_samples_leaf=1, max_depth=10)\n",
    "up_rf_model.fit(oversample_X_train, oversample_y_train)"
   ]
  },
  {
   "cell_type": "code",
   "execution_count": 115,
   "metadata": {},
   "outputs": [],
   "source": [
    "rf_predictions = up_rf_model.predict(X_test)\n",
    "rf_probabilities = up_rf_model.predict_proba(X_test)[:,1]"
   ]
  },
  {
   "cell_type": "code",
   "execution_count": 116,
   "metadata": {},
   "outputs": [
    {
     "name": "stdout",
     "output_type": "stream",
     "text": [
      "[[260 201]\n",
      " [269 499]]\n",
      "              precision    recall  f1-score   support\n",
      "\n",
      "           0       0.49      0.56      0.53       461\n",
      "           1       0.71      0.65      0.68       768\n",
      "\n",
      "    accuracy                           0.62      1229\n",
      "   macro avg       0.60      0.61      0.60      1229\n",
      "weighted avg       0.63      0.62      0.62      1229\n",
      "\n"
     ]
    }
   ],
   "source": [
    "print(confusion_matrix(y_test, rf_predictions))\n",
    "print(classification_report(y_test, rf_predictions))"
   ]
  },
  {
   "cell_type": "code",
   "execution_count": 117,
   "metadata": {},
   "outputs": [
    {
     "data": {
      "text/plain": [
       "0.6175752644426363"
      ]
     },
     "execution_count": 117,
     "metadata": {},
     "output_type": "execute_result"
    }
   ],
   "source": [
    "rf_score = up_rf_model.score(X_test, y_test)\n",
    "rf_score"
   ]
  },
  {
   "cell_type": "code",
   "execution_count": 118,
   "metadata": {},
   "outputs": [
    {
     "data": {
      "image/png": "[encoded data removed]",
      "text/plain": [
       "<Figure size 432x288 with 1 Axes>"
      ]
     },
     "metadata": {},
     "output_type": "display_data"
    }
   ],
   "source": [
    "# ROC CURVE\n",
    "\n",
    "fpr, tpr, thresholds = roc_curve(y_test, rf_probabilities)\n",
    "\n",
    "plt.plot([0, 1], [0, 1], 'k--')\n",
    "plt.plot(fpr, tpr)\n",
    "plt.xlabel('False Positive Rate')\n",
    "plt.ylabel('True Positive Rate')\n",
    "plt.title('ROC Curve')\n",
    "plt.show()"
   ]
  },
  {
   "cell_type": "code",
   "execution_count": 119,
   "metadata": {},
   "outputs": [
    {
     "data": {
      "text/html": [
       "<div>\n",
       "<style scoped>\n",
       "    .dataframe tbody tr th:only-of-type {\n",
       "        vertical-align: middle;\n",
       "    }\n",
       "\n",
       "    .dataframe tbody tr th {\n",
       "        vertical-align: top;\n",
       "    }\n",
       "\n",
       "    .dataframe thead th {\n",
       "        text-align: right;\n",
       "    }\n",
       "</style>\n",
       "<table border=\"1\" class=\"dataframe\">\n",
       "  <thead>\n",
       "    <tr style=\"text-align: right;\">\n",
       "      <th></th>\n",
       "      <th>feature</th>\n",
       "      <th>importance</th>\n",
       "    </tr>\n",
       "  </thead>\n",
       "  <tbody>\n",
       "    <tr>\n",
       "      <th>13</th>\n",
       "      <td>amount_paid</td>\n",
       "      <td>0.152198</td>\n",
       "    </tr>\n",
       "    <tr>\n",
       "      <th>6</th>\n",
       "      <td>completed</td>\n",
       "      <td>0.140634</td>\n",
       "    </tr>\n",
       "    <tr>\n",
       "      <th>2</th>\n",
       "      <td>language_level</td>\n",
       "      <td>0.128131</td>\n",
       "    </tr>\n",
       "    <tr>\n",
       "      <th>0</th>\n",
       "      <td>age</td>\n",
       "      <td>0.108672</td>\n",
       "    </tr>\n",
       "    <tr>\n",
       "      <th>8</th>\n",
       "      <td>student_skipped</td>\n",
       "      <td>0.085073</td>\n",
       "    </tr>\n",
       "    <tr>\n",
       "      <th>1</th>\n",
       "      <td>gender</td>\n",
       "      <td>0.071816</td>\n",
       "    </tr>\n",
       "    <tr>\n",
       "      <th>3</th>\n",
       "      <td>is_trial</td>\n",
       "      <td>0.065417</td>\n",
       "    </tr>\n",
       "    <tr>\n",
       "      <th>11</th>\n",
       "      <td>changes</td>\n",
       "      <td>0.059474</td>\n",
       "    </tr>\n",
       "    <tr>\n",
       "      <th>12</th>\n",
       "      <td>is_lead_successful</td>\n",
       "      <td>0.039406</td>\n",
       "    </tr>\n",
       "    <tr>\n",
       "      <th>14</th>\n",
       "      <td>payments</td>\n",
       "      <td>0.036783</td>\n",
       "    </tr>\n",
       "  </tbody>\n",
       "</table>\n",
       "</div>"
      ],
      "text/plain": [
       "               feature  importance\n",
       "13         amount_paid    0.152198\n",
       "6            completed    0.140634\n",
       "2       language_level    0.128131\n",
       "0                  age    0.108672\n",
       "8      student_skipped    0.085073\n",
       "1               gender    0.071816\n",
       "3             is_trial    0.065417\n",
       "11             changes    0.059474\n",
       "12  is_lead_successful    0.039406\n",
       "14            payments    0.036783"
      ]
     },
     "execution_count": 119,
     "metadata": {},
     "output_type": "execute_result"
    }
   ],
   "source": [
    "pd.DataFrame({'feature': oversample_X_train.columns,\n",
    "              'importance': up_rf_model.feature_importances_}).sort_values('importance', ascending=False).head(10)"
   ]
  },
  {
   "cell_type": "markdown",
   "metadata": {},
   "source": [
    "### c. Модель дерева принятия решений"
   ]
  },
  {
   "cell_type": "code",
   "execution_count": 120,
   "metadata": {},
   "outputs": [
    {
     "data": {
      "text/plain": [
       "DecisionTreeClassifier(ccp_alpha=0.0, class_weight=None, criterion='gini',\n",
       "                       max_depth=10, max_features=None, max_leaf_nodes=None,\n",
       "                       min_impurity_decrease=0.0, min_impurity_split=None,\n",
       "                       min_samples_leaf=1, min_samples_split=2,\n",
       "                       min_weight_fraction_leaf=0.0, presort='deprecated',\n",
       "                       random_state=42, splitter='best')"
      ]
     },
     "execution_count": 120,
     "metadata": {},
     "output_type": "execute_result"
    }
   ],
   "source": [
    "up_tree_model = DecisionTreeClassifier(random_state=42, criterion='gini', \n",
    "                                    min_samples_split=2, min_samples_leaf=1, max_depth=10)\n",
    "up_tree_model.fit(oversample_X_train, oversample_y_train)"
   ]
  },
  {
   "cell_type": "code",
   "execution_count": 121,
   "metadata": {},
   "outputs": [],
   "source": [
    "tree_predictions = up_tree_model.predict(X_test)\n",
    "tree_probabilities = up_tree_model.predict_proba(X_test)[:,1]"
   ]
  },
  {
   "cell_type": "code",
   "execution_count": 122,
   "metadata": {},
   "outputs": [
    {
     "name": "stdout",
     "output_type": "stream",
     "text": [
      "[[286 175]\n",
      " [344 424]]\n",
      "              precision    recall  f1-score   support\n",
      "\n",
      "           0       0.45      0.62      0.52       461\n",
      "           1       0.71      0.55      0.62       768\n",
      "\n",
      "    accuracy                           0.58      1229\n",
      "   macro avg       0.58      0.59      0.57      1229\n",
      "weighted avg       0.61      0.58      0.58      1229\n",
      "\n"
     ]
    }
   ],
   "source": [
    "print(confusion_matrix(y_test, tree_predictions))\n",
    "print(classification_report(y_test, tree_predictions))"
   ]
  },
  {
   "cell_type": "code",
   "execution_count": 123,
   "metadata": {},
   "outputs": [
    {
     "data": {
      "text/plain": [
       "0.5777054515866559"
      ]
     },
     "execution_count": 123,
     "metadata": {},
     "output_type": "execute_result"
    }
   ],
   "source": [
    "tree_score = up_tree_model.score(X_test, y_test)\n",
    "tree_score"
   ]
  },
  {
   "cell_type": "code",
   "execution_count": 124,
   "metadata": {},
   "outputs": [
    {
     "data": {
      "image/png": "[encoded data removed]",
      "text/plain": [
       "<Figure size 432x288 with 1 Axes>"
      ]
     },
     "metadata": {},
     "output_type": "display_data"
    }
   ],
   "source": [
    "# ROC CURVE\n",
    "\n",
    "fpr, tpr, thresholds = roc_curve(y_test, tree_probabilities)\n",
    "\n",
    "plt.plot([0, 1], [0, 1], 'k--')\n",
    "plt.plot(fpr, tpr)\n",
    "plt.xlabel('False Positive Rate')\n",
    "plt.ylabel('True Positive Rate')\n",
    "plt.title('ROC Curve')\n",
    "plt.show()"
   ]
  },
  {
   "cell_type": "code",
   "execution_count": 125,
   "metadata": {},
   "outputs": [
    {
     "data": {
      "text/html": [
       "<div>\n",
       "<style scoped>\n",
       "    .dataframe tbody tr th:only-of-type {\n",
       "        vertical-align: middle;\n",
       "    }\n",
       "\n",
       "    .dataframe tbody tr th {\n",
       "        vertical-align: top;\n",
       "    }\n",
       "\n",
       "    .dataframe thead th {\n",
       "        text-align: right;\n",
       "    }\n",
       "</style>\n",
       "<table border=\"1\" class=\"dataframe\">\n",
       "  <thead>\n",
       "    <tr style=\"text-align: right;\">\n",
       "      <th></th>\n",
       "      <th>feature</th>\n",
       "      <th>importance</th>\n",
       "    </tr>\n",
       "  </thead>\n",
       "  <tbody>\n",
       "    <tr>\n",
       "      <th>3</th>\n",
       "      <td>is_trial</td>\n",
       "      <td>0.148082</td>\n",
       "    </tr>\n",
       "    <tr>\n",
       "      <th>2</th>\n",
       "      <td>language_level</td>\n",
       "      <td>0.143315</td>\n",
       "    </tr>\n",
       "    <tr>\n",
       "      <th>0</th>\n",
       "      <td>age</td>\n",
       "      <td>0.129877</td>\n",
       "    </tr>\n",
       "    <tr>\n",
       "      <th>6</th>\n",
       "      <td>completed</td>\n",
       "      <td>0.116002</td>\n",
       "    </tr>\n",
       "    <tr>\n",
       "      <th>13</th>\n",
       "      <td>amount_paid</td>\n",
       "      <td>0.109849</td>\n",
       "    </tr>\n",
       "    <tr>\n",
       "      <th>8</th>\n",
       "      <td>student_skipped</td>\n",
       "      <td>0.095410</td>\n",
       "    </tr>\n",
       "    <tr>\n",
       "      <th>11</th>\n",
       "      <td>changes</td>\n",
       "      <td>0.078102</td>\n",
       "    </tr>\n",
       "    <tr>\n",
       "      <th>7</th>\n",
       "      <td>declined</td>\n",
       "      <td>0.034451</td>\n",
       "    </tr>\n",
       "    <tr>\n",
       "      <th>1</th>\n",
       "      <td>gender</td>\n",
       "      <td>0.030358</td>\n",
       "    </tr>\n",
       "    <tr>\n",
       "      <th>10</th>\n",
       "      <td>canceled</td>\n",
       "      <td>0.028515</td>\n",
       "    </tr>\n",
       "  </tbody>\n",
       "</table>\n",
       "</div>"
      ],
      "text/plain": [
       "            feature  importance\n",
       "3          is_trial    0.148082\n",
       "2    language_level    0.143315\n",
       "0               age    0.129877\n",
       "6         completed    0.116002\n",
       "13      amount_paid    0.109849\n",
       "8   student_skipped    0.095410\n",
       "11          changes    0.078102\n",
       "7          declined    0.034451\n",
       "1            gender    0.030358\n",
       "10         canceled    0.028515"
      ]
     },
     "execution_count": 125,
     "metadata": {},
     "output_type": "execute_result"
    }
   ],
   "source": [
    "pd.DataFrame({'feature': oversample_X_train.columns,\n",
    "              'importance': up_tree_model.feature_importances_}).sort_values('importance', ascending=False).head(10)"
   ]
  },
  {
   "cell_type": "markdown",
   "metadata": {},
   "source": [
    "### d. Модель наивной байесовской классификации"
   ]
  },
  {
   "cell_type": "code",
   "execution_count": 126,
   "metadata": {},
   "outputs": [
    {
     "data": {
      "text/plain": [
       "GaussianNB(priors=None, var_smoothing=1e-09)"
      ]
     },
     "execution_count": 126,
     "metadata": {},
     "output_type": "execute_result"
    }
   ],
   "source": [
    "up_gnb = GaussianNB()\n",
    "up_gnb.fit(oversample_X_train, oversample_y_train)"
   ]
  },
  {
   "cell_type": "code",
   "execution_count": 127,
   "metadata": {},
   "outputs": [],
   "source": [
    "gnb_predictions = up_gnb.predict(X_test)\n",
    "gnb_probabilities = up_gnb.predict_proba(X_test)[:,1]"
   ]
  },
  {
   "cell_type": "code",
   "execution_count": 128,
   "metadata": {},
   "outputs": [
    {
     "name": "stdout",
     "output_type": "stream",
     "text": [
      "[[307 154]\n",
      " [371 397]]\n",
      "              precision    recall  f1-score   support\n",
      "\n",
      "           0       0.45      0.67      0.54       461\n",
      "           1       0.72      0.52      0.60       768\n",
      "\n",
      "    accuracy                           0.57      1229\n",
      "   macro avg       0.59      0.59      0.57      1229\n",
      "weighted avg       0.62      0.57      0.58      1229\n",
      "\n"
     ]
    }
   ],
   "source": [
    "print(confusion_matrix(y_test, gnb_predictions))\n",
    "print(classification_report(y_test, gnb_predictions))"
   ]
  },
  {
   "cell_type": "code",
   "execution_count": 129,
   "metadata": {},
   "outputs": [
    {
     "data": {
      "text/plain": [
       "0.5728234336859235"
      ]
     },
     "execution_count": 129,
     "metadata": {},
     "output_type": "execute_result"
    }
   ],
   "source": [
    "gnb_score = up_gnb.score(X_test, y_test)\n",
    "gnb_score"
   ]
  },
  {
   "cell_type": "code",
   "execution_count": 130,
   "metadata": {},
   "outputs": [
    {
     "data": {
      "image/png": "[encoded data removed]",
      "text/plain": [
       "<Figure size 432x288 with 1 Axes>"
      ]
     },
     "metadata": {},
     "output_type": "display_data"
    }
   ],
   "source": [
    "# ROC CURVE\n",
    "\n",
    "fpr, tpr, thresholds = roc_curve(y_test, gnb_probabilities)\n",
    "\n",
    "plt.plot([0, 1], [0, 1], 'k--')\n",
    "plt.plot(fpr, tpr)\n",
    "plt.xlabel('False Positive Rate')\n",
    "plt.ylabel('True Positive Rate')\n",
    "plt.title('ROC Curve')\n",
    "plt.show()"
   ]
  },
  {
   "cell_type": "markdown",
   "metadata": {},
   "source": [
    "### Сравнение моделей по метрике accuracy"
   ]
  },
  {
   "cell_type": "code",
   "execution_count": 131,
   "metadata": {},
   "outputs": [
    {
     "data": {
      "text/html": [
       "<div>\n",
       "<style scoped>\n",
       "    .dataframe tbody tr th:only-of-type {\n",
       "        vertical-align: middle;\n",
       "    }\n",
       "\n",
       "    .dataframe tbody tr th {\n",
       "        vertical-align: top;\n",
       "    }\n",
       "\n",
       "    .dataframe thead th {\n",
       "        text-align: right;\n",
       "    }\n",
       "</style>\n",
       "<table border=\"1\" class=\"dataframe\">\n",
       "  <thead>\n",
       "    <tr style=\"text-align: right;\">\n",
       "      <th></th>\n",
       "      <th>Model</th>\n",
       "      <th>Accuracy</th>\n",
       "    </tr>\n",
       "  </thead>\n",
       "  <tbody>\n",
       "    <tr>\n",
       "      <th>0</th>\n",
       "      <td>Log_model</td>\n",
       "      <td>0.595606</td>\n",
       "    </tr>\n",
       "    <tr>\n",
       "      <th>1</th>\n",
       "      <td>Random forest</td>\n",
       "      <td>0.617575</td>\n",
       "    </tr>\n",
       "    <tr>\n",
       "      <th>2</th>\n",
       "      <td>Decision tree</td>\n",
       "      <td>0.577705</td>\n",
       "    </tr>\n",
       "    <tr>\n",
       "      <th>3</th>\n",
       "      <td>Naive Bayes</td>\n",
       "      <td>0.572823</td>\n",
       "    </tr>\n",
       "  </tbody>\n",
       "</table>\n",
       "</div>"
      ],
      "text/plain": [
       "           Model  Accuracy\n",
       "0      Log_model  0.595606\n",
       "1  Random forest  0.617575\n",
       "2  Decision tree  0.577705\n",
       "3    Naive Bayes  0.572823"
      ]
     },
     "execution_count": 131,
     "metadata": {},
     "output_type": "execute_result"
    }
   ],
   "source": [
    "data = [['Log_model',log_score],\n",
    "        ['Random forest',rf_score],\n",
    "        ['Decision tree',tree_score],\n",
    "        ['Naive Bayes',gnb_score]\n",
    "       ]\n",
    "columns= ['Model','Accuracy']\n",
    "\n",
    "metrics = pd.DataFrame(data = data, columns = columns)\n",
    "metrics"
   ]
  },
  {
   "cell_type": "code",
   "execution_count": 132,
   "metadata": {
    "scrolled": true
   },
   "outputs": [
    {
     "data": {
      "image/png": "[encoded data removed]",
      "text/plain": [
       "<Figure size 432x288 with 1 Axes>"
      ]
     },
     "metadata": {},
     "output_type": "display_data"
    }
   ],
   "source": [
    "ax = sns.barplot(x='Accuracy', y='Model', data=metrics);\n",
    "plt.xlim(0,1)\n",
    "\n",
    "initialx=0\n",
    "for p in ax.patches:\n",
    "    ax.text(p.get_width()+0.01,initialx+p.get_height()/5,'{:.2f}'.format(p.get_width()),weight='bold', size=12)\n",
    "    initialx+=1"
   ]
  },
  {
   "cell_type": "markdown",
   "metadata": {},
   "source": [
    "### 4.4. По самым важным признакам <a name=\"4.4step\"></a> "
   ]
  },
  {
   "cell_type": "markdown",
   "metadata": {},
   "source": [
    "Для каждой модели возьмем те признаки, которые имеют важность более, чем 0.05"
   ]
  },
  {
   "cell_type": "markdown",
   "metadata": {},
   "source": [
    "### а. Логистическая регрессия"
   ]
  },
  {
   "cell_type": "code",
   "execution_count": 133,
   "metadata": {},
   "outputs": [
    {
     "data": {
      "text/plain": [
       "8     student_skipped\n",
       "7            declined\n",
       "10           canceled\n",
       "0                 age\n",
       "6           completed\n",
       "14           payments\n",
       "11            changes\n",
       "Name: feature, dtype: object"
      ]
     },
     "execution_count": 133,
     "metadata": {},
     "output_type": "execute_result"
    }
   ],
   "source": [
    "log_features_list = log_features.query('importance >= 0.05')['feature']\n",
    "log_features_list"
   ]
  },
  {
   "cell_type": "code",
   "execution_count": 134,
   "metadata": {},
   "outputs": [],
   "source": [
    "y = df['is_churn'] #целевая переменная\n",
    "X = df[log_features_list] #признаки"
   ]
  },
  {
   "cell_type": "code",
   "execution_count": 135,
   "metadata": {},
   "outputs": [],
   "source": [
    "X_train, X_test, y_train, y_test = train_test_split(X,y, test_size=0.2, random_state=42)"
   ]
  },
  {
   "cell_type": "code",
   "execution_count": 136,
   "metadata": {
    "scrolled": true
   },
   "outputs": [
    {
     "data": {
      "text/plain": [
       "LogisticRegression(C=1.0, class_weight=None, dual=False, fit_intercept=True,\n",
       "                   intercept_scaling=1, l1_ratio=None, max_iter=100,\n",
       "                   multi_class='auto', n_jobs=None, penalty='l2',\n",
       "                   random_state=42, solver='lbfgs', tol=0.0001, verbose=0,\n",
       "                   warm_start=False)"
      ]
     },
     "execution_count": 136,
     "metadata": {},
     "output_type": "execute_result"
    }
   ],
   "source": [
    "#обучаем модель логистической регрессии\n",
    "cut_log_model = LogisticRegression(random_state = 42)\n",
    "cut_log_model.fit(X_train,y_train)"
   ]
  },
  {
   "cell_type": "code",
   "execution_count": 137,
   "metadata": {},
   "outputs": [],
   "source": [
    "#воспользуемся обученной моделью на валидационной выборке\n",
    "log_predictions = cut_log_model.predict(X_test)\n",
    "log_probabilities = cut_log_model.predict_proba(X_test)[:,1]"
   ]
  },
  {
   "cell_type": "code",
   "execution_count": 138,
   "metadata": {},
   "outputs": [
    {
     "name": "stdout",
     "output_type": "stream",
     "text": [
      "[[ 67 394]\n",
      " [ 48 720]]\n",
      "              precision    recall  f1-score   support\n",
      "\n",
      "           0       0.58      0.15      0.23       461\n",
      "           1       0.65      0.94      0.77       768\n",
      "\n",
      "    accuracy                           0.64      1229\n",
      "   macro avg       0.61      0.54      0.50      1229\n",
      "weighted avg       0.62      0.64      0.57      1229\n",
      "\n"
     ]
    }
   ],
   "source": [
    "print(confusion_matrix(y_test, log_predictions))\n",
    "print(classification_report(y_test, log_predictions))"
   ]
  },
  {
   "cell_type": "code",
   "execution_count": 139,
   "metadata": {},
   "outputs": [
    {
     "data": {
      "text/plain": [
       "0.6403580146460537"
      ]
     },
     "execution_count": 139,
     "metadata": {},
     "output_type": "execute_result"
    }
   ],
   "source": [
    "log_score = cut_log_model.score(X_test, y_test)\n",
    "log_score"
   ]
  },
  {
   "cell_type": "code",
   "execution_count": 140,
   "metadata": {},
   "outputs": [
    {
     "data": {
      "image/png": "[encoded data removed]",
      "text/plain": [
       "<Figure size 432x288 with 1 Axes>"
      ]
     },
     "metadata": {},
     "output_type": "display_data"
    }
   ],
   "source": [
    "# ROC CURVE\n",
    "\n",
    "fpr, tpr, thresholds = roc_curve(y_test, log_probabilities)\n",
    "\n",
    "plt.plot([0, 1], [0, 1], 'k--')\n",
    "plt.plot(fpr, tpr)\n",
    "plt.xlabel('False Positive Rate')\n",
    "plt.ylabel('True Positive Rate')\n",
    "plt.title('ROC Curve')\n",
    "plt.show()"
   ]
  },
  {
   "cell_type": "code",
   "execution_count": 141,
   "metadata": {},
   "outputs": [
    {
     "data": {
      "text/html": [
       "<div>\n",
       "<style scoped>\n",
       "    .dataframe tbody tr th:only-of-type {\n",
       "        vertical-align: middle;\n",
       "    }\n",
       "\n",
       "    .dataframe tbody tr th {\n",
       "        vertical-align: top;\n",
       "    }\n",
       "\n",
       "    .dataframe thead th {\n",
       "        text-align: right;\n",
       "    }\n",
       "</style>\n",
       "<table border=\"1\" class=\"dataframe\">\n",
       "  <thead>\n",
       "    <tr style=\"text-align: right;\">\n",
       "      <th></th>\n",
       "      <th>feature</th>\n",
       "      <th>importance</th>\n",
       "    </tr>\n",
       "  </thead>\n",
       "  <tbody>\n",
       "    <tr>\n",
       "      <th>0</th>\n",
       "      <td>student_skipped</td>\n",
       "      <td>0.361740</td>\n",
       "    </tr>\n",
       "    <tr>\n",
       "      <th>1</th>\n",
       "      <td>declined</td>\n",
       "      <td>0.136419</td>\n",
       "    </tr>\n",
       "    <tr>\n",
       "      <th>2</th>\n",
       "      <td>canceled</td>\n",
       "      <td>0.091233</td>\n",
       "    </tr>\n",
       "    <tr>\n",
       "      <th>6</th>\n",
       "      <td>changes</td>\n",
       "      <td>0.065590</td>\n",
       "    </tr>\n",
       "    <tr>\n",
       "      <th>4</th>\n",
       "      <td>completed</td>\n",
       "      <td>-0.003466</td>\n",
       "    </tr>\n",
       "    <tr>\n",
       "      <th>3</th>\n",
       "      <td>age</td>\n",
       "      <td>-0.015952</td>\n",
       "    </tr>\n",
       "    <tr>\n",
       "      <th>5</th>\n",
       "      <td>payments</td>\n",
       "      <td>-0.585479</td>\n",
       "    </tr>\n",
       "  </tbody>\n",
       "</table>\n",
       "</div>"
      ],
      "text/plain": [
       "           feature  importance\n",
       "0  student_skipped    0.361740\n",
       "1         declined    0.136419\n",
       "2         canceled    0.091233\n",
       "6          changes    0.065590\n",
       "4        completed   -0.003466\n",
       "3              age   -0.015952\n",
       "5         payments   -0.585479"
      ]
     },
     "execution_count": 141,
     "metadata": {},
     "output_type": "execute_result"
    }
   ],
   "source": [
    "pd.DataFrame({'feature': X_train.columns,\n",
    "              'importance': np.round(cut_log_model.coef_[0], 6)}).sort_values('importance', ascending=False).head(10)"
   ]
  },
  {
   "cell_type": "markdown",
   "metadata": {},
   "source": [
    "### b. Модель случайного леса"
   ]
  },
  {
   "cell_type": "code",
   "execution_count": 142,
   "metadata": {},
   "outputs": [
    {
     "data": {
      "text/plain": [
       "13        amount_paid\n",
       "6           completed\n",
       "2      language_level\n",
       "0                 age\n",
       "8     student_skipped\n",
       "1              gender\n",
       "11            changes\n",
       "3            is_trial\n",
       "Name: feature, dtype: object"
      ]
     },
     "execution_count": 142,
     "metadata": {},
     "output_type": "execute_result"
    }
   ],
   "source": [
    "rf_features_list = rf_features.query('importance >= 0.05')['feature']\n",
    "rf_features_list"
   ]
  },
  {
   "cell_type": "code",
   "execution_count": 143,
   "metadata": {},
   "outputs": [],
   "source": [
    "y = df['is_churn'] #целевая переменная\n",
    "X = df[rf_features_list] #признаки"
   ]
  },
  {
   "cell_type": "code",
   "execution_count": 144,
   "metadata": {},
   "outputs": [],
   "source": [
    "X_train, X_test, y_train, y_test = train_test_split(X,y, test_size=0.2, random_state=42)"
   ]
  },
  {
   "cell_type": "code",
   "execution_count": 145,
   "metadata": {},
   "outputs": [
    {
     "data": {
      "text/plain": [
       "RandomForestClassifier(bootstrap=True, ccp_alpha=0.0, class_weight=None,\n",
       "                       criterion='gini', max_depth=10, max_features='auto',\n",
       "                       max_leaf_nodes=None, max_samples=None,\n",
       "                       min_impurity_decrease=0.0, min_impurity_split=None,\n",
       "                       min_samples_leaf=1, min_samples_split=2,\n",
       "                       min_weight_fraction_leaf=0.0, n_estimators=30,\n",
       "                       n_jobs=None, oob_score=False, random_state=42, verbose=0,\n",
       "                       warm_start=False)"
      ]
     },
     "execution_count": 145,
     "metadata": {},
     "output_type": "execute_result"
    }
   ],
   "source": [
    "#обучаем модель случайного леса\n",
    "cut_rf_model = RandomForestClassifier(random_state=42, n_estimators=30, \n",
    "                             criterion='gini', min_samples_split=2, min_samples_leaf=1, max_depth=10)\n",
    "cut_rf_model.fit(X_train, y_train)"
   ]
  },
  {
   "cell_type": "code",
   "execution_count": 146,
   "metadata": {},
   "outputs": [],
   "source": [
    "rf_predictions = cut_rf_model.predict(X_test)\n",
    "rf_probabilities = cut_rf_model.predict_proba(X_test)[:,1]"
   ]
  },
  {
   "cell_type": "code",
   "execution_count": 147,
   "metadata": {},
   "outputs": [
    {
     "name": "stdout",
     "output_type": "stream",
     "text": [
      "[[140 321]\n",
      " [114 654]]\n",
      "              precision    recall  f1-score   support\n",
      "\n",
      "           0       0.55      0.30      0.39       461\n",
      "           1       0.67      0.85      0.75       768\n",
      "\n",
      "    accuracy                           0.65      1229\n",
      "   macro avg       0.61      0.58      0.57      1229\n",
      "weighted avg       0.63      0.65      0.62      1229\n",
      "\n"
     ]
    }
   ],
   "source": [
    "print(confusion_matrix(y_test, rf_predictions))\n",
    "print(classification_report(y_test, rf_predictions))"
   ]
  },
  {
   "cell_type": "code",
   "execution_count": 148,
   "metadata": {},
   "outputs": [
    {
     "data": {
      "text/plain": [
       "0.646053702196908"
      ]
     },
     "execution_count": 148,
     "metadata": {},
     "output_type": "execute_result"
    }
   ],
   "source": [
    "rf_score = cut_rf_model.score(X_test, y_test)\n",
    "rf_score"
   ]
  },
  {
   "cell_type": "code",
   "execution_count": 149,
   "metadata": {},
   "outputs": [
    {
     "data": {
      "image/png": "[encoded data removed]",
      "text/plain": [
       "<Figure size 432x288 with 1 Axes>"
      ]
     },
     "metadata": {},
     "output_type": "display_data"
    }
   ],
   "source": [
    "# ROC CURVE\n",
    "\n",
    "fpr, tpr, thresholds = roc_curve(y_test, rf_probabilities)\n",
    "\n",
    "plt.plot([0, 1], [0, 1], 'k--')\n",
    "plt.plot(fpr, tpr)\n",
    "plt.xlabel('False Positive Rate')\n",
    "plt.ylabel('True Positive Rate')\n",
    "plt.title('ROC Curve')\n",
    "plt.show()"
   ]
  },
  {
   "cell_type": "code",
   "execution_count": 150,
   "metadata": {},
   "outputs": [
    {
     "data": {
      "text/html": [
       "<div>\n",
       "<style scoped>\n",
       "    .dataframe tbody tr th:only-of-type {\n",
       "        vertical-align: middle;\n",
       "    }\n",
       "\n",
       "    .dataframe tbody tr th {\n",
       "        vertical-align: top;\n",
       "    }\n",
       "\n",
       "    .dataframe thead th {\n",
       "        text-align: right;\n",
       "    }\n",
       "</style>\n",
       "<table border=\"1\" class=\"dataframe\">\n",
       "  <thead>\n",
       "    <tr style=\"text-align: right;\">\n",
       "      <th></th>\n",
       "      <th>feature</th>\n",
       "      <th>importance</th>\n",
       "    </tr>\n",
       "  </thead>\n",
       "  <tbody>\n",
       "    <tr>\n",
       "      <th>0</th>\n",
       "      <td>amount_paid</td>\n",
       "      <td>0.191458</td>\n",
       "    </tr>\n",
       "    <tr>\n",
       "      <th>1</th>\n",
       "      <td>completed</td>\n",
       "      <td>0.167408</td>\n",
       "    </tr>\n",
       "    <tr>\n",
       "      <th>3</th>\n",
       "      <td>age</td>\n",
       "      <td>0.152532</td>\n",
       "    </tr>\n",
       "    <tr>\n",
       "      <th>2</th>\n",
       "      <td>language_level</td>\n",
       "      <td>0.140399</td>\n",
       "    </tr>\n",
       "    <tr>\n",
       "      <th>6</th>\n",
       "      <td>changes</td>\n",
       "      <td>0.088610</td>\n",
       "    </tr>\n",
       "    <tr>\n",
       "      <th>7</th>\n",
       "      <td>is_trial</td>\n",
       "      <td>0.088259</td>\n",
       "    </tr>\n",
       "    <tr>\n",
       "      <th>4</th>\n",
       "      <td>student_skipped</td>\n",
       "      <td>0.086180</td>\n",
       "    </tr>\n",
       "    <tr>\n",
       "      <th>5</th>\n",
       "      <td>gender</td>\n",
       "      <td>0.085154</td>\n",
       "    </tr>\n",
       "  </tbody>\n",
       "</table>\n",
       "</div>"
      ],
      "text/plain": [
       "           feature  importance\n",
       "0      amount_paid    0.191458\n",
       "1        completed    0.167408\n",
       "3              age    0.152532\n",
       "2   language_level    0.140399\n",
       "6          changes    0.088610\n",
       "7         is_trial    0.088259\n",
       "4  student_skipped    0.086180\n",
       "5           gender    0.085154"
      ]
     },
     "execution_count": 150,
     "metadata": {},
     "output_type": "execute_result"
    }
   ],
   "source": [
    "rf_features = pd.DataFrame({'feature': X_train.columns,\n",
    "              'importance': cut_rf_model.feature_importances_}).sort_values('importance', ascending=False).head(10)\n",
    "rf_features"
   ]
  },
  {
   "cell_type": "markdown",
   "metadata": {},
   "source": [
    "### c. Модель дерева принятия решений"
   ]
  },
  {
   "cell_type": "code",
   "execution_count": 151,
   "metadata": {},
   "outputs": [
    {
     "data": {
      "text/plain": [
       "0                 age\n",
       "6           completed\n",
       "3            is_trial\n",
       "13        amount_paid\n",
       "2      language_level\n",
       "8     student_skipped\n",
       "11            changes\n",
       "Name: feature, dtype: object"
      ]
     },
     "execution_count": 151,
     "metadata": {},
     "output_type": "execute_result"
    }
   ],
   "source": [
    "tree_features_list = tree_features.query('importance >= 0.05')['feature']\n",
    "tree_features_list"
   ]
  },
  {
   "cell_type": "code",
   "execution_count": 152,
   "metadata": {},
   "outputs": [],
   "source": [
    "y = df['is_churn'] #целевая переменная\n",
    "X = df[tree_features_list] #признаки"
   ]
  },
  {
   "cell_type": "code",
   "execution_count": 153,
   "metadata": {},
   "outputs": [],
   "source": [
    "X_train, X_test, y_train, y_test = train_test_split(X,y, test_size=0.2, random_state=42)"
   ]
  },
  {
   "cell_type": "code",
   "execution_count": 154,
   "metadata": {},
   "outputs": [
    {
     "data": {
      "text/plain": [
       "DecisionTreeClassifier(ccp_alpha=0.0, class_weight=None, criterion='gini',\n",
       "                       max_depth=10, max_features=None, max_leaf_nodes=None,\n",
       "                       min_impurity_decrease=0.0, min_impurity_split=None,\n",
       "                       min_samples_leaf=1, min_samples_split=2,\n",
       "                       min_weight_fraction_leaf=0.0, presort='deprecated',\n",
       "                       random_state=42, splitter='best')"
      ]
     },
     "execution_count": 154,
     "metadata": {},
     "output_type": "execute_result"
    }
   ],
   "source": [
    "cut_tree_model = DecisionTreeClassifier(random_state=42, criterion='gini', \n",
    "                                    min_samples_split=2, min_samples_leaf=1, max_depth=10)\n",
    "cut_tree_model.fit(X_train, y_train)"
   ]
  },
  {
   "cell_type": "code",
   "execution_count": 155,
   "metadata": {},
   "outputs": [],
   "source": [
    "tree_predictions = cut_tree_model.predict(X_test)\n",
    "tree_probabilities = cut_tree_model.predict_proba(X_test)[:,1]"
   ]
  },
  {
   "cell_type": "code",
   "execution_count": 156,
   "metadata": {},
   "outputs": [
    {
     "name": "stdout",
     "output_type": "stream",
     "text": [
      "[[152 309]\n",
      " [164 604]]\n",
      "              precision    recall  f1-score   support\n",
      "\n",
      "           0       0.48      0.33      0.39       461\n",
      "           1       0.66      0.79      0.72       768\n",
      "\n",
      "    accuracy                           0.62      1229\n",
      "   macro avg       0.57      0.56      0.55      1229\n",
      "weighted avg       0.59      0.62      0.60      1229\n",
      "\n"
     ]
    }
   ],
   "source": [
    "print(confusion_matrix(y_test, tree_predictions))\n",
    "print(classification_report(y_test, tree_predictions))"
   ]
  },
  {
   "cell_type": "code",
   "execution_count": 157,
   "metadata": {},
   "outputs": [
    {
     "data": {
      "text/plain": [
       "0.6151342554922702"
      ]
     },
     "execution_count": 157,
     "metadata": {},
     "output_type": "execute_result"
    }
   ],
   "source": [
    "tree_score = cut_tree_model.score(X_test, y_test)\n",
    "tree_score"
   ]
  },
  {
   "cell_type": "code",
   "execution_count": 158,
   "metadata": {},
   "outputs": [
    {
     "data": {
      "image/png": "[encoded data removed]",
      "text/plain": [
       "<Figure size 432x288 with 1 Axes>"
      ]
     },
     "metadata": {},
     "output_type": "display_data"
    }
   ],
   "source": [
    "# ROC CURVE\n",
    "\n",
    "fpr, tpr, thresholds = roc_curve(y_test, tree_probabilities)\n",
    "\n",
    "plt.plot([0, 1], [0, 1], 'k--')\n",
    "plt.plot(fpr, tpr)\n",
    "plt.xlabel('False Positive Rate')\n",
    "plt.ylabel('True Positive Rate')\n",
    "plt.title('ROC Curve')\n",
    "plt.show()"
   ]
  },
  {
   "cell_type": "code",
   "execution_count": 159,
   "metadata": {
    "scrolled": true
   },
   "outputs": [
    {
     "data": {
      "text/html": [
       "<div>\n",
       "<style scoped>\n",
       "    .dataframe tbody tr th:only-of-type {\n",
       "        vertical-align: middle;\n",
       "    }\n",
       "\n",
       "    .dataframe tbody tr th {\n",
       "        vertical-align: top;\n",
       "    }\n",
       "\n",
       "    .dataframe thead th {\n",
       "        text-align: right;\n",
       "    }\n",
       "</style>\n",
       "<table border=\"1\" class=\"dataframe\">\n",
       "  <thead>\n",
       "    <tr style=\"text-align: right;\">\n",
       "      <th></th>\n",
       "      <th>feature</th>\n",
       "      <th>importance</th>\n",
       "    </tr>\n",
       "  </thead>\n",
       "  <tbody>\n",
       "    <tr>\n",
       "      <th>0</th>\n",
       "      <td>age</td>\n",
       "      <td>0.202706</td>\n",
       "    </tr>\n",
       "    <tr>\n",
       "      <th>1</th>\n",
       "      <td>completed</td>\n",
       "      <td>0.172771</td>\n",
       "    </tr>\n",
       "    <tr>\n",
       "      <th>3</th>\n",
       "      <td>amount_paid</td>\n",
       "      <td>0.165567</td>\n",
       "    </tr>\n",
       "    <tr>\n",
       "      <th>2</th>\n",
       "      <td>is_trial</td>\n",
       "      <td>0.140604</td>\n",
       "    </tr>\n",
       "    <tr>\n",
       "      <th>4</th>\n",
       "      <td>language_level</td>\n",
       "      <td>0.138504</td>\n",
       "    </tr>\n",
       "    <tr>\n",
       "      <th>6</th>\n",
       "      <td>changes</td>\n",
       "      <td>0.090913</td>\n",
       "    </tr>\n",
       "    <tr>\n",
       "      <th>5</th>\n",
       "      <td>student_skipped</td>\n",
       "      <td>0.088935</td>\n",
       "    </tr>\n",
       "  </tbody>\n",
       "</table>\n",
       "</div>"
      ],
      "text/plain": [
       "           feature  importance\n",
       "0              age    0.202706\n",
       "1        completed    0.172771\n",
       "3      amount_paid    0.165567\n",
       "2         is_trial    0.140604\n",
       "4   language_level    0.138504\n",
       "6          changes    0.090913\n",
       "5  student_skipped    0.088935"
      ]
     },
     "execution_count": 159,
     "metadata": {},
     "output_type": "execute_result"
    }
   ],
   "source": [
    "tree_features = pd.DataFrame({'feature': X_train.columns,\n",
    "              'importance': cut_tree_model.feature_importances_}).sort_values('importance', ascending=False).head(10)\n",
    "tree_features"
   ]
  },
  {
   "cell_type": "markdown",
   "metadata": {},
   "source": [
    "### Сравнение моделей по метрике accuracy"
   ]
  },
  {
   "cell_type": "code",
   "execution_count": 160,
   "metadata": {},
   "outputs": [
    {
     "data": {
      "text/html": [
       "<div>\n",
       "<style scoped>\n",
       "    .dataframe tbody tr th:only-of-type {\n",
       "        vertical-align: middle;\n",
       "    }\n",
       "\n",
       "    .dataframe tbody tr th {\n",
       "        vertical-align: top;\n",
       "    }\n",
       "\n",
       "    .dataframe thead th {\n",
       "        text-align: right;\n",
       "    }\n",
       "</style>\n",
       "<table border=\"1\" class=\"dataframe\">\n",
       "  <thead>\n",
       "    <tr style=\"text-align: right;\">\n",
       "      <th></th>\n",
       "      <th>Model</th>\n",
       "      <th>Accuracy</th>\n",
       "    </tr>\n",
       "  </thead>\n",
       "  <tbody>\n",
       "    <tr>\n",
       "      <th>0</th>\n",
       "      <td>Log_model</td>\n",
       "      <td>0.640358</td>\n",
       "    </tr>\n",
       "    <tr>\n",
       "      <th>1</th>\n",
       "      <td>Random forest</td>\n",
       "      <td>0.646054</td>\n",
       "    </tr>\n",
       "    <tr>\n",
       "      <th>2</th>\n",
       "      <td>Decision tree</td>\n",
       "      <td>0.615134</td>\n",
       "    </tr>\n",
       "    <tr>\n",
       "      <th>3</th>\n",
       "      <td>Naive Bayes</td>\n",
       "      <td>0.572823</td>\n",
       "    </tr>\n",
       "  </tbody>\n",
       "</table>\n",
       "</div>"
      ],
      "text/plain": [
       "           Model  Accuracy\n",
       "0      Log_model  0.640358\n",
       "1  Random forest  0.646054\n",
       "2  Decision tree  0.615134\n",
       "3    Naive Bayes  0.572823"
      ]
     },
     "execution_count": 160,
     "metadata": {},
     "output_type": "execute_result"
    }
   ],
   "source": [
    "data = [['Log_model',log_score],\n",
    "        ['Random forest',rf_score],\n",
    "        ['Decision tree',tree_score],\n",
    "        ['Naive Bayes',gnb_score]\n",
    "       ]\n",
    "columns= ['Model','Accuracy']\n",
    "\n",
    "metrics = pd.DataFrame(data = data, columns = columns)\n",
    "metrics"
   ]
  },
  {
   "cell_type": "code",
   "execution_count": 161,
   "metadata": {
    "scrolled": true
   },
   "outputs": [
    {
     "data": {
      "image/png": "[encoded data removed]",
      "text/plain": [
       "<Figure size 432x288 with 1 Axes>"
      ]
     },
     "metadata": {},
     "output_type": "display_data"
    }
   ],
   "source": [
    "ax = sns.barplot(x='Accuracy', y='Model', data=metrics);\n",
    "plt.xlim(0,1)\n",
    "\n",
    "initialx=0\n",
    "for p in ax.patches:\n",
    "    ax.text(p.get_width()+0.01,initialx+p.get_height()/5,'{:.2f}'.format(p.get_width()),weight='bold', size=12)\n",
    "    initialx+=1"
   ]
  },
  {
   "cell_type": "code",
   "execution_count": null,
   "metadata": {},
   "outputs": [],
   "source": []
  }
 ],
 "metadata": {
  "kernelspec": {
   "display_name": "Python 3",
   "language": "python",
   "name": "python3"
  },
  "language_info": {
   "codemirror_mode": {
    "name": "ipython",
    "version": 3
   },
   "file_extension": ".py",
   "mimetype": "text/x-python",
   "name": "python",
   "nbconvert_exporter": "python",
   "pygments_lexer": "ipython3",
   "version": "3.7.6"
  }
 },
 "nbformat": 4,
 "nbformat_minor": 4
}
